{
 "cells": [
  {
   "cell_type": "code",
   "execution_count": null,
   "id": "c65ea9e9",
   "metadata": {},
   "outputs": [],
   "source": []
  },
  {
   "cell_type": "code",
   "execution_count": 72,
   "id": "73298881",
   "metadata": {},
   "outputs": [],
   "source": [
    "HOMEPOS = {'peaks': [71010.6292271651], \n",
    "           'x': [1973.2404437789528], \n",
    "           'y': [876.9613588322487], \n",
    "           'fwhm': [3.22281051478188], \n",
    "           'energy': [3.4920851840174745]}"
   ]
  },
  {
   "cell_type": "code",
   "execution_count": 84,
   "id": "e5375e98",
   "metadata": {},
   "outputs": [],
   "source": [
    "from astropy.io import fits\n",
    "import os\n",
    "from spotfinder import spotfinder\n",
    "import matplotlib.pyplot as plt\n",
    "from glob import glob\n",
    "import numpy as np\n",
    "import math\n",
    "# import sys \n",
    "# sys.path.append(\"/data/common/software/products/\")\n",
    "import sbigCam as sbc\n",
    "import time\n",
    "import pandas as pd\n",
    "from scipy.stats import norm\n",
    "import matplotlib.colors as mcolors\n",
    "import circle_fit as cf\n",
    "\n",
    "plt.rcParams.update({\"figure.dpi\":130})"
   ]
  },
  {
   "cell_type": "code",
   "execution_count": 85,
   "id": "f8e81a21",
   "metadata": {},
   "outputs": [
    {
     "name": "stdout",
     "output_type": "stream",
     "text": [
      "['/home/msdos/um_scripts/sbigpics/tests/20230120-134814.fits', '/home/msdos/um_scripts/sbigpics/tests/20230120-134822.fits', '/home/msdos/um_scripts/sbigpics/tests/20230120-144736.fits', '/home/msdos/um_scripts/sbigpics/tests/20230120-145535.fits']\n"
     ]
    }
   ],
   "source": [
    "picspath = \"/home/msdos/um_scripts/sbigpics/tests/\"\n",
    "\n",
    "\n",
    "files=glob(f'{picspath}/*.fits') #grab the files from the new directory\n",
    "files.sort() #make sure files are in the order they were created\n",
    "print(files[-4:])\n",
    "# files = files[-1:]"
   ]
  },
  {
   "cell_type": "code",
   "execution_count": 86,
   "id": "756f1a46",
   "metadata": {},
   "outputs": [],
   "source": [
    "expected_spot_count = 1\n",
    "\n",
    "xdata=[]\n",
    "ydata=[]\n",
    "peaksdata=[]\n",
    "fwhmdata=[]\n",
    "energy=[]"
   ]
  },
  {
   "cell_type": "code",
   "execution_count": 87,
   "id": "63a948d3",
   "metadata": {},
   "outputs": [
    {
     "name": "stdout",
     "output_type": "stream",
     "text": [
      "******** /home/msdos/um_scripts/sbigpics/tests/20230120-134727.fits\n",
      "Edge hot spot\n",
      "Edge hot spot\n",
      "Edge hot spot\n",
      "Edge hot spot\n",
      "peak = 74019.39905249028 brightness appears out of expected range\n",
      " File: /home/msdos/um_scripts/sbigpics/tests/20230120-134727.fits\n",
      " Number of centroids requested: 1\n",
      " Fitboxsize: 7\n",
      " Centroid list:\n",
      " Spot  x          y         FWHM    Peak     LD  \n",
      "    0  1811.517   940.144   3.41    74019    3.85 \n",
      " Min peak   : 74019.40 \n",
      " Max peak   : 74019.40 \n",
      " Mean peak  : 74019.40 \n",
      " Sigma peak :     0.00 \n",
      "here\n",
      "{'peaks': [74019.39905249028], 'x': [1811.5167156805423], 'y': [940.1440194651359], 'fwhm': [3.4080592457136416], 'energy': [3.8492789700619063]}\n",
      "******** /home/msdos/um_scripts/sbigpics/tests/20230120-134734.fits\n",
      "Edge hot spot\n",
      "Edge hot spot\n",
      "Edge hot spot\n",
      "Edge hot spot\n",
      "peak = 73468.43886735837 brightness appears out of expected range\n",
      " File: /home/msdos/um_scripts/sbigpics/tests/20230120-134734.fits\n",
      " Number of centroids requested: 1\n",
      " Fitboxsize: 7\n",
      " Centroid list:\n",
      " Spot  x          y         FWHM    Peak     LD  \n",
      "    0  1806.584   846.696   3.37    73468    3.78 \n",
      " Min peak   : 73468.44 \n",
      " Max peak   : 73468.44 \n",
      " Mean peak  : 73468.44 \n",
      " Sigma peak :     0.00 \n",
      "here\n",
      "{'peaks': [73468.43886735837], 'x': [1806.5842747772033], 'y': [846.6964812677375], 'fwhm': [3.3729985948378554], 'energy': [3.7813220579008266]}\n",
      "******** /home/msdos/um_scripts/sbigpics/tests/20230120-134742.fits\n",
      "Edge hot spot\n",
      "Edge hot spot\n",
      "Edge hot spot\n",
      "Edge hot spot\n",
      "Edge hot spot\n",
      "peak = 71546.78491219247 brightness appears out of expected range\n",
      " File: /home/msdos/um_scripts/sbigpics/tests/20230120-134742.fits\n",
      " Number of centroids requested: 1\n",
      " Fitboxsize: 7\n",
      " Centroid list:\n",
      " Spot  x          y         FWHM    Peak     LD  \n",
      "    0  1856.122   760.406   3.26    71547    3.56 \n",
      " Min peak   : 71546.78 \n",
      " Max peak   : 71546.78 \n",
      " Mean peak  : 71546.78 \n",
      " Sigma peak :     0.00 \n",
      "here\n",
      "{'peaks': [71546.78491219247], 'x': [1856.1222870552174], 'y': [760.4058811054823], 'fwhm': [3.2645693766970507], 'energy': [3.564041245524897]}\n",
      "******** /home/msdos/um_scripts/sbigpics/tests/20230120-134750.fits\n",
      "Edge hot spot\n",
      "Edge hot spot\n",
      "Edge hot spot\n",
      "Edge hot spot\n",
      "Edge hot spot\n",
      "Edge hot spot\n",
      "peak = 71475.49161103978 brightness appears out of expected range\n",
      " File: /home/msdos/um_scripts/sbigpics/tests/20230120-134750.fits\n",
      " Number of centroids requested: 1\n",
      " Fitboxsize: 7\n",
      " Centroid list:\n",
      " Spot  x          y         FWHM    Peak     LD  \n",
      "    0  1945.263   716.521   3.18    71475    3.47 \n",
      " Min peak   : 71475.49 \n",
      " Max peak   : 71475.49 \n",
      " Mean peak  : 71475.49 \n",
      " Sigma peak :     0.00 \n",
      "here\n",
      "{'peaks': [71475.49161103978], 'x': [1945.2634052188375], 'y': [716.5208475788069], 'fwhm': [3.1774784482384733], 'energy': [3.465504450619191]}\n",
      "******** /home/msdos/um_scripts/sbigpics/tests/20230120-134758.fits\n",
      "Edge hot spot\n",
      "Edge hot spot\n",
      "Edge hot spot\n",
      "Edge hot spot\n",
      "Edge hot spot\n",
      "Edge hot spot\n",
      "peak = 70579.45668847792 brightness appears out of expected range\n",
      " File: /home/msdos/um_scripts/sbigpics/tests/20230120-134758.fits\n",
      " Number of centroids requested: 1\n",
      " Fitboxsize: 7\n",
      " Centroid list:\n",
      " Spot  x          y         FWHM    Peak     LD  \n",
      "    0  2044.225   730.026   3.18    70579    3.42 \n",
      " Min peak   : 70579.46 \n",
      " Max peak   : 70579.46 \n",
      " Mean peak  : 70579.46 \n",
      " Sigma peak :     0.00 \n",
      "here\n",
      "{'peaks': [70579.45668847792], 'x': [2044.2248725556003], 'y': [730.0255347708475], 'fwhm': [3.1771948545777495], 'energy': [3.421754583497752]}\n",
      "******** /home/msdos/um_scripts/sbigpics/tests/20230120-134806.fits\n",
      "Edge hot spot\n",
      "Edge hot spot\n",
      "Edge hot spot\n",
      "Edge hot spot\n",
      "peak = 75843.12296887694 brightness appears out of expected range\n",
      " File: /home/msdos/um_scripts/sbigpics/tests/20230120-134806.fits\n",
      " Number of centroids requested: 1\n",
      " Fitboxsize: 7\n",
      " Centroid list:\n",
      " Spot  x          y         FWHM    Peak     LD  \n",
      "    0  2118.434   796.385   3.46    75843    4.00 \n",
      " Min peak   : 75843.12 \n",
      " Max peak   : 75843.12 \n",
      " Mean peak  : 75843.12 \n",
      " Sigma peak :     0.00 \n",
      "here\n",
      "{'peaks': [75843.12296887694], 'x': [2118.433858489314], 'y': [796.385040810279], 'fwhm': [3.457696646304943], 'energy': [4.0015642318574685]}\n",
      "******** /home/msdos/um_scripts/sbigpics/tests/20230120-134814.fits\n",
      "Edge hot spot\n",
      "Edge hot spot\n",
      "Edge hot spot\n",
      "Edge hot spot\n",
      "peak = 73727.84504419233 brightness appears out of expected range\n",
      " File: /home/msdos/um_scripts/sbigpics/tests/20230120-134814.fits\n",
      " Number of centroids requested: 1\n",
      " Fitboxsize: 7\n",
      " Centroid list:\n",
      " Spot  x          y         FWHM    Peak     LD  \n",
      "    0  1802.580   894.699   3.39    73728    3.82 \n",
      " Min peak   : 73727.85 \n",
      " Max peak   : 73727.85 \n",
      " Mean peak  : 73727.85 \n",
      " Sigma peak :     0.00 \n",
      "here\n",
      "{'peaks': [73727.84504419233], 'x': [1802.579602202272], 'y': [894.6988251310266], 'fwhm': [3.3938747371525593], 'energy': [3.8181593151778883]}\n",
      "******** /home/msdos/um_scripts/sbigpics/tests/20230120-134822.fits\n",
      "Edge hot spot\n",
      "Edge hot spot\n",
      "Edge hot spot\n",
      "Edge hot spot\n",
      "Edge hot spot\n",
      "Edge hot spot\n",
      "peak = 72172.07680109402 brightness appears out of expected range\n",
      " File: /home/msdos/um_scripts/sbigpics/tests/20230120-134822.fits\n",
      " Number of centroids requested: 1\n",
      " Fitboxsize: 7\n",
      " Centroid list:\n",
      " Spot  x          y         FWHM    Peak     LD  \n",
      "    0  1975.361   877.354   3.19    72172    3.51 \n",
      " Min peak   : 72172.08 \n",
      " Max peak   : 72172.08 \n",
      " Mean peak  : 72172.08 \n",
      " Sigma peak :     0.00 \n",
      "here\n",
      "{'peaks': [72172.07680109402], 'x': [1975.3613790444133], 'y': [877.3538893939392], 'fwhm': [3.187100159425247], 'energy': [3.5098746849594558]}\n",
      "******** /home/msdos/um_scripts/sbigpics/tests/20230120-144736.fits\n",
      "Edge hot spot\n",
      "Edge hot spot\n",
      "Edge hot spot\n",
      "Edge hot spot\n",
      "peak = 73079.32286539357 brightness appears out of expected range\n",
      " File: /home/msdos/um_scripts/sbigpics/tests/20230120-144736.fits\n",
      " Number of centroids requested: 1\n",
      " Fitboxsize: 7\n",
      " Centroid list:\n",
      " Spot  x          y         FWHM    Peak     LD  \n",
      "    0  1802.698   894.670   3.40    73079    3.79 \n",
      " Min peak   : 73079.32 \n",
      " Max peak   : 73079.32 \n",
      " Mean peak  : 73079.32 \n",
      " Sigma peak :     0.00 \n",
      "here\n",
      "{'peaks': [73079.32286539357], 'x': [1802.6984414700153], 'y': [894.6700185996142], 'fwhm': [3.401899194743574], 'energy': [3.7935223866359657]}\n",
      "******** /home/msdos/um_scripts/sbigpics/tests/20230120-145535.fits\n",
      "Edge hot spot\n",
      "Edge hot spot\n",
      "Edge hot spot\n",
      "Edge hot spot\n",
      "Edge hot spot\n",
      "Edge hot spot\n",
      "peak = 72876.4292421231 brightness appears out of expected range\n",
      " File: /home/msdos/um_scripts/sbigpics/tests/20230120-145535.fits\n",
      " Number of centroids requested: 1\n",
      " Fitboxsize: 7\n",
      " Centroid list:\n",
      " Spot  x          y         FWHM    Peak     LD  \n",
      "    0  1811.652   940.085   3.39    72876    3.77 \n",
      " Min peak   : 72876.43 \n",
      " Max peak   : 72876.43 \n",
      " Mean peak  : 72876.43 \n",
      " Sigma peak :     0.00 \n",
      "here\n",
      "{'peaks': [72876.4292421231], 'x': [1811.651648911678], 'y': [940.0852423429877], 'fwhm': [3.3901291820926054], 'energy': [3.7699017236656505]}\n"
     ]
    }
   ],
   "source": [
    "#spotfinder\n",
    "xx, yy, peaks, fwhm, energy = [],[],[],[],[]\n",
    "for file_name in files:\n",
    "    print(\"********\",file_name)\n",
    "    try: #try to detect the spot\n",
    "        sf=spotfinder.SpotFinder(file_name, expected_spot_count)\n",
    "        centroids = sf.get_centroids(print_summary = True, region_file='regions.reg')\n",
    "        print(centroids)\n",
    "        #separate dictionaries for plotting purposes\n",
    "        res = dict((k, centroids[k]) for k in ['x']\n",
    "                                        if k in centroids)\n",
    "        res2 = dict((k, centroids[k]) for k in ['y']\n",
    "                                        if k in centroids)\n",
    "        x =[value[i] for value in res.values()\n",
    "         for i in range(expected_spot_count)]\n",
    "        xx.append(x)\n",
    "    \n",
    "        y =[value[i] for value in res2.values()\n",
    "         for i in range(expected_spot_count)]\n",
    "        yy.append(y)\n",
    "    except: #ignore photo if an error is raised\n",
    "        pass"
   ]
  },
  {
   "cell_type": "code",
   "execution_count": 88,
   "id": "cb0e4dad",
   "metadata": {},
   "outputs": [
    {
     "data": {
      "text/plain": [
       "10"
      ]
     },
     "execution_count": 88,
     "metadata": {},
     "output_type": "execute_result"
    }
   ],
   "source": [
    "len(xx)"
   ]
  },
  {
   "cell_type": "code",
   "execution_count": 94,
   "id": "4c135405",
   "metadata": {
    "scrolled": false
   },
   "outputs": [
    {
     "data": {
      "image/png": "[encoded data removed]",
      "text/plain": [
       "<Figure size 780x520 with 2 Axes>"
      ]
     },
     "metadata": {
      "needs_background": "light"
     },
     "output_type": "display_data"
    }
   ],
   "source": [
    "#plot the detected spots, color order indicates order of photos\n",
    "\n",
    "cmap = plt.cm.get_cmap(\"viridis_r\", len(xx))\n",
    "plt.scatter(xx[:7], yy[:7], c=np.arange(7), cmap=cmap, edgecolor='k', linewidth=0.2)\n",
    "plt.plot(HOMEPOS['x'], HOMEPOS['y'], 'r*', zorder=0 )\n",
    "plt.plot(xx[8], yy[8], 'bx')\n",
    "plt.plot(xx[9], yy[9], 'gx')\n",
    "\n",
    "\n",
    "plt.colorbar(label ='Photo ID')\n",
    "plt.title('Detected spots')\n",
    "plt.xlabel('X coordinate (pix)')\n",
    "plt.ylabel('Y coordinate (pix)')\n",
    "plt.gca().invert_yaxis()\n",
    "\n",
    "plt.axis('equal')\n",
    "plt.show()"
   ]
  },
  {
   "cell_type": "code",
   "execution_count": 92,
   "id": "cead0175",
   "metadata": {},
   "outputs": [
    {
     "data": {
      "image/png": "[encoded data removed]",
      "text/plain": [
       "<Figure size 780x520 with 1 Axes>"
      ]
     },
     "metadata": {
      "needs_background": "light"
     },
     "output_type": "display_data"
    }
   ],
   "source": [
    "\n",
    "plt.plot(xx)\n",
    "plt.plot(yy)\n",
    "plt.gca().invert_xaxis()\n"
   ]
  },
  {
   "cell_type": "code",
   "execution_count": 108,
   "id": "ce80252b",
   "metadata": {},
   "outputs": [],
   "source": [
    "def find_spot(fitsname, fitspath,  \n",
    "              expected_spot_count=1, \n",
    "              regionsname='regions.reg', \n",
    "              verbose=False):\n",
    "    \"\"\"\n",
    "    spotfinder handler\n",
    "    input:\n",
    "        fitsname:\n",
    "        fitspath (str): relative or full path to the folder\n",
    "        regionsname (str):\n",
    "        verbose (bool):\n",
    "    output: \n",
    "        centroids (dict): raw output from spotfinder\n",
    "\n",
    "    \"\"\"\n",
    "\n",
    "    _ifn = f\"{fitspath}/{fitsname}\"\n",
    "\n",
    "    if expected_spot_count != 1:\n",
    "        raise NotImplementedError(\"This mode wasn't tested here\")\n",
    "    try: \n",
    "        sf=spotfinder.SpotFinder(_ifn, expected_spot_count)\n",
    "        centroids = sf.get_centroids(print_summary = verbose, \n",
    "                                     region_file=regionsname)\n",
    "        if verbose: print(centroids)\n",
    "    \n",
    "    except: #ignore photo if an error is raised\n",
    "        print(\"Warning: spot not found \")\n",
    "        inval_number = np.nan\n",
    "        return {  'peaks': [inval_number], \n",
    "                      'x': [inval_number], \n",
    "                      'y': [inval_number], \n",
    "                   'fwhm': [inval_number], \n",
    "                 'energy': [inval_number]} \n",
    "    return centroids\n",
    "\n",
    "def collect_xy(files):\n",
    "    # treating for single file\n",
    "    if isinstance(files, str):\n",
    "        files = [files]\n",
    "    x2, y2 = [],[]\n",
    "    for fullname in files:\n",
    "        iname = fullname.split('/')[-1]\n",
    "        _c = find_spot(iname, picspath)\n",
    "        x2.append(_c['x'])\n",
    "        y2.append(_c['y'])\n",
    "    return x2, y2"
   ]
  },
  {
   "cell_type": "code",
   "execution_count": 104,
   "id": "b522c63e",
   "metadata": {},
   "outputs": [
    {
     "name": "stdout",
     "output_type": "stream",
     "text": [
      "Edge hot spot\n",
      "Edge hot spot\n",
      "Edge hot spot\n",
      "Edge hot spot\n",
      "peak = 74019.39905249028 brightness appears out of expected range\n",
      "here\n",
      "Edge hot spot\n",
      "Edge hot spot\n",
      "Edge hot spot\n",
      "Edge hot spot\n",
      "peak = 73468.43886735837 brightness appears out of expected range\n",
      "here\n",
      "Edge hot spot\n",
      "Edge hot spot\n",
      "Edge hot spot\n",
      "Edge hot spot\n",
      "Edge hot spot\n",
      "peak = 71546.78491219247 brightness appears out of expected range\n",
      "here\n",
      "Edge hot spot\n",
      "Edge hot spot\n",
      "Edge hot spot\n",
      "Edge hot spot\n",
      "Edge hot spot\n",
      "Edge hot spot\n",
      "peak = 71475.49161103978 brightness appears out of expected range\n",
      "here\n",
      "Edge hot spot\n",
      "Edge hot spot\n",
      "Edge hot spot\n",
      "Edge hot spot\n",
      "Edge hot spot\n",
      "Edge hot spot\n",
      "peak = 70579.45668847792 brightness appears out of expected range\n",
      "here\n",
      "Edge hot spot\n",
      "Edge hot spot\n",
      "Edge hot spot\n",
      "Edge hot spot\n",
      "peak = 75843.12296887694 brightness appears out of expected range\n",
      "here\n",
      "Edge hot spot\n",
      "Edge hot spot\n",
      "Edge hot spot\n",
      "Edge hot spot\n",
      "peak = 73727.84504419233 brightness appears out of expected range\n",
      "here\n",
      "Edge hot spot\n",
      "Edge hot spot\n",
      "Edge hot spot\n",
      "Edge hot spot\n",
      "Edge hot spot\n",
      "Edge hot spot\n",
      "peak = 72172.07680109402 brightness appears out of expected range\n",
      "here\n",
      "Edge hot spot\n",
      "Edge hot spot\n",
      "Edge hot spot\n",
      "Edge hot spot\n",
      "peak = 73079.32286539357 brightness appears out of expected range\n",
      "here\n",
      "Edge hot spot\n",
      "Edge hot spot\n",
      "Edge hot spot\n",
      "Edge hot spot\n",
      "Edge hot spot\n",
      "Edge hot spot\n",
      "peak = 72876.4292421231 brightness appears out of expected range\n",
      "here\n"
     ]
    }
   ],
   "source": [
    "x2, y2 = [],[]\n",
    "for fullname in files:\n",
    "    iname = fullname.split('/')[-1]\n",
    "    _c = find_spot(iname, picspath)\n",
    "    x2.append(_c['x'])\n",
    "    y2.append(_c['y'])"
   ]
  },
  {
   "cell_type": "code",
   "execution_count": 107,
   "id": "47ec59dc",
   "metadata": {},
   "outputs": [
    {
     "data": {
      "text/plain": [
       "(True, True)"
      ]
     },
     "execution_count": 107,
     "metadata": {},
     "output_type": "execute_result"
    }
   ],
   "source": [
    "np.alltrue(np.array(xx) == np.array(x2)), np.alltrue(np.array(yy) == np.array(y2))"
   ]
  },
  {
   "cell_type": "code",
   "execution_count": 110,
   "id": "db04dcd7",
   "metadata": {},
   "outputs": [
    {
     "name": "stdout",
     "output_type": "stream",
     "text": [
      "Edge hot spot\n",
      "Edge hot spot\n",
      "Edge hot spot\n",
      "Edge hot spot\n",
      "peak = 74019.39905249028 brightness appears out of expected range\n",
      "here\n",
      "Edge hot spot\n",
      "Edge hot spot\n",
      "Edge hot spot\n",
      "Edge hot spot\n",
      "peak = 73468.43886735837 brightness appears out of expected range\n",
      "here\n",
      "Edge hot spot\n",
      "Edge hot spot\n",
      "Edge hot spot\n",
      "Edge hot spot\n",
      "Edge hot spot\n",
      "peak = 71546.78491219247 brightness appears out of expected range\n",
      "here\n",
      "Edge hot spot\n",
      "Edge hot spot\n",
      "Edge hot spot\n",
      "Edge hot spot\n",
      "Edge hot spot\n",
      "Edge hot spot\n",
      "peak = 71475.49161103978 brightness appears out of expected range\n",
      "here\n",
      "Edge hot spot\n",
      "Edge hot spot\n",
      "Edge hot spot\n",
      "Edge hot spot\n",
      "Edge hot spot\n",
      "Edge hot spot\n",
      "peak = 70579.45668847792 brightness appears out of expected range\n",
      "here\n",
      "Edge hot spot\n",
      "Edge hot spot\n",
      "Edge hot spot\n",
      "Edge hot spot\n",
      "peak = 75843.12296887694 brightness appears out of expected range\n",
      "here\n",
      "Edge hot spot\n",
      "Edge hot spot\n",
      "Edge hot spot\n",
      "Edge hot spot\n",
      "peak = 73727.84504419233 brightness appears out of expected range\n",
      "here\n",
      "Edge hot spot\n",
      "Edge hot spot\n",
      "Edge hot spot\n",
      "Edge hot spot\n",
      "Edge hot spot\n",
      "Edge hot spot\n",
      "peak = 72172.07680109402 brightness appears out of expected range\n",
      "here\n",
      "Edge hot spot\n",
      "Edge hot spot\n",
      "Edge hot spot\n",
      "Edge hot spot\n",
      "peak = 73079.32286539357 brightness appears out of expected range\n",
      "here\n",
      "Edge hot spot\n",
      "Edge hot spot\n",
      "Edge hot spot\n",
      "Edge hot spot\n",
      "Edge hot spot\n",
      "Edge hot spot\n",
      "peak = 72876.4292421231 brightness appears out of expected range\n",
      "here\n"
     ]
    }
   ],
   "source": [
    "x3, y3 = getxy(_c)"
   ]
  },
  {
   "cell_type": "code",
   "execution_count": 112,
   "id": "3f3a3ed5",
   "metadata": {},
   "outputs": [
    {
     "data": {
      "text/plain": [
       "(array([[ True],\n",
       "        [ True],\n",
       "        [ True],\n",
       "        [ True],\n",
       "        [ True],\n",
       "        [ True],\n",
       "        [ True],\n",
       "        [ True],\n",
       "        [ True],\n",
       "        [ True]]),\n",
       " array([[ True],\n",
       "        [ True],\n",
       "        [ True],\n",
       "        [ True],\n",
       "        [ True],\n",
       "        [ True],\n",
       "        [ True],\n",
       "        [ True],\n",
       "        [ True],\n",
       "        [ True]]))"
      ]
     },
     "execution_count": 112,
     "metadata": {},
     "output_type": "execute_result"
    }
   ],
   "source": [
    "np.array(x2)==np.array(x3), np.array(y2)==np.array(y3)"
   ]
  },
  {
   "cell_type": "code",
   "execution_count": 119,
   "id": "34ff3eb0",
   "metadata": {},
   "outputs": [
    {
     "data": {
      "text/plain": [
       "True"
      ]
     },
     "execution_count": 119,
     "metadata": {},
     "output_type": "execute_result"
    }
   ],
   "source": []
  },
  {
   "cell_type": "code",
   "execution_count": null,
   "id": "85171289",
   "metadata": {},
   "outputs": [],
   "source": []
  },
  {
   "cell_type": "code",
   "execution_count": null,
   "id": "6650df70",
   "metadata": {},
   "outputs": [],
   "source": []
  }
 ],
 "metadata": {
  "kernelspec": {
   "display_name": "Python 3",
   "language": "python",
   "name": "python3"
  },
  "language_info": {
   "codemirror_mode": {
    "name": "ipython",
    "version": 3
   },
   "file_extension": ".py",
   "mimetype": "text/x-python",
   "name": "python",
   "nbconvert_exporter": "python",
   "pygments_lexer": "ipython3",
   "version": "3.6.15"
  }
 },
 "nbformat": 4,
 "nbformat_minor": 5
}
