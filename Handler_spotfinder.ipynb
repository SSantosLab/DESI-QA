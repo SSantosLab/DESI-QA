{
 "cells": [
  {
   "cell_type": "raw",
   "id": "7d4d2650",
   "metadata": {},
   "source": [
    "kernel: cosmosislocal "
   ]
  },
  {
   "cell_type": "code",
   "execution_count": 69,
   "id": "e7d61474",
   "metadata": {},
   "outputs": [],
   "source": [
    "from astropy.io import fits\n",
    "import os\n",
    "from spotfinder import spotfinder\n",
    "import matplotlib.pyplot as plt\n",
    "from glob import glob\n",
    "import numpy as np\n",
    "import math\n",
    "# import sys \n",
    "# sys.path.append(\"/data/common/software/products/\")\n",
    "import sbigCam as sbc\n",
    "import time\n",
    "import pandas as pd\n",
    "from scipy.stats import norm\n",
    "import matplotlib.colors as mcolors\n",
    "plt.rcParams.update({\"figure.dpi\":130})\n",
    "# import circle_fit as cf"
   ]
  },
  {
   "cell_type": "markdown",
   "id": "1ca30583",
   "metadata": {},
   "source": [
    "## Handlers "
   ]
  },
  {
   "cell_type": "code",
   "execution_count": 75,
   "id": "d6c51914",
   "metadata": {},
   "outputs": [],
   "source": [
    "def find_spot(fitsname, fitspath,  \n",
    "              expected_spot_count=1, \n",
    "              regionsname='regions.reg', \n",
    "              verbose=False):\n",
    "    \"\"\"\n",
    "    spotfinder handler\n",
    "    input:\n",
    "        fitsname:\n",
    "        fitspath (str): relative or full path to the folder\n",
    "        regionsname (str):\n",
    "        verbose (bool):\n",
    "    output: \n",
    "        centroids (dict): raw output from spotfinder\n",
    "\n",
    "    \"\"\"\n",
    "    assert isinstance(fitsname, str)\n",
    "\n",
    "    _ifn = f\"{fitspath}/{fitsname}\"\n",
    "\n",
    "    if expected_spot_count != 1:\n",
    "        raise NotImplementedError(\"This mode wasn't tested here\")\n",
    "    try: \n",
    "        sf=spotfinder.SpotFinder(_ifn, expected_spot_count)\n",
    "        centroids = sf.get_centroids(print_summary = verbose, \n",
    "                                     region_file=regionsname)\n",
    "        if verbose: print(centroids)\n",
    "    \n",
    "    except: #ignore photo if an error is raised\n",
    "        print(\"Warning: spot not found \")\n",
    "        inval_number = np.nan\n",
    "        return {  'peaks': [inval_number], \n",
    "                      'x': [inval_number], \n",
    "                      'y': [inval_number], \n",
    "                   'fwhm': [inval_number], \n",
    "                 'energy': [inval_number]} \n",
    "    return centroids\n",
    "\n",
    "\n",
    "def collect_xy(files, picspath):\n",
    "    # treating for single file\n",
    "    if isinstance(files, str):\n",
    "        files = [files]\n",
    "    x2, y2 = [],[]\n",
    "    for fullname in files:\n",
    "        iname = fullname.split('/')[-1]\n",
    "        _c = find_spot(iname, picspath)\n",
    "        #todo, flatten x, y,\n",
    "        x2.append(_c['x'][0])\n",
    "        y2.append(_c['y'][0])\n",
    "    return x2, y2"
   ]
  },
  {
   "cell_type": "code",
   "execution_count": 82,
   "id": "5fe5a2b4",
   "metadata": {},
   "outputs": [],
   "source": [
    "def format_img(plt):\n",
    "\n",
    "    plt.colorbar(label ='Photo ID')\n",
    "    plt.title('Detected spots')\n",
    "    plt.xlabel('X coordinate (pix)')\n",
    "    plt.ylabel('Y coordinate (pix)')\n",
    "    plt.gca().invert_yaxis()\n",
    "\n",
    "    plt.axis('equal')\n",
    "    plt.show()\n",
    "    "
   ]
  },
  {
   "cell_type": "code",
   "execution_count": 51,
   "id": "2263edd7",
   "metadata": {},
   "outputs": [
    {
     "name": "stdout",
     "output_type": "stream",
     "text": [
      "Edge hot spot\n",
      "Edge hot spot\n",
      "peak = 83928.72879623307 brightness appears out of expected range\n",
      "here\n"
     ]
    },
    {
     "data": {
      "text/plain": [
       "{'peaks': [83928.72879623307],\n",
       " 'x': [1099.5330746797667],\n",
       " 'y': [877.6762076818566],\n",
       " 'fwhm': [3.9569108299716342],\n",
       " 'energy': [5.067498221096617]}"
      ]
     },
     "execution_count": 51,
     "metadata": {},
     "output_type": "execute_result"
    }
   ],
   "source": [
    "find_spot(testfiles[0], 'sbigpics/20221212-172028/')"
   ]
  },
  {
   "cell_type": "code",
   "execution_count": 47,
   "id": "4a304bc5",
   "metadata": {},
   "outputs": [
    {
     "data": {
      "text/plain": [
       "(['20221212-172028.fits',\n",
       "  '20221212-172036.fits',\n",
       "  '20221212-172044.fits',\n",
       "  '20221212-172052.fits'],\n",
       " '20221212-172036.fits')"
      ]
     },
     "execution_count": 47,
     "metadata": {},
     "output_type": "execute_result"
    }
   ],
   "source": [
    "testfiles=!ls sbigpics/29Nov202210_38_06/*fits\n",
    "testfiles=!ls sbigpics/20221212-172028/\n",
    "testfits = testfiles[1]\n",
    "testfiles, testfits"
   ]
  },
  {
   "cell_type": "markdown",
   "id": "9e55cfe4",
   "metadata": {},
   "source": [
    "### unit test:\n"
   ]
  },
  {
   "cell_type": "code",
   "execution_count": 46,
   "id": "a7117122",
   "metadata": {},
   "outputs": [
    {
     "name": "stdout",
     "output_type": "stream",
     "text": [
      "Edge hot spot\n",
      "Edge hot spot\n",
      "peak = 83928.72879623307 brightness appears out of expected range\n",
      "here\n"
     ]
    }
   ],
   "source": [
    "path_val = \"sbigpics/20221212-172028/\"\n",
    "ifn_val = \"20221212-172028.fits\"\n",
    "spotfinder_val = {'peaks': [83928.72879623307], \n",
    "                      'x': [1099.5330746797667], \n",
    "                      'y': [877.6762076818566], \n",
    "                   'fwhm': [3.9569108299716342], \n",
    "                 'energy': [5.067498221096617]}\n",
    "\n",
    "res = find_spot(ifn_val, path_val, expected_spot_count=1) \n",
    "\n",
    "assert res== spotfinder_val, \"Error in results\""
   ]
  },
  {
   "cell_type": "code",
   "execution_count": 15,
   "id": "3961526e",
   "metadata": {},
   "outputs": [
    {
     "data": {
      "text/plain": [
       "{'peaks': [83928.72879623307],\n",
       " 'x': [1099.5330746797667],\n",
       " 'y': [877.6762076818566],\n",
       " 'fwhm': [3.9569108299716342],\n",
       " 'energy': [5.067498221096617]}"
      ]
     },
     "execution_count": 15,
     "metadata": {},
     "output_type": "execute_result"
    }
   ],
   "source": [
    "res"
   ]
  },
  {
   "cell_type": "code",
   "execution_count": null,
   "id": "758b9aac",
   "metadata": {},
   "outputs": [],
   "source": []
  },
  {
   "cell_type": "code",
   "execution_count": null,
   "id": "28b7b8f0",
   "metadata": {},
   "outputs": [],
   "source": []
  },
  {
   "cell_type": "code",
   "execution_count": null,
   "id": "eb895c0c",
   "metadata": {},
   "outputs": [],
   "source": []
  },
  {
   "cell_type": "markdown",
   "id": "e847c832",
   "metadata": {},
   "source": [
    "# Test arc "
   ]
  },
  {
   "cell_type": "code",
   "execution_count": 86,
   "id": "48294f20",
   "metadata": {},
   "outputs": [
    {
     "name": "stdout",
     "output_type": "stream",
     "text": [
      "Edge hot spot\n",
      "Edge hot spot\n",
      "Edge hot spot\n",
      "Edge hot spot\n",
      "Edge hot spot\n",
      "peak = 73429.16174515795 brightness appears out of expected range\n",
      "here\n",
      "Edge hot spot\n",
      "Edge hot spot\n",
      "Edge hot spot\n",
      "Edge hot spot\n",
      "Edge hot spot\n",
      "peak = 72855.3913041894 brightness appears out of expected range\n",
      "here\n",
      "Edge hot spot\n",
      "Edge hot spot\n",
      "Edge hot spot\n",
      "Edge hot spot\n",
      "Edge hot spot\n",
      "Edge hot spot\n",
      "peak = 71519.86683703448 brightness appears out of expected range\n",
      "here\n",
      "Edge hot spot\n",
      "Edge hot spot\n",
      "Edge hot spot\n",
      "Edge hot spot\n",
      "Edge hot spot\n",
      "peak = 70578.28658909236 brightness appears out of expected range\n",
      "here\n",
      "Edge hot spot\n",
      "Edge hot spot\n",
      "Edge hot spot\n",
      "Edge hot spot\n",
      "Edge hot spot\n",
      "Edge hot spot\n",
      "Edge hot spot\n",
      "peak = 69691.22480740737 brightness appears out of expected range\n",
      "here\n",
      "Edge hot spot\n",
      "Edge hot spot\n",
      "Edge hot spot\n",
      "Edge hot spot\n",
      "Edge hot spot\n",
      "peak = 75850.8315917966 brightness appears out of expected range\n",
      "here\n",
      "Edge hot spot\n",
      "Edge hot spot\n",
      "Edge hot spot\n",
      "Edge hot spot\n",
      "Edge hot spot\n",
      "Edge hot spot\n",
      "peak = 72183.8412698017 brightness appears out of expected range\n",
      "here\n",
      "Edge hot spot\n",
      "Edge hot spot\n",
      "Edge hot spot\n",
      "Edge hot spot\n",
      "Edge hot spot\n",
      "Edge hot spot\n",
      "Edge hot spot\n",
      "peak = 71034.15951596115 brightness appears out of expected range\n",
      "here\n",
      "Edge hot spot\n",
      "Edge hot spot\n",
      "Edge hot spot\n",
      "Edge hot spot\n",
      "Edge hot spot\n",
      "Edge hot spot\n",
      "Edge hot spot\n",
      "peak = 72828.61478465634 brightness appears out of expected range\n",
      "here\n",
      "Edge hot spot\n",
      "Edge hot spot\n",
      "Edge hot spot\n",
      "Edge hot spot\n",
      "peak = 73100.77177041538 brightness appears out of expected range\n",
      "here\n",
      "Edge hot spot\n",
      "Edge hot spot\n",
      "Edge hot spot\n",
      "Edge hot spot\n",
      "peak = 73203.80330138796 brightness appears out of expected range\n",
      "here\n",
      "Edge hot spot\n",
      "Edge hot spot\n",
      "Edge hot spot\n",
      "Edge hot spot\n",
      "Edge hot spot\n",
      "Edge hot spot\n",
      "peak = 71316.5880953716 brightness appears out of expected range\n",
      "here\n"
     ]
    }
   ],
   "source": [
    "root = 'sbigpics/testarc/'\n",
    "files = !ls '{root}'\n",
    "\n",
    "files\n",
    "x,y = collect_xy(files, root)"
   ]
  },
  {
   "cell_type": "raw",
   "id": "c31d59f2",
   "metadata": {},
   "source": [
    "#plot the detected spots, color order indicates order of photos\n",
    "\n",
    "cmap = plt.cm.get_cmap(\"RdBu_r\", len(x)+1)\n",
    "plt.scatter(x[:], y[:], c=np.arange(len(x)), cmap=cmap, edgecolor='k', linewidth=0.4, alpha=0.7)\n",
    "# plt.plot(xx[8], yy[8], 'bx')\n",
    "# plt.plot(xx[9], yy[9], 'gx')\n",
    "\n",
    "\n",
    "plt.colorbar(label ='Photo ID')\n",
    "plt.title('Detected spots')\n",
    "plt.xlabel('X coordinate (pix)')\n",
    "plt.ylabel('Y coordinate (pix)')\n",
    "plt.gca().invert_yaxis()\n",
    "\n",
    "plt.axis('equal')\n",
    "plt.show()"
   ]
  },
  {
   "cell_type": "code",
   "execution_count": 87,
   "id": "39b83221",
   "metadata": {},
   "outputs": [
    {
     "data": {
      "image/png": "[encoded data removed]",
      "text/plain": [
       "<Figure size 780x520 with 2 Axes>"
      ]
     },
     "metadata": {
      "needs_background": "light"
     },
     "output_type": "display_data"
    }
   ],
   "source": [
    "\n",
    "cmap = plt.cm.get_cmap(\"RdBu_r\", len(x)+1)\n",
    "plt.scatter(x[:], y[:], c=np.arange(len(x)), \n",
    "            cmap=cmap, \n",
    "            edgecolor='k', linewidth=0.4, alpha=0.7)\n",
    "format_img(plt)"
   ]
  },
  {
   "cell_type": "markdown",
   "id": "1ce5b5e5",
   "metadata": {},
   "source": [
    "# saving "
   ]
  },
  {
   "cell_type": "code",
   "execution_count": 79,
   "id": "7be27947",
   "metadata": {},
   "outputs": [],
   "source": [
    "xflatten = np.array([i[0] for i in x])\n",
    "yflatten = np.array([i[0] for i in y])"
   ]
  },
  {
   "cell_type": "code",
   "execution_count": 80,
   "id": "e376be32",
   "metadata": {},
   "outputs": [
    {
     "name": "stdout",
     "output_type": "stream",
     "text": [
      "1811.4864033493266 939.4166267012608\n",
      "1806.9010046933593 845.9371324405779\n",
      "1856.748417532216 759.8414715894679\n",
      "1945.9918660041722 716.3147531185626\n",
      "2045.0413266017797 730.1676941892483\n",
      "2119.024318426958 796.8152554497041\n",
      "2049.7428760049875 732.4642570840178\n",
      "1951.285063075784 715.536909568173\n",
      "1860.5300254772062 756.4589058692003\n",
      "1808.2046965337809 840.829341987301\n",
      "1811.477919537307 939.403362561772\n",
      "1973.5244281532694 876.953654371503\n"
     ]
    }
   ],
   "source": [
    "session_lbl='test_savespot'\n",
    "file = open(f\"{session_lbl}.csv\", 'w')\n",
    "for ix, iy in zip(xflatten,yflatten):\n",
    "    print(ix, iy)\n",
    "    file.write(f\"{ix} {iy}\\n\")\n",
    "file.close()"
   ]
  },
  {
   "cell_type": "raw",
   "id": "3569a4de",
   "metadata": {},
   "source": [
    "1. session_label:\n",
    "    timestamp,\n",
    "    posids: tspeed, pspeed, spinup, spindown\n",
    "    home_theta, home_phi, arc_center\n",
    "    \n",
    "2. get: current_mountposition\n",
    "\n",
    "    3.a collect: pos info into posid\n",
    "            posid x,y, ... \n",
    "    3.b join asked move\n",
    "            dir, speed, motor, angle, movetime, xcenter, ycenter\n",
    "        "
   ]
  },
  {
   "cell_type": "code",
   "execution_count": 91,
   "id": "19e916dc",
   "metadata": {},
   "outputs": [
    {
     "name": "stdout",
     "output_type": "stream",
     "text": [
      "Edge hot spot\n",
      "Edge hot spot\n",
      "Edge hot spot\n",
      "Edge hot spot\n",
      "Edge hot spot\n",
      "Edge hot spot\n",
      "peak = 78575.0264808495 brightness appears out of expected range\n",
      "here\n"
     ]
    },
    {
     "data": {
      "text/plain": [
       "{'peaks': [78575.0264808495],\n",
       " 'x': [1972.7341757826825],\n",
       " 'y': [877.1064515692935],\n",
       " 'fwhm': [3.5166109917819997],\n",
       " 'energy': [4.216339388145526]}"
      ]
     },
     "execution_count": 91,
     "metadata": {},
     "output_type": "execute_result"
    }
   ],
   "source": [
    "ff = fits.getdata(\"sbigpics/curreposition/20230201-114451.fits\")\n",
    "find_spot(\"20230201-114451.fits\", \"sbigpics/curreposition/\")"
   ]
  },
  {
   "cell_type": "code",
   "execution_count": 124,
   "id": "53ede050",
   "metadata": {},
   "outputs": [
    {
     "name": "stdout",
     "output_type": "stream",
     "text": [
      "22\n",
      "Edge hot spot\n",
      "Edge hot spot\n",
      "Edge hot spot\n",
      "Edge hot spot\n",
      "peak = 78915.76573291933 brightness appears out of expected range\n",
      "here\n",
      "Edge hot spot\n",
      "Edge hot spot\n",
      "Edge hot spot\n",
      "Edge hot spot\n",
      "Edge hot spot\n",
      "Edge hot spot\n",
      "Edge hot spot\n",
      "Edge hot spot\n",
      "peak = 73284.29316206879 brightness appears out of expected range\n",
      "here\n",
      "Edge hot spot\n",
      "Edge hot spot\n",
      "Edge hot spot\n",
      "Edge hot spot\n",
      "Edge hot spot\n",
      "Edge hot spot\n",
      "Edge hot spot\n",
      "peak = 73325.29841595024 brightness appears out of expected range\n",
      "here\n",
      "Edge hot spot\n",
      "Edge hot spot\n",
      "Edge hot spot\n",
      "Edge hot spot\n",
      "Edge hot spot\n",
      "Edge hot spot\n",
      "Edge hot spot\n",
      "peak = 74367.51998432691 brightness appears out of expected range\n",
      "here\n",
      "Edge hot spot\n",
      "Edge hot spot\n",
      "Edge hot spot\n",
      "Edge hot spot\n",
      "Edge hot spot\n",
      "Edge hot spot\n",
      "peak = 73764.0599124732 brightness appears out of expected range\n",
      "here\n",
      "Edge hot spot\n",
      "Edge hot spot\n",
      "Edge hot spot\n",
      "Edge hot spot\n",
      "Edge hot spot\n",
      "Edge hot spot\n",
      "peak = 73224.46143955286 brightness appears out of expected range\n",
      "here\n",
      "Edge hot spot\n",
      "Edge hot spot\n",
      "Edge hot spot\n",
      "Edge hot spot\n",
      "Edge hot spot\n",
      "Edge hot spot\n",
      "Edge hot spot\n",
      "peak = 73079.98753695947 brightness appears out of expected range\n",
      "here\n",
      "Edge hot spot\n",
      "Edge hot spot\n",
      "Edge hot spot\n",
      "Edge hot spot\n",
      "Edge hot spot\n",
      "Edge hot spot\n",
      "Edge hot spot\n",
      "peak = 71707.06160358677 brightness appears out of expected range\n",
      "here\n",
      "Edge hot spot\n",
      "Edge hot spot\n",
      "Edge hot spot\n",
      "Edge hot spot\n",
      "Edge hot spot\n",
      "Edge hot spot\n",
      "Edge hot spot\n",
      "Edge hot spot\n",
      "peak = 71332.84069096512 brightness appears out of expected range\n",
      "here\n"
     ]
    },
    {
     "data": {
      "image/png": "[encoded data removed]",
      "text/plain": [
       "<Figure size 780x520 with 1 Axes>"
      ]
     },
     "metadata": {
      "needs_background": "light"
     },
     "output_type": "display_data"
    }
   ],
   "source": [
    "files = !ls sbigpics/curreposition/\n",
    "plt.plot([int(i.replace('.fits','').split('-')[-1]) for i in files])\n",
    "print(len(files))\n",
    "x, y = collect_xy(files[13:], 'sbigpics/curreposition/'          )"
   ]
  },
  {
   "cell_type": "code",
   "execution_count": null,
   "id": "856d8321",
   "metadata": {},
   "outputs": [],
   "source": []
  },
  {
   "cell_type": "code",
   "execution_count": null,
   "id": "22ae91ef",
   "metadata": {},
   "outputs": [],
   "source": []
  },
  {
   "cell_type": "code",
   "execution_count": 125,
   "id": "7c06a5cb",
   "metadata": {},
   "outputs": [
    {
     "data": {
      "text/plain": [
       "(1066.0, 704.0)"
      ]
     },
     "execution_count": 125,
     "metadata": {},
     "output_type": "execute_result"
    },
    {
     "data": {
      "image/png": "[encoded data removed]",
      "text/plain": [
       "<Figure size 780x520 with 2 Axes>"
      ]
     },
     "metadata": {
      "needs_background": "light"
     },
     "output_type": "display_data"
    }
   ],
   "source": [
    "xc, yc = (1973, 885)\n",
    "r = 171+10\n",
    "\n",
    "\n",
    "plt.scatter(x,y,c = range(len(x)), cmap='viridis_r', alpha=0.4); plt.colorbar()\n",
    "plt.xlim(xc-r,xc+r)\n",
    "plt.ylim(yc+r, yc-r)\n",
    "\n"
   ]
  },
  {
   "cell_type": "code",
   "execution_count": null,
   "id": "3b54b51a",
   "metadata": {},
   "outputs": [],
   "source": []
  }
 ],
 "metadata": {
  "kernelspec": {
   "display_name": "Python 3",
   "language": "python",
   "name": "python3"
  },
  "language_info": {
   "codemirror_mode": {
    "name": "ipython",
    "version": 3
   },
   "file_extension": ".py",
   "mimetype": "text/x-python",
   "name": "python",
   "nbconvert_exporter": "python",
   "pygments_lexer": "ipython3",
   "version": "3.6.15"
  }
 },
 "nbformat": 4,
 "nbformat_minor": 5
}
