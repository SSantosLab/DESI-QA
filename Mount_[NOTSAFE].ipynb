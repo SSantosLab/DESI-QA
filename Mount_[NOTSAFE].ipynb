{
 "cells": [
  {
   "cell_type": "code",
   "execution_count": 5,
   "id": "5674566e",
   "metadata": {},
   "outputs": [
    {
     "name": "stdout",
     "output_type": "stream",
     "text": [
      "Successfully connected to CEM120\n",
      "Altitude Limit set to -89 degrees\n",
      "Slew rate set to MAX (960x)\n"
     ]
    }
   ],
   "source": [
    "import sys\n",
    "sys.path.append(\"/data/common/software/products/tsmount-umich/python\")\n",
    "import cem120func as cf\n",
    "import time\n",
    "import matplotlib.pyplot as plt\n",
    "import numpy as np\n",
    "from datetime import datetime\n",
    "\n",
    "diff = lambda array: array[1:] - array[:-1]\n",
    "\n",
    "p = \"/dev/ttyUSB0\"\n",
    "cem120 = cf.initialize_mount(p)\n",
    "cf.set_alt_lim(cem120, -89)\n",
    "cf.slew_rate(cem120, 9)"
   ]
  },
  {
   "cell_type": "markdown",
   "id": "7440a872",
   "metadata": {},
   "source": [
    "# 1. Home "
   ]
  },
  {
   "cell_type": "code",
   "execution_count": 12,
   "id": "9ce2c59a",
   "metadata": {},
   "outputs": [
    {
     "name": "stdout",
     "output_type": "stream",
     "text": [
      "Slewing to home position...\n",
      "Mount stopped at home position\n",
      "home at (206.59, 90.0) deg\n"
     ]
    }
   ],
   "source": [
    "cf.home(cem120)\n"
   ]
  },
  {
   "cell_type": "markdown",
   "id": "90445412",
   "metadata": {},
   "source": [
    "# 2. Positioner UP"
   ]
  },
  {
   "cell_type": "code",
   "execution_count": 7,
   "id": "410a5806",
   "metadata": {},
   "outputs": [
    {
     "name": "stdout",
     "output_type": "stream",
     "text": [
      "Slewing to home position...\n",
      "Mount stopped at home position\n",
      "home at (161.02, 90.0) deg\n",
      "Moving to specified angle...\n",
      "All movement stopped\n",
      "Moving to specified angle...\n",
      "All movement stopped\n"
     ]
    }
   ],
   "source": [
    "#CAM UP\n",
    "\n",
    "cf.home(cem120)\n",
    "\n",
    "# Position 8 - U   -> HOME->7->8 CAM UP  eixo 1  = x\n",
    "cf.move_90(cem120, 0., 1, 1)\n",
    "\n",
    "cf.move_90(cem120, (cf.get_ra_dec(cem120)[0]-324000)%1296000, 0, 1) "
   ]
  },
  {
   "cell_type": "markdown",
   "id": "51914e40",
   "metadata": {},
   "source": [
    "# 3. Positioner DOWN"
   ]
  },
  {
   "cell_type": "code",
   "execution_count": 11,
   "id": "600b2f94",
   "metadata": {},
   "outputs": [
    {
     "name": "stdout",
     "output_type": "stream",
     "text": [
      "Slewing to home position...\n",
      "Mount stopped at home position\n",
      "home at (198.53, 90.0) deg\n",
      "Moving to specified angle...\n",
      "All movement stopped\n",
      "Moving to specified angle...\n",
      "All movement stopped\n"
     ]
    }
   ],
   "source": [
    "# cam DOWN\n",
    "cf.home(cem120)\n",
    "\n",
    "# Position 8b  test HOME->7->8b CAM DOWN  eixo 1 = zbox; sign 0 = right hand\n",
    "cf.move_90(cem120, 0., 1, 0)\n",
    "# printmsg(i); i+=1\n",
    "# time.sleep(tsleep)\n",
    "\n",
    "\n",
    "# Position 7 - R DEITA DE LADO com o vetor z apontando pro pc  eixo 0 = z up\n",
    "cf.move_90(cem120, (cf.get_ra_dec(cem120)[0]-324000)%1296000, 0, 1) "
   ]
  },
  {
   "cell_type": "code",
   "execution_count": null,
   "id": "3be206b3",
   "metadata": {},
   "outputs": [],
   "source": []
  },
  {
   "cell_type": "markdown",
   "id": "f780d713",
   "metadata": {},
   "source": [
    "# Old"
   ]
  },
  {
   "cell_type": "code",
   "execution_count": 5,
   "id": "14acca61",
   "metadata": {},
   "outputs": [
    {
     "name": "stdout",
     "output_type": "stream",
     "text": [
      "Slewing to home position...\n",
      "Mount stopped at home position\n",
      "home at (144.79, 90.0) deg\n",
      "Moving to specified angle...\n",
      "All movement stopped\n"
     ]
    }
   ],
   "source": [
    "#CAM UP\n",
    "\n",
    "cf.home(cem120)\n",
    "\n",
    "# Position 8 - U   -> HOME->7->8 CAM UP  eixo 1  = x\n",
    "cf.move_90(cem120, 0., 1, 1)"
   ]
  },
  {
   "cell_type": "code",
   "execution_count": 6,
   "id": "1f7498bf",
   "metadata": {},
   "outputs": [
    {
     "name": "stdout",
     "output_type": "stream",
     "text": [
      "Moving to specified angle...\n",
      "All movement stopped\n"
     ]
    }
   ],
   "source": [
    "# Position 7 - R DEITA DE LADO com o vetor z apontando pro pc  eixo 0 = z up\n",
    "cf.move_90(cem120, (cf.get_ra_dec(cem120)[0]-324000)%1296000, 0, 1) "
   ]
  },
  {
   "cell_type": "code",
   "execution_count": 5,
   "id": "ca244407",
   "metadata": {},
   "outputs": [
    {
     "name": "stdout",
     "output_type": "stream",
     "text": [
      "Slewing to home position...\n",
      "Mount stopped at home position\n",
      "home at (346.77, 90.0) deg\n",
      "Moving to specified angle...\n",
      "All movement stopped\n",
      "Moving to specified angle...\n",
      "All movement stopped\n"
     ]
    },
    {
     "ename": "NameError",
     "evalue": "name 'tsleep' is not defined",
     "output_type": "error",
     "traceback": [
      "\u001b[0;31m---------------------------------------------------------------------------\u001b[0m",
      "\u001b[0;31mNameError\u001b[0m                                 Traceback (most recent call last)",
      "\u001b[0;32m<ipython-input-5-3ecec9dc5864>\u001b[0m in \u001b[0;36m<module>\u001b[0;34m\u001b[0m\n\u001b[1;32m      8\u001b[0m \u001b[0mcf\u001b[0m\u001b[0;34m.\u001b[0m\u001b[0mmove_90\u001b[0m\u001b[0;34m(\u001b[0m\u001b[0mcem120\u001b[0m\u001b[0;34m,\u001b[0m \u001b[0;36m0.\u001b[0m\u001b[0;34m,\u001b[0m \u001b[0;36m1\u001b[0m\u001b[0;34m,\u001b[0m \u001b[0;36m0\u001b[0m\u001b[0;34m)\u001b[0m\u001b[0;34m\u001b[0m\u001b[0;34m\u001b[0m\u001b[0m\n\u001b[1;32m      9\u001b[0m \u001b[0;31m# printmsg(i); i+=1\u001b[0m\u001b[0;34m\u001b[0m\u001b[0;34m\u001b[0m\u001b[0;34m\u001b[0m\u001b[0m\n\u001b[0;32m---> 10\u001b[0;31m \u001b[0mtime\u001b[0m\u001b[0;34m.\u001b[0m\u001b[0msleep\u001b[0m\u001b[0;34m(\u001b[0m\u001b[0mtsleep\u001b[0m\u001b[0;34m)\u001b[0m\u001b[0;34m\u001b[0m\u001b[0;34m\u001b[0m\u001b[0m\n\u001b[0m",
      "\u001b[0;31mNameError\u001b[0m: name 'tsleep' is not defined"
     ]
    }
   ],
   "source": [
    "# cam DOWN\n",
    "cf.home(cem120)\n",
    "\n",
    "# Position 7 - R DEITA DE LADO com o vetor z apontando pro pc  eixo 0 = z up\n",
    "cf.move_90(cem120, (cf.get_ra_dec(cem120)[0]-324000)%1296000, 0, 1) \n",
    "\n",
    "# Position 8b  test HOME->7->8b CAM DOWN  eixo 1 = zbox; sign 0 = right hand\n",
    "cf.move_90(cem120, 0., 1, 0)\n",
    "# printmsg(i); i+=1\n",
    "# time.sleep(tsleep)"
   ]
  },
  {
   "cell_type": "code",
   "execution_count": 22,
   "id": "ceb75a08",
   "metadata": {},
   "outputs": [
    {
     "name": "stdout",
     "output_type": "stream",
     "text": [
      "Slewing to home position...\n",
      "Mount stopped at home position\n",
      "home at (5.19, 90.0) deg\n"
     ]
    }
   ],
   "source": [
    "cf.home(cem120)\n",
    "# home[0] keeps changing "
   ]
  },
  {
   "cell_type": "code",
   "execution_count": 26,
   "id": "c8ec073d",
   "metadata": {},
   "outputs": [
    {
     "data": {
      "text/plain": [
       "[7.1554166666666665, 90.0]"
      ]
     },
     "execution_count": 26,
     "metadata": {},
     "output_type": "execute_result"
    }
   ],
   "source": [
    "[i/3600 for i in cf.get_ra_dec(cem120)]"
   ]
  },
  {
   "cell_type": "code",
   "execution_count": null,
   "id": "adc9ff34",
   "metadata": {},
   "outputs": [],
   "source": [
    "time0 = \"11:15 *time\""
   ]
  },
  {
   "cell_type": "code",
   "execution_count": 32,
   "id": "1274a299",
   "metadata": {},
   "outputs": [],
   "source": [
    "tcalib = [] \n",
    "t = []\n",
    "for i in range(100):\n",
    "    a = cf.get_ra_dec(cem120)[0]\n",
    "    b = time.time()\n",
    "    tcalib.append(a)\n",
    "    t.append( b)"
   ]
  },
  {
   "cell_type": "code",
   "execution_count": 33,
   "id": "87aad040",
   "metadata": {},
   "outputs": [
    {
     "data": {
      "text/plain": [
       "[<matplotlib.lines.Line2D at 0x7fb351209630>]"
      ]
     },
     "execution_count": 33,
     "metadata": {},
     "output_type": "execute_result"
    },
    {
     "data": {
      "image/png": "[encoded data removed]",
      "text/plain": [
       "<Figure size 432x288 with 1 Axes>"
      ]
     },
     "metadata": {
      "needs_background": "light"
     },
     "output_type": "display_data"
    }
   ],
   "source": [
    "plt.plot(t, tcalib)"
   ]
  },
  {
   "cell_type": "code",
   "execution_count": null,
   "id": "59b51845",
   "metadata": {},
   "outputs": [],
   "source": []
  },
  {
   "cell_type": "code",
   "execution_count": 4,
   "id": "3d7c0abd",
   "metadata": {},
   "outputs": [
    {
     "name": "stdout",
     "output_type": "stream",
     "text": [
      " Position 0 - Home \n"
     ]
    }
   ],
   "source": [
    "msglist = [\" Position 0 - Home \",\n",
    "\" Position 1 - L \",\n",
    "\" Position 2 - U \",\n",
    "\" Position 3 - D \",\n",
    "\" Position 4 - D \",\n",
    "\" Position 5 - U \",\n",
    "\" Position 6 - R \",\n",
    "\" Position 7 - R \",\n",
    "\" Position 8 - U \",\n",
    "\" Position 9 - D \",\n",
    "\" Position 10 - D \",\n",
    "\" Position 11 - U \",\n",
    "\" Position 12 - L \",\n",
    "\" Position 13 - U \",\n",
    "\" Position 14 - L \",\n",
    "\" Position 15 - R \",\n",
    "\" Position 16 - R \",\n",
    "\" Position 17 - L \",\n",
    "\" Position 18 - Home \",\n",
    "]\n",
    "printmsg = lambda i : print(msglist[i])\n",
    "printmsg(0); i+=1"
   ]
  },
  {
   "cell_type": "code",
   "execution_count": 5,
   "id": "ef519bf9",
   "metadata": {},
   "outputs": [
    {
     "name": "stdout",
     "output_type": "stream",
     "text": [
      "Altitude Limit set to -89 degrees\n",
      "Slew rate set to MAX (960x)\n",
      "Slewing to home position...\n",
      "Mount stopped at home position\n",
      "home at (346.42, 90.0) deg\n",
      " Position 0 - Home \n",
      "Moving to specified angle...\n",
      "All movement stopped\n",
      " Position 1 - L \n",
      "Moving to specified angle...\n",
      "All movement stopped\n",
      " Position 2 - U \n",
      "Moving to specified angle...\n",
      "All movement stopped\n",
      " Position 3 - D \n",
      "Moving to specified angle...\n",
      "All movement stopped\n",
      " Position 4 - D \n",
      "Moving to specified angle...\n"
     ]
    },
    {
     "ename": "KeyboardInterrupt",
     "evalue": "",
     "output_type": "error",
     "traceback": [
      "\u001b[0;31m---------------------------------------------------------------------------\u001b[0m",
      "\u001b[0;31mKeyboardInterrupt\u001b[0m                         Traceback (most recent call last)",
      "\u001b[0;32m<ipython-input-5-60557c2b9cbd>\u001b[0m in \u001b[0;36m<module>\u001b[0;34m\u001b[0m\n\u001b[1;32m     35\u001b[0m \u001b[0;34m\u001b[0m\u001b[0m\n\u001b[1;32m     36\u001b[0m \u001b[0;31m# Position 5 - U\u001b[0m\u001b[0;34m\u001b[0m\u001b[0;34m\u001b[0m\u001b[0;34m\u001b[0m\u001b[0m\n\u001b[0;32m---> 37\u001b[0;31m \u001b[0mcf\u001b[0m\u001b[0;34m.\u001b[0m\u001b[0mmove_90\u001b[0m\u001b[0;34m(\u001b[0m\u001b[0mcem120\u001b[0m\u001b[0;34m,\u001b[0m \u001b[0;36m324000\u001b[0m\u001b[0;34m,\u001b[0m \u001b[0;36m1\u001b[0m\u001b[0;34m,\u001b[0m \u001b[0;36m1\u001b[0m\u001b[0;34m)\u001b[0m\u001b[0;34m\u001b[0m\u001b[0;34m\u001b[0m\u001b[0m\n\u001b[0m\u001b[1;32m     38\u001b[0m \u001b[0mprintmsg\u001b[0m\u001b[0;34m(\u001b[0m\u001b[0mi\u001b[0m\u001b[0;34m)\u001b[0m\u001b[0;34m;\u001b[0m \u001b[0mi\u001b[0m\u001b[0;34m+=\u001b[0m\u001b[0;36m1\u001b[0m\u001b[0;34m\u001b[0m\u001b[0;34m\u001b[0m\u001b[0m\n\u001b[1;32m     39\u001b[0m \u001b[0mtime\u001b[0m\u001b[0;34m.\u001b[0m\u001b[0msleep\u001b[0m\u001b[0;34m(\u001b[0m\u001b[0mtsleep\u001b[0m\u001b[0;34m)\u001b[0m\u001b[0;34m\u001b[0m\u001b[0;34m\u001b[0m\u001b[0m\n",
      "\u001b[0;32m/data/common/software/products/tsmount-umich/python/cem120func.py\u001b[0m in \u001b[0;36mmove_90\u001b[0;34m(ser, angle, axis, sign)\u001b[0m\n\u001b[1;32m    382\u001b[0m     \u001b[0;32mwhile\u001b[0m\u001b[0;34m(\u001b[0m\u001b[0;32mTrue\u001b[0m\u001b[0;34m)\u001b[0m\u001b[0;34m:\u001b[0m\u001b[0;34m\u001b[0m\u001b[0;34m\u001b[0m\u001b[0m\n\u001b[1;32m    383\u001b[0m         \u001b[0mi\u001b[0m \u001b[0;34m+=\u001b[0m \u001b[0;36m1\u001b[0m\u001b[0;34m\u001b[0m\u001b[0;34m\u001b[0m\u001b[0m\n\u001b[0;32m--> 384\u001b[0;31m         \u001b[0mpos\u001b[0m \u001b[0;34m=\u001b[0m \u001b[0mget_ra_dec\u001b[0m\u001b[0;34m(\u001b[0m\u001b[0mser\u001b[0m\u001b[0;34m)\u001b[0m\u001b[0;34m\u001b[0m\u001b[0;34m\u001b[0m\u001b[0m\n\u001b[0m\u001b[1;32m    385\u001b[0m         \u001b[0mdev\u001b[0m \u001b[0;34m=\u001b[0m \u001b[0mabs\u001b[0m\u001b[0;34m(\u001b[0m\u001b[0mangle\u001b[0m\u001b[0;34m-\u001b[0m\u001b[0mpos\u001b[0m\u001b[0;34m[\u001b[0m\u001b[0maxis\u001b[0m\u001b[0;34m]\u001b[0m\u001b[0;34m)\u001b[0m\u001b[0;34m/\u001b[0m\u001b[0;36m1e6\u001b[0m\u001b[0;34m\u001b[0m\u001b[0;34m\u001b[0m\u001b[0m\n\u001b[1;32m    386\u001b[0m         \u001b[0;31m#if i % 75 == 0: print(dev, 2**(n-14))\u001b[0m\u001b[0;34m\u001b[0m\u001b[0;34m\u001b[0m\u001b[0;34m\u001b[0m\u001b[0m\n",
      "\u001b[0;32m/data/common/software/products/tsmount-umich/python/cem120func.py\u001b[0m in \u001b[0;36mget_ra_dec\u001b[0;34m(ser)\u001b[0m\n\u001b[1;32m     43\u001b[0m     \u001b[0;32mif\u001b[0m \u001b[0mser\u001b[0m\u001b[0;34m.\u001b[0m\u001b[0mis_open\u001b[0m\u001b[0;34m:\u001b[0m\u001b[0;34m\u001b[0m\u001b[0;34m\u001b[0m\u001b[0m\n\u001b[1;32m     44\u001b[0m         \u001b[0mser\u001b[0m\u001b[0;34m.\u001b[0m\u001b[0mwrite\u001b[0m\u001b[0;34m(\u001b[0m\u001b[0;34mb':GEP#'\u001b[0m\u001b[0;34m)\u001b[0m\u001b[0;34m\u001b[0m\u001b[0;34m\u001b[0m\u001b[0m\n\u001b[0;32m---> 45\u001b[0;31m         \u001b[0mreply\u001b[0m \u001b[0;34m=\u001b[0m \u001b[0mser\u001b[0m\u001b[0;34m.\u001b[0m\u001b[0mread\u001b[0m\u001b[0;34m(\u001b[0m\u001b[0;36m21\u001b[0m\u001b[0;34m)\u001b[0m\u001b[0;34m.\u001b[0m\u001b[0mdecode\u001b[0m\u001b[0;34m(\u001b[0m\u001b[0;34m'ascii'\u001b[0m\u001b[0;34m)\u001b[0m\u001b[0;34m\u001b[0m\u001b[0;34m\u001b[0m\u001b[0m\n\u001b[0m\u001b[1;32m     46\u001b[0m         \u001b[0mdec\u001b[0m \u001b[0;34m=\u001b[0m \u001b[0mint\u001b[0m\u001b[0;34m(\u001b[0m\u001b[0mreply\u001b[0m\u001b[0;34m[\u001b[0m\u001b[0;34m:\u001b[0m\u001b[0;36m9\u001b[0m\u001b[0;34m]\u001b[0m\u001b[0;34m)\u001b[0m\u001b[0;34m/\u001b[0m\u001b[0;36m100.\u001b[0m\u001b[0;34m\u001b[0m\u001b[0;34m\u001b[0m\u001b[0m\n\u001b[1;32m     47\u001b[0m         \u001b[0mra\u001b[0m \u001b[0;34m=\u001b[0m \u001b[0mint\u001b[0m\u001b[0;34m(\u001b[0m\u001b[0mreply\u001b[0m\u001b[0;34m[\u001b[0m\u001b[0;36m9\u001b[0m\u001b[0;34m:\u001b[0m\u001b[0;36m18\u001b[0m\u001b[0;34m]\u001b[0m\u001b[0;34m)\u001b[0m\u001b[0;34m/\u001b[0m\u001b[0;36m100.\u001b[0m\u001b[0;34m\u001b[0m\u001b[0;34m\u001b[0m\u001b[0m\n",
      "\u001b[0;32m/data/common/software/products/python-3.6.15.Linux64/lib/python3.6/site-packages/serial/serialposix.py\u001b[0m in \u001b[0;36mread\u001b[0;34m(self, size)\u001b[0m\n\u001b[1;32m    563\u001b[0m         \u001b[0;32mwhile\u001b[0m \u001b[0mlen\u001b[0m\u001b[0;34m(\u001b[0m\u001b[0mread\u001b[0m\u001b[0;34m)\u001b[0m \u001b[0;34m<\u001b[0m \u001b[0msize\u001b[0m\u001b[0;34m:\u001b[0m\u001b[0;34m\u001b[0m\u001b[0;34m\u001b[0m\u001b[0m\n\u001b[1;32m    564\u001b[0m             \u001b[0;32mtry\u001b[0m\u001b[0;34m:\u001b[0m\u001b[0;34m\u001b[0m\u001b[0;34m\u001b[0m\u001b[0m\n\u001b[0;32m--> 565\u001b[0;31m                 \u001b[0mready\u001b[0m\u001b[0;34m,\u001b[0m \u001b[0m_\u001b[0m\u001b[0;34m,\u001b[0m \u001b[0m_\u001b[0m \u001b[0;34m=\u001b[0m \u001b[0mselect\u001b[0m\u001b[0;34m.\u001b[0m\u001b[0mselect\u001b[0m\u001b[0;34m(\u001b[0m\u001b[0;34m[\u001b[0m\u001b[0mself\u001b[0m\u001b[0;34m.\u001b[0m\u001b[0mfd\u001b[0m\u001b[0;34m,\u001b[0m \u001b[0mself\u001b[0m\u001b[0;34m.\u001b[0m\u001b[0mpipe_abort_read_r\u001b[0m\u001b[0;34m]\u001b[0m\u001b[0;34m,\u001b[0m \u001b[0;34m[\u001b[0m\u001b[0;34m]\u001b[0m\u001b[0;34m,\u001b[0m \u001b[0;34m[\u001b[0m\u001b[0;34m]\u001b[0m\u001b[0;34m,\u001b[0m \u001b[0mtimeout\u001b[0m\u001b[0;34m.\u001b[0m\u001b[0mtime_left\u001b[0m\u001b[0;34m(\u001b[0m\u001b[0;34m)\u001b[0m\u001b[0;34m)\u001b[0m\u001b[0;34m\u001b[0m\u001b[0;34m\u001b[0m\u001b[0m\n\u001b[0m\u001b[1;32m    566\u001b[0m                 \u001b[0;32mif\u001b[0m \u001b[0mself\u001b[0m\u001b[0;34m.\u001b[0m\u001b[0mpipe_abort_read_r\u001b[0m \u001b[0;32min\u001b[0m \u001b[0mready\u001b[0m\u001b[0;34m:\u001b[0m\u001b[0;34m\u001b[0m\u001b[0;34m\u001b[0m\u001b[0m\n\u001b[1;32m    567\u001b[0m                     \u001b[0mos\u001b[0m\u001b[0;34m.\u001b[0m\u001b[0mread\u001b[0m\u001b[0;34m(\u001b[0m\u001b[0mself\u001b[0m\u001b[0;34m.\u001b[0m\u001b[0mpipe_abort_read_r\u001b[0m\u001b[0;34m,\u001b[0m \u001b[0;36m1000\u001b[0m\u001b[0;34m)\u001b[0m\u001b[0;34m\u001b[0m\u001b[0;34m\u001b[0m\u001b[0m\n",
      "\u001b[0;31mKeyboardInterrupt\u001b[0m: "
     ]
    }
   ],
   "source": [
    "tsleep = 1\n",
    "\n",
    "\n",
    "cf.set_alt_lim(cem120, -89)\n",
    "cf.slew_rate(cem120, 9)\n",
    "\n",
    "# L/R = +/- RA\n",
    "# U/D = -/+ Dec\n",
    "\n",
    "i=0 \n",
    "# Position 0 - Home\n",
    "cf.home(cem120)\n",
    "printmsg(i); i+=1\n",
    "\n",
    "\n",
    "# Position 1 - L\n",
    "cf.move_90(cem120, (cf.get_ra_dec(cem120)[0]+324000)%1296000, 0, 0)\n",
    "printmsg(i); i+=1\n",
    "time.sleep(tsleep)\n",
    "\n",
    "# Position 2 - U\n",
    "cf.move_90(cem120, 0, 1, 1)\n",
    "printmsg(i); i+=1\n",
    "time.sleep(tsleep)\n",
    "\n",
    "# Position 3 - D\n",
    "cf.move_90(cem120, 324000, 1, 0)\n",
    "printmsg(i); i+=1\n",
    "time.sleep(tsleep)\n",
    "\n",
    "# Position 4 - D\n",
    "cf.move_90(cem120, 0, 1, 0)\n",
    "printmsg(i); i+=1\n",
    "time.sleep(tsleep)\n",
    "\n",
    "# Position 5 - U\n",
    "cf.move_90(cem120, 324000, 1, 1)\n",
    "printmsg(i); i+=1\n",
    "time.sleep(tsleep)\n",
    "\n",
    "# Position 6 - R\n",
    "cf.home(cem120)\n",
    "printmsg(i); i+=1\n",
    "time.sleep(tsleep)\n",
    "\n",
    "# Position 7 - R\n",
    "cf.move_90(cem120, (cf.get_ra_dec(cem120)[0]-324000)%1296000, 0, 1)\n",
    "printmsg(i); i+=1\n",
    "time.sleep(tsleep)\n",
    "\n",
    "# Position 8 - U\n",
    "cf.move_90(cem120, 0, 1, 1)\n",
    "printmsg(i); i+=1\n",
    "time.sleep(tsleep)\n",
    "\n",
    "# Position 9 - D\n",
    "cf.move_90(cem120, 324000, 1, 0)\n",
    "printmsg(i); i+=1\n",
    "time.sleep(tsleep)\n",
    "\n",
    "# Position 10 - D\n",
    "cf.move_90(cem120, 0, 1, 0)\n",
    "printmsg(i); i+=1\n",
    "time.sleep(tsleep)\n"
   ]
  },
  {
   "cell_type": "code",
   "execution_count": null,
   "id": "404f49c4",
   "metadata": {},
   "outputs": [],
   "source": []
  }
 ],
 "metadata": {
  "kernelspec": {
   "display_name": "Python 3",
   "language": "python",
   "name": "python3"
  },
  "language_info": {
   "codemirror_mode": {
    "name": "ipython",
    "version": 3
   },
   "file_extension": ".py",
   "mimetype": "text/x-python",
   "name": "python",
   "nbconvert_exporter": "python",
   "pygments_lexer": "ipython3",
   "version": "3.6.15"
  }
 },
 "nbformat": 4,
 "nbformat_minor": 5
}
