{
 "cells": [
  {
   "cell_type": "code",
   "execution_count": 1,
   "id": "6d6bd087",
   "metadata": {},
   "outputs": [],
   "source": [
    "import numpy as np\n",
    "import xylib"
   ]
  },
  {
   "cell_type": "code",
   "execution_count": 15,
   "id": "056ff6c5",
   "metadata": {},
   "outputs": [],
   "source": [
    "h = -166.27\n",
    "r1=3\n",
    "r2=3"
   ]
  },
  {
   "cell_type": "code",
   "execution_count": 9,
   "id": "388366d5",
   "metadata": {},
   "outputs": [
    {
     "name": "stdout",
     "output_type": "stream",
     "text": [
      "[['cw', 'theta', 13.73], ['cw', 'phi', 180.0]] \t[['cw', 'theta', 13.73], ['cw', 'phi', 180.0]]\n",
      "[['cw', 'theta', 103.73], ['cw', 'phi', 90.0]] \t[['cw', 'theta', 103.73], ['cw', 'phi', 90.0]]\n",
      "[['cw', 'theta', 13.73], ['cw', 'phi', 90.0]] \t[['cw', 'theta', 13.73], ['cw', 'phi', 90.0]]\n",
      "[['cw', 'theta', 193.73], ['cw', 'phi', 180.0]] \t[['cw', 'theta', 193.73], ['cw', 'phi', 180.0]]\n",
      "[['cw', 'theta', 283.73], ['cw', 'phi', 90.0]] \t[['cw', 'theta', 283.73], ['cw', 'phi', 90.0]]\n",
      "[['cw', 'theta', 193.73], ['cw', 'phi', 90.0]] \t[['cw', 'theta', 193.73], ['cw', 'phi', 90.0]]\n",
      "[['cw', 'theta', 283.73], ['cw', 'phi', 180.0]] \t[['cw', 'theta', 283.73], ['cw', 'phi', 180.0]]\n",
      "[['cw', 'theta', 103.73], ['cw', 'phi', 180.0]] \t[['cw', 'theta', 103.73], ['cw', 'phi', 180.0]]\n",
      "[['ccw', 'theta', 13.73], ['ccw', 'phi', 180.0]] \t[['ccw', 'theta', 13.73], ['ccw', 'phi', 180.0]]\n",
      "[['ccw', 'theta', 103.73], ['ccw', 'phi', 90.0]] \t[['ccw', 'theta', 103.73], ['ccw', 'phi', 90.0]]\n",
      "[['ccw', 'theta', 13.73], ['ccw', 'phi', 90.0]] \t[['ccw', 'theta', 13.73], ['ccw', 'phi', 90.0]]\n",
      "[['ccw', 'theta', 193.73], ['ccw', 'phi', 180.0]] \t[['ccw', 'theta', 193.73], ['ccw', 'phi', 180.0]]\n",
      "[['ccw', 'theta', 283.73], ['ccw', 'phi', 90.0]] \t[['ccw', 'theta', 283.73], ['ccw', 'phi', 90.0]]\n",
      "[['ccw', 'theta', 193.73], ['ccw', 'phi', 90.0]] \t[['ccw', 'theta', 193.73], ['ccw', 'phi', 90.0]]\n",
      "[['ccw', 'theta', 283.73], ['ccw', 'phi', 180.0]] \t[['ccw', 'theta', 283.73], ['ccw', 'phi', 180.0]]\n",
      "[['ccw', 'theta', 103.73], ['ccw', 'phi', 180.0]] \t[['ccw', 'theta', 103.73], ['ccw', 'phi', 180.0]]\n",
      "[['cw', 'theta', 90.0], ['ccw', 'phi', 90.0]] \t[['cw', 'theta', 90.0], ['ccw', 'phi', 90.0]]\n",
      "[['ccw', 'phi', 90.0]] \t[['ccw', 'phi', 90.0]]\n",
      "[['cw', 'theta', 90.0], ['ccw', 'phi', 90.0]] \t[['cw', 'theta', 90.0], ['ccw', 'phi', 90.0]]\n",
      "[['ccw', 'theta', 90.0]] \t[['ccw', 'theta', 90.0]]\n",
      "[['cw', 'theta', 90.0], ['cw', 'phi', 90.0]] \t[['cw', 'theta', 90.0], ['cw', 'phi', 90.0]]\n",
      "[['ccw', 'theta', 180.0]] \t[['ccw', 'theta', 180.0]]\n",
      "[['cw', 'theta', 90.0]] \t[['cw', 'theta', 90.0]]\n",
      "[['cw', 'theta', 180.0]] \t[['cw', 'theta', 180.0]]\n",
      "[['cw', 'theta', 90.0], ['cw', 'phi', 90.0]] \t[['cw', 'theta', 90.0], ['cw', 'phi', 90.0]]\n",
      "[['cw', 'theta', 180.0], ['cw', 'phi', 90.0]] \t[['cw', 'theta', 180.0], ['cw', 'phi', 90.0]]\n",
      "[['cw', 'theta', 270.0], ['ccw', 'phi', 90.0]] \t[['cw', 'theta', 270.0], ['ccw', 'phi', 90.0]]\n",
      "[['cw', 'theta', 180.0]] \t[['cw', 'theta', 180.0]]\n",
      "[['cw', 'theta', 270.0]] \t[['cw', 'theta', 270.0]]\n",
      "[['cw', 'theta', 180.0], ['ccw', 'phi', 90.0]] \t[['cw', 'theta', 180.0], ['ccw', 'phi', 90.0]]\n",
      "[['cw', 'theta', 90.0]] \t[['cw', 'theta', 90.0]]\n",
      "[['cw', 'theta', 180.0]] \t[['cw', 'theta', 180.0]]\n",
      "[['cw', 'theta', 270.0]] \t[['cw', 'theta', 270.0]]\n",
      "[['cw', 'theta', 180.0], ['cw', 'phi', 90.0]] \t[['cw', 'theta', 180.0], ['cw', 'phi', 90.0]]\n",
      "[['cw', 'theta', 270.0], ['cw', 'phi', 90.0]] \t[['cw', 'theta', 270.0], ['cw', 'phi', 90.0]]\n",
      "[['cw', 'theta', 90.0]] \t[['cw', 'theta', 90.0]]\n",
      "[['cw', 'phi', 90.0]] \t[['cw', 'phi', 90.0]]\n",
      "[['cw', 'theta', 90.0], ['cw', 'phi', 90.0]] \t[['cw', 'theta', 90.0], ['cw', 'phi', 90.0]]\n",
      "[['ccw', 'theta', 90.0], ['cw', 'phi', 90.0]] \t[['ccw', 'theta', 90.0], ['cw', 'phi', 90.0]]\n",
      "[['cw', 'phi', 90.0]] \t[['cw', 'phi', 90.0]]\n",
      "[['ccw', 'theta', 90.0], ['cw', 'phi', 90.0]] \t[['ccw', 'theta', 90.0], ['cw', 'phi', 90.0]]\n",
      "[['cw', 'theta', 90.0]] \t[['cw', 'theta', 90.0]]\n",
      "[['ccw', 'theta', 90.0], ['ccw', 'phi', 90.0]] \t[['ccw', 'theta', 90.0], ['ccw', 'phi', 90.0]]\n",
      "[['cw', 'theta', 180.0]] \t[['cw', 'theta', 180.0]]\n",
      "[['ccw', 'theta', 90.0]] \t[['ccw', 'theta', 90.0]]\n",
      "[['ccw', 'theta', 180.0]] \t[['ccw', 'theta', 180.0]]\n",
      "[['ccw', 'theta', 90.0], ['ccw', 'phi', 90.0]] \t[['ccw', 'theta', 90.0], ['ccw', 'phi', 90.0]]\n",
      "[['ccw', 'theta', 180.0], ['ccw', 'phi', 90.0]] \t[['ccw', 'theta', 180.0], ['ccw', 'phi', 90.0]]\n",
      "[['ccw', 'theta', 270.0], ['cw', 'phi', 90.0]] \t[['ccw', 'theta', 270.0], ['cw', 'phi', 90.0]]\n",
      "[['ccw', 'theta', 180.0]] \t[['ccw', 'theta', 180.0]]\n",
      "[['ccw', 'theta', 270.0]] \t[['ccw', 'theta', 270.0]]\n",
      "[['ccw', 'theta', 180.0], ['cw', 'phi', 90.0]] \t[['ccw', 'theta', 180.0], ['cw', 'phi', 90.0]]\n",
      "[['ccw', 'theta', 90.0]] \t[['ccw', 'theta', 90.0]]\n",
      "[['ccw', 'theta', 180.0]] \t[['ccw', 'theta', 180.0]]\n",
      "[['ccw', 'theta', 270.0]] \t[['ccw', 'theta', 270.0]]\n",
      "[['ccw', 'theta', 180.0], ['ccw', 'phi', 90.0]] \t[['ccw', 'theta', 180.0], ['ccw', 'phi', 90.0]]\n",
      "[['ccw', 'theta', 270.0], ['ccw', 'phi', 90.0]] \t[['ccw', 'theta', 270.0], ['ccw', 'phi', 90.0]]\n",
      "[['ccw', 'theta', 90.0]] \t[['ccw', 'theta', 90.0]]\n",
      "[['ccw', 'phi', 90.0]] \t[['ccw', 'phi', 90.0]]\n",
      "[['ccw', 'theta', 90.0], ['ccw', 'phi', 90.0]] \t[['ccw', 'theta', 90.0], ['ccw', 'phi', 90.0]]\n"
     ]
    }
   ],
   "source": [
    "# points for test phi move\n",
    "ql = (-(r1+r2), 0) \n",
    "qr = (       0, 0)\n",
    "qu =  ( -3  , -3)\n",
    "qd = ( -r1    , r2)\n",
    "qa = (6,0)\n",
    "qb = (3,3)\n",
    "qc = (3,-3)\n",
    "qe = (0,6)\n",
    "qf = (0,-6)\n",
    "\n",
    "\n",
    "# initial position vs final position\n",
    "truth_phi = {\n",
    "        #from home\n",
    "        (qr, ql):  [['cw', 'theta', 13.73],[\"cw\", \"phi\", 180.]],\n",
    "        (qr, qu):  [[\"cw\", 'theta',  103.73], [\"cw\", \"phi\", 90.]],\n",
    "        (qr, qd):  [[\"cw\", 'theta',  13.73], [\"cw\", \"phi\", 90.]],\n",
    "        (qr, qa):  [[\"cw\", 'theta',  193.73], [\"cw\", \"phi\", 180.]],\n",
    "        (qr, qb):  [[\"cw\", 'theta',  283.73], [\"cw\", \"phi\", 90.]],\n",
    "        (qr, qc):  [[\"cw\", 'theta',  193.73], [\"cw\", \"phi\", 90.]],\n",
    "        (qr, qe):  [[\"cw\", 'theta',  283.73], [\"cw\", \"phi\", 180.]],\n",
    "        (qr, qf):  [[\"cw\", 'theta',  103.73], [\"cw\", \"phi\", 180.]],\n",
    "    \n",
    "        #reverse\n",
    "        (ql, qr):  [['ccw', 'theta', 13.73],[\"ccw\", \"phi\", 180.]],\n",
    "        (qu, qr):  [[\"ccw\", 'theta',  103.73], [\"ccw\", \"phi\", 90.]],\n",
    "        (qd, qr):  [[\"ccw\", 'theta',  13.73], [\"ccw\", \"phi\", 90.]],\n",
    "        (qa, qr):  [[\"ccw\", 'theta',  193.73], [\"ccw\", \"phi\", 180.]],\n",
    "        (qb, qr):  [[\"ccw\", 'theta',  283.73], [\"ccw\", \"phi\", 90.]],\n",
    "        (qc, qr):  [[\"ccw\", 'theta',  193.73], [\"ccw\", \"phi\", 90.]],\n",
    "        (qe, qr):  [[\"ccw\", 'theta',  283.73], [\"ccw\", \"phi\", 180.]],\n",
    "        (qf, qr):  [[\"ccw\", 'theta',  103.73], [\"ccw\", \"phi\", 180.]],        \n",
    "        \n",
    "        #point to point\n",
    "        (ql, qu):  [[\"cw\", 'theta',  90.], [\"ccw\", \"phi\", 90.]],\n",
    "        (ql, qd):  [[\"ccw\", 'phi',   90.]],\n",
    "        (qa, qb):  [['cw', 'theta', 90.],[\"ccw\", \"phi\", 90.]],\n",
    "        (qb, qc):  [['ccw', 'theta', 90.]],\n",
    "        (qc, qe):  [['cw', 'theta', 90.],[\"cw\", \"phi\", 90.]],\n",
    "        (qe, qf):  [['ccw', 'theta', 180.]],\n",
    "        (qf, qa):  [['cw', 'theta', 90.]],\n",
    "        (ql, qa):  [[\"cw\", 'theta',  180.]],\n",
    "        (qu, qa):  [[\"cw\", 'theta',  90.], [\"cw\", \"phi\", 90.]],\n",
    "        (qd, qa):  [['cw', 'theta', 180.],[\"cw\", \"phi\", 90.]],\n",
    "        (ql, qb):  [['cw', 'theta', 270.],[\"ccw\", \"phi\", 90.]],\n",
    "        (qu, qb):  [[\"cw\", 'theta',  180.]],\n",
    "        (qd, qb):  [['cw', 'theta', 270.]],\n",
    "        (ql, qc):  [[\"cw\", 'theta',  180.], [\"ccw\", \"phi\", 90.]],\n",
    "        (qu, qc):  [[\"cw\", 'theta',  90.]],\n",
    "        (qd, qc):  [[\"cw\", 'theta',  180.]],\n",
    "        (ql, qe):  [[\"cw\", 'theta',  270.]],\n",
    "        (qu, qe):  [[\"cw\", 'theta',  180.], [\"cw\", \"phi\", 90.]],\n",
    "        (qd, qe):  [[\"cw\", 'theta',  270.], [\"cw\", \"phi\", 90.]],\n",
    "        (ql, qf):  [[\"cw\", 'theta',  90.]],\n",
    "        (qu, qf):  [[\"cw\", \"phi\", 90.]],\n",
    "        (qd, qf):  [[\"cw\", 'theta',  90.], [\"cw\", \"phi\", 90.]],\n",
    "    \n",
    "        #reverse\n",
    "        (qu, ql):  [[\"ccw\", 'theta',  90.], [\"cw\", \"phi\", 90.]],\n",
    "        (qd, ql):  [[\"cw\", 'phi',   90.]],\n",
    "        (qb, qa):  [['ccw', 'theta', 90.],[\"cw\", \"phi\", 90.]],\n",
    "        (qc, qb):  [['cw', 'theta', 90.]],\n",
    "        (qe, qc):  [['ccw', 'theta', 90.],[\"ccw\", \"phi\", 90.]],\n",
    "        (qf, qe):  [['cw', 'theta', 180.]],\n",
    "        (qa, qf):  [['ccw', 'theta', 90.]],\n",
    "        (qa, ql):  [[\"ccw\", 'theta',  180.]],\n",
    "        (qa, qu):  [[\"ccw\", 'theta',  90.], [\"ccw\", \"phi\", 90.]],\n",
    "        (qa, qd):  [['ccw', 'theta', 180.],[\"ccw\", \"phi\", 90.]],\n",
    "        (qb, ql):  [['ccw', 'theta', 270.],[\"cw\", \"phi\", 90.]],\n",
    "        (qb, qu):  [[\"ccw\", 'theta',  180.]],\n",
    "        (qb, qd):  [['ccw', 'theta', 270.]],\n",
    "        (qc, ql):  [[\"ccw\", 'theta',  180.], [\"cw\", \"phi\", 90.]],\n",
    "        (qc, qu):  [[\"ccw\", 'theta',  90.]],\n",
    "        (qc, qd):  [[\"ccw\", 'theta',  180.]],\n",
    "        (qe, ql):  [[\"ccw\", 'theta',  270.]],\n",
    "        (qe, qu):  [[\"ccw\", 'theta',  180.], [\"ccw\", \"phi\", 90.]],\n",
    "        (qe, qd):  [[\"ccw\", 'theta',  270.], [\"ccw\", \"phi\", 90.]],\n",
    "        (qf, ql):  [[\"ccw\", 'theta',  90.]],\n",
    "        (qf, qu):  [[\"ccw\", \"phi\", 90.]],\n",
    "        (qf, qd):  [[\"ccw\", 'theta',  90.], [\"ccw\", \"phi\", 90.]],\n",
    "        }\n",
    "\n",
    "# Test phi:\n",
    "for p0,pf in list(truth_phi.keys()): # read xy targets from the dictionary\n",
    "    move =  xylib.calc_movetables(h, r1, r2, *p0, *pf )\n",
    "    print(move, end=\" \\t\") # print calculated move\n",
    "    print(truth_phi[(p0,pf)]) # print right answer\n",
    "    assert move == truth_phi[(p0,pf)], \"Error!\" # compares calc and truth"
   ]
  },
  {
   "cell_type": "code",
   "execution_count": 13,
   "id": "5e9749ba",
   "metadata": {},
   "outputs": [],
   "source": [
    "pl = (-6, 0) \n",
    "pr = ( 6, 0)\n",
    "pu = ( 0,-6)\n",
    "pd = ( 0, 6)\n",
    "pld = (-6*np.cos(np.pi/4),  6*np.sin(np.pi/4) ) # 'point left down' for the observer\n",
    "plu = (-6*np.cos(np.pi/4), -6*np.sin(np.pi/4) )\n",
    "prd = ( 6*np.cos(np.pi/4),  6*np.sin(np.pi/4) )\n",
    "pru = ( 6*np.cos(np.pi/4), -6*np.sin(np.pi/4) )"
   ]
  },
  {
   "cell_type": "code",
   "execution_count": 12,
   "id": "9ebc14bb",
   "metadata": {
    "scrolled": true
   },
   "outputs": [
    {
     "name": "stdout",
     "output_type": "stream",
     "text": [
      "[['cw', 'theta', 90.0]] \t[['cw', 'theta', 90.0]]\n",
      "[['cw', 'theta', 270.0]] \t[['cw', 'theta', 270.0]]\n",
      "[['cw', 'theta', 180.0]] \t[['cw', 'theta', 180.0]]\n",
      "[['cw', 'theta', 180.0]] \t[['cw', 'theta', 180.0]]\n",
      "[['ccw', 'theta', 90.0]] \t[['ccw', 'theta', 90.0]]\n",
      "[['cw', 'theta', 225.0]] \t[['cw', 'theta', 225.0]]\n",
      "[['cw', 'theta', 315.0]] \t[['cw', 'theta', 315.0]]\n",
      "[['ccw', 'theta', 315.0]] \t[['ccw', 'theta', 315.0]]\n"
     ]
    }
   ],
   "source": [
    "truth = {(pl, pu):  [[\"cw\", 'theta',  90.]],\n",
    "         (pl, pd):  [[\"cw\", 'theta', 270.]],\n",
    "         (pl, pr):  [[\"cw\", 'theta', 180.]],\n",
    "         (pu, pd):  [[\"cw\", 'theta', 180.]],\n",
    "         (pu, pl):  [[\"ccw\",'theta',  90.]],\n",
    "         (pu, pld): [[\"cw\", 'theta', 225.]],\n",
    "         (pl, pld): [[\"cw\", 'theta', 315.]],\n",
    "         (pld, pl): [[\"ccw\", 'theta', 315.]],\n",
    "        }\n",
    "\n",
    "for p0,pf in list(truth.keys()):\n",
    "    move =  xylib.calc_movetables(h, r1, r2, *p0, *pf )\n",
    "    print(move, end=\" \\t\")\n",
    "    print(truth[(p0,pf)])\n",
    "    assert move == truth[(p0,pf)], \"Error!\""
   ]
  },
  {
   "cell_type": "code",
   "execution_count": 20,
   "id": "73142624",
   "metadata": {},
   "outputs": [
    {
     "ename": "NameError",
     "evalue": "name 'pix2mm' is not defined",
     "output_type": "error",
     "traceback": [
      "\u001b[0;31m---------------------------------------------------------------------------\u001b[0m",
      "\u001b[0;31mNameError\u001b[0m                                 Traceback (most recent call last)",
      "\u001b[0;32m<ipython-input-20-6e1f276b96cf>\u001b[0m in \u001b[0;36m<module>\u001b[0;34m\u001b[0m\n\u001b[0;32m----> 1\u001b[0;31m \u001b[0;36m69.60399862271909\u001b[0m\u001b[0;34m,\u001b[0m \u001b[0;36m31.40032983828514\u001b[0m\u001b[0;34m/\u001b[0m\u001b[0mpix2mm\u001b[0m\u001b[0;34m\u001b[0m\u001b[0;34m\u001b[0m\u001b[0m\n\u001b[0m",
      "\u001b[0;31mNameError\u001b[0m: name 'pix2mm' is not defined"
     ]
    }
   ],
   "source": []
  },
  {
   "cell_type": "code",
   "execution_count": 19,
   "id": "596d5e0b",
   "metadata": {},
   "outputs": [
    {
     "data": {
      "text/plain": [
       "[['ccw', 'theta', 339.79563917], ['ccw', 'phi', 84.17247308]]"
      ]
     },
     "execution_count": 19,
     "metadata": {},
     "output_type": "execute_result"
    }
   ],
   "source": [
    "xylib.calc_movetables(h, 3.07, 2.96,  -5.621, 2.162, -3.0747, 2.96)"
   ]
  },
  {
   "cell_type": "code",
   "execution_count": null,
   "id": "47d03c60",
   "metadata": {},
   "outputs": [],
   "source": [
    "#Check if this is consistent\n",
    "xylib.calc_movetables( -166.27, 3.079, 2.966, -2.029635, 3.817421, 3.0747, -2.9625)"
   ]
  }
 ],
 "metadata": {
  "kernelspec": {
   "display_name": "Python 3",
   "language": "python",
   "name": "python3"
  },
  "language_info": {
   "codemirror_mode": {
    "name": "ipython",
    "version": 3
   },
   "file_extension": ".py",
   "mimetype": "text/x-python",
   "name": "python",
   "nbconvert_exporter": "python",
   "pygments_lexer": "ipython3",
   "version": "3.6.15"
  }
 },
 "nbformat": 4,
 "nbformat_minor": 5
}
