{
 "cells": [
  {
   "cell_type": "code",
   "execution_count": 1,
   "id": "c2ad5b36",
   "metadata": {},
   "outputs": [],
   "source": [
    "from astropy.io import fits\n",
    "import os\n",
    "from spotfinder import spotfinder\n",
    "import matplotlib.pyplot as plt\n",
    "from glob import glob\n",
    "import numpy as np\n",
    "import math\n",
    "from sbigCam import *\n",
    "import time\n",
    "import pandas as pd\n",
    "from scipy.stats import norm\n",
    "import matplotlib.colors as mcolors\n",
    "import circle_fit as cf"
   ]
  },
  {
   "cell_type": "code",
   "execution_count": 3,
   "id": "7a661162",
   "metadata": {},
   "outputs": [
    {
     "name": "stdout",
     "output_type": "stream",
     "text": [
      "/home/msdos/um_scripts/sbigpics/29Nov202210:38:06\n"
     ]
    }
   ],
   "source": [
    "folder = time.strftime(\"%d%b%Y%H:%M:%S\") #name the folder that will contain your photos\n",
    "\n",
    "#change this next line to any place you want the folder to go\n",
    "save_path = '/home/msdos/um_scripts/sbigpics/'\n",
    "newpath = os.path.join(save_path, folder)\n",
    "if not os.path.exists(newpath):\n",
    "        os.makedirs(newpath)\n",
    "newpath\n",
    "os.chdir(newpath)\n",
    "print(newpath) #show photo save location in full"
   ]
  },
  {
   "cell_type": "code",
   "execution_count": 4,
   "id": "79d32d71",
   "metadata": {},
   "outputs": [],
   "source": [
    "xdata=[]\n",
    "ydata=[]\n",
    "peaksdata=[]\n",
    "fwhmdata=[]\n",
    "energy=[]"
   ]
  },
  {
   "cell_type": "code",
   "execution_count": 5,
   "id": "f6cb4fc0",
   "metadata": {
    "scrolled": true
   },
   "outputs": [
    {
     "name": "stdout",
     "output_type": "stream",
     "text": [
      "Code 20: device already closed.\n",
      "Code 20: driver already closed.\n"
     ]
    },
    {
     "data": {
      "text/plain": [
       "True"
      ]
     },
     "execution_count": 5,
     "metadata": {},
     "output_type": "execute_result"
    }
   ],
   "source": [
    "#if you suddenly have to stop the next line during photo taking, the camera will not close \n",
    "#you can run this to close it  \n",
    "cam = SBIGCam()\n",
    "cam.close_camera()"
   ]
  },
  {
   "cell_type": "code",
   "execution_count": 98,
   "id": "1c231663",
   "metadata": {
    "scrolled": true
   },
   "outputs": [
    {
     "name": "stdout",
     "output_type": "stream",
     "text": [
      "{'camerasFound': 1,\n",
      " 'updated': True,\n",
      " 'usbInfo': [{'cameraFound': True,\n",
      "              'cameraType': 'STF',\n",
      "              'deviceType': 'USB1',\n",
      "              'name': 'SBIG STF-8300 CCD Camera',\n",
      "              'serialNumber': '83F011779'}]}\n",
      "Photo #1 taken successfully.\n",
      "Done.\n"
     ]
    }
   ],
   "source": [
    "cam = SBIGCam() #select camera and adjust settings \n",
    "cam.open_camera()\n",
    "cam.select_camera('ST8300')\n",
    "cam.set_exposure_time(10000)\n",
    "cam.set_dark(False)\n",
    "i = 1\n",
    "while i <= 1: #number of times to run loop, aka number of photos\n",
    "    image=cam.start_exposure()\n",
    "    cam.write_fits(image,name = time.strftime(\"%Y-%m-%d-%H%M%S\") + '.fits')\n",
    "    print(f'Photo #{i} taken successfully.')\n",
    "    i += 1\n",
    "else: \n",
    "    cam.close_camera() #close camera after loop ends\n",
    "    print('Done.')"
   ]
  },
  {
   "cell_type": "code",
   "execution_count": 99,
   "id": "da5317b7",
   "metadata": {
    "scrolled": false
   },
   "outputs": [
    {
     "name": "stdout",
     "output_type": "stream",
     "text": [
      "['/home/msdos/um_scripts/sbigpics/29Nov202210:38:06/2022-11-29-103820.fits', '/home/msdos/um_scripts/sbigpics/29Nov202210:38:06/2022-11-29-104050.fits', '/home/msdos/um_scripts/sbigpics/29Nov202210:38:06/2022-11-29-105151.fits', '/home/msdos/um_scripts/sbigpics/29Nov202210:38:06/2022-11-29-105212.fits', '/home/msdos/um_scripts/sbigpics/29Nov202210:38:06/2022-11-29-105228.fits', '/home/msdos/um_scripts/sbigpics/29Nov202210:38:06/2022-11-29-105800.fits', '/home/msdos/um_scripts/sbigpics/29Nov202210:38:06/2022-11-29-110102.fits', '/home/msdos/um_scripts/sbigpics/29Nov202210:38:06/2022-11-29-110246.fits', '/home/msdos/um_scripts/sbigpics/29Nov202210:38:06/2022-11-29-110508.fits', '/home/msdos/um_scripts/sbigpics/29Nov202210:38:06/2022-11-29-110534.fits', '/home/msdos/um_scripts/sbigpics/29Nov202210:38:06/2022-11-29-110622.fits', '/home/msdos/um_scripts/sbigpics/29Nov202210:38:06/2022-11-29-110701.fits']\n"
     ]
    }
   ],
   "source": [
    "files=glob(f'{newpath}/*.fits') #grab the files from the new directory\n",
    "files.sort() #make sure files are in the order they were created\n",
    "print(files)\n",
    "files = files[:]"
   ]
  },
  {
   "cell_type": "code",
   "execution_count": 100,
   "id": "af3e5450",
   "metadata": {},
   "outputs": [],
   "source": [
    "#line for importing photos already taken\n",
    "#files = glob('/data/common/20221121/15degArcSeq2/*.fits')\n",
    "#files.sort()"
   ]
  },
  {
   "cell_type": "code",
   "execution_count": 101,
   "id": "630eb5af",
   "metadata": {},
   "outputs": [],
   "source": [
    "expected_spot_count = 1"
   ]
  },
  {
   "cell_type": "code",
   "execution_count": 108,
   "id": "1b756f4c",
   "metadata": {},
   "outputs": [
    {
     "data": {
      "text/plain": [
       "{'peaks': [86477.0763247582],\n",
       " 'x': [2053.689667790239],\n",
       " 'y': [912.2657545827531],\n",
       " 'fwhm': [3.523448355777125],\n",
       " 'energy': [4.649386013410884]}"
      ]
     },
     "execution_count": 108,
     "metadata": {},
     "output_type": "execute_result"
    }
   ],
   "source": [
    "centroids"
   ]
  },
  {
   "cell_type": "code",
   "execution_count": 111,
   "id": "110106d5",
   "metadata": {},
   "outputs": [
    {
     "name": "stdout",
     "output_type": "stream",
     "text": [
      "Edge hot spot\n"
     ]
    },
    {
     "name": "stderr",
     "output_type": "stream",
     "text": [
      "/data/common/software/products/python-3.6.15.Linux64/lib/python3.6/site-packages/scipy/ndimage/measurements.py:1391: RuntimeWarning: invalid value encountered in true_divide\n",
      "  for dir in range(input.ndim)]\n"
     ]
    },
    {
     "name": "stdout",
     "output_type": "stream",
     "text": [
      "Edge hot spot\n",
      "Edge hot spot\n",
      "Edge hot spot\n",
      "Edge hot spot\n",
      "Edge hot spot\n",
      "Edge hot spot\n",
      "Edge hot spot\n",
      "Edge hot spot\n",
      "Edge hot spot\n",
      "Edge hot spot\n",
      "Edge hot spot\n",
      "Edge hot spot\n",
      "Edge hot spot\n"
     ]
    },
    {
     "name": "stderr",
     "output_type": "stream",
     "text": [
      "/data/common/software/products/python-3.6.15.Linux64/lib/python3.6/site-packages/scipy/optimize/minpack.py:475: RuntimeWarning: Number of calls to function has reached maxfev = 1400.\n",
      "  warnings.warn(errors[info][0], RuntimeWarning)\n"
     ]
    },
    {
     "name": "stdout",
     "output_type": "stream",
     "text": [
      " fit failed - trying again with smaller fitbox\n",
      "peak = 71238.35071288353 brightness appears out of expected range\n",
      "fwhm = 0.4120965804095754 appears invalid, check if fitbox size (7) is appropriate and dots are sufficiently illuminated\n",
      " File: /home/msdos/um_scripts/sbigpics/29Nov202210:38:06/2022-11-29-104050.fits\n",
      " Number of centroids requested: 1\n",
      " Fitboxsize: 7\n",
      " Centroid list:\n",
      " Spot  x          y         FWHM    Peak     LD  \n",
      "    0  1729.998  2255.337   0.41    71238    0.45 \n",
      " Min peak   : 71238.35 \n",
      " Max peak   : 71238.35 \n",
      " Mean peak  : 71238.35 \n",
      " Sigma peak :     0.00 \n",
      "here\n",
      "{'peaks': [71238.35071288353], 'x': [1729.9983038735627], 'y': [2255.3371596698707], 'fwhm': [0.4120965804095754], 'energy': [0.44796033757224907]}\n",
      "Edge hot spot\n",
      "Edge hot spot\n",
      "Edge hot spot\n",
      "Edge hot spot\n",
      "Edge hot spot\n",
      "Edge hot spot\n",
      "Edge hot spot\n",
      "Edge hot spot\n",
      "Edge hot spot\n",
      "Edge hot spot\n",
      "Edge hot spot\n",
      "Edge hot spot\n",
      "Edge hot spot\n",
      "Edge hot spot\n",
      " File: /home/msdos/um_scripts/sbigpics/29Nov202210:38:06/2022-11-29-105212.fits\n",
      " Number of centroids requested: 1\n",
      " Fitboxsize: 7\n",
      " Centroid list:\n",
      " Spot  x          y         FWHM    Peak     LD  \n",
      "    0  2160.008  2300.542   1.19     3470    0.06 *\n",
      " Min peak   :  3470.14 \n",
      " Max peak   :  3470.14 \n",
      " Mean peak  :  3470.14 \n",
      " Sigma peak :     0.00 \n",
      "here\n",
      "{'peaks': [3470.143429988801], 'x': [2160.0084995078832], 'y': [2300.541738319163], 'fwhm': [1.1910466213091633], 'energy': [0.06306710319289467]}\n",
      "Edge hot spot\n",
      "Edge hot spot\n",
      "Edge hot spot\n",
      "Edge hot spot\n",
      "Edge hot spot\n",
      "Edge hot spot\n",
      "Edge hot spot\n",
      "Edge hot spot\n",
      " fit failed - trying again with smaller fitbox\n",
      "fwhm = 0.40040781071953274 appears invalid, check if fitbox size (7) is appropriate and dots are sufficiently illuminated\n",
      " File: /home/msdos/um_scripts/sbigpics/29Nov202210:38:06/2022-11-29-105228.fits\n",
      " Number of centroids requested: 1\n",
      " Fitboxsize: 7\n",
      " Centroid list:\n",
      " Spot  x          y         FWHM    Peak     LD  \n",
      "    0  1730.000  2255.350   0.40    23991    0.15 *\n",
      " Min peak   : 23990.98 \n",
      " Max peak   : 23990.98 \n",
      " Mean peak  : 23990.98 \n",
      " Sigma peak :     0.00 \n",
      "here\n",
      "{'peaks': [23990.98037077966], 'x': [1730.0001366849108], 'y': [2255.3496426439538], 'fwhm': [0.40040781071953274], 'energy': [0.14658084881787087]}\n",
      "Edge hot spot\n",
      "Edge hot spot\n",
      "Edge hot spot\n",
      "Edge hot spot\n",
      "Edge hot spot\n",
      "Edge hot spot\n",
      "Edge hot spot\n",
      " File: /home/msdos/um_scripts/sbigpics/29Nov202210:38:06/2022-11-29-110246.fits\n",
      " Number of centroids requested: 1\n",
      " Fitboxsize: 7\n",
      " Centroid list:\n",
      " Spot  x          y         FWHM    Peak     LD  \n",
      "    0  2053.762   912.169   2.31    19579    0.69 \n",
      " Min peak   : 19578.78 \n",
      " Max peak   : 19578.78 \n",
      " Mean peak  : 19578.78 \n",
      " Sigma peak :     0.00 \n",
      "here\n",
      "{'peaks': [19578.77580726468], 'x': [2053.7618654846005], 'y': [912.1687509776108], 'fwhm': [2.314038325071284], 'energy': [0.6913258194245661]}\n",
      " File: /home/msdos/um_scripts/sbigpics/29Nov202210:38:06/2022-11-29-110508.fits\n",
      " Number of centroids requested: 1\n",
      " Fitboxsize: 7\n",
      " Centroid list:\n",
      " Spot  x          y         FWHM    Peak     LD  \n",
      "    0  2053.744   912.163   2.35    19484    0.70 \n",
      " Min peak   : 19484.14 \n",
      " Max peak   : 19484.14 \n",
      " Mean peak  : 19484.14 \n",
      " Sigma peak :     0.00 \n",
      "here\n",
      "{'peaks': [19484.136115952482], 'x': [2053.74446905907], 'y': [912.1626035354303], 'fwhm': [2.345381914159758], 'energy': [0.6973028222992584]}\n",
      "Edge hot spot\n",
      "Edge hot spot\n",
      "Edge hot spot\n",
      " File: /home/msdos/um_scripts/sbigpics/29Nov202210:38:06/2022-11-29-110534.fits\n",
      " Number of centroids requested: 1\n",
      " Fitboxsize: 7\n",
      " Centroid list:\n",
      " Spot  x          y         FWHM    Peak     LD  \n",
      "    0  2053.736   912.186   2.32    38953    1.38 \n",
      " Min peak   : 38952.79 \n",
      " Max peak   : 38952.79 \n",
      " Mean peak  : 38952.79 \n",
      " Sigma peak :     0.00 \n",
      "here\n",
      "{'peaks': [38952.79057895117], 'x': [2053.7364871604677], 'y': [912.185863131709], 'fwhm': [2.3248674097408832], 'energy': [1.3818581419922988]}\n",
      "Edge hot spot\n",
      "Edge hot spot\n",
      "Edge hot spot\n",
      "Edge hot spot\n",
      "Edge hot spot\n",
      "Edge hot spot\n",
      "Edge hot spot\n",
      "Edge hot spot\n",
      "peak = 86262.1617487722 brightness appears out of expected range\n",
      " File: /home/msdos/um_scripts/sbigpics/29Nov202210:38:06/2022-11-29-110622.fits\n",
      " Number of centroids requested: 1\n",
      " Fitboxsize: 7\n",
      " Centroid list:\n",
      " Spot  x          y         FWHM    Peak     LD  \n",
      "    0  2053.770   912.137   2.82    86262    3.71 \n",
      " Min peak   : 86262.16 \n",
      " Max peak   : 86262.16 \n",
      " Mean peak  : 86262.16 \n",
      " Sigma peak :     0.00 \n",
      "here\n",
      "{'peaks': [86262.1617487722], 'x': [2053.76972978881], 'y': [912.1373856200544], 'fwhm': [2.8200016937110832], 'energy': [3.7119011556377055]}\n",
      "Edge hot spot\n",
      "Edge hot spot\n",
      "Edge hot spot\n",
      "Edge hot spot\n",
      "Edge hot spot\n",
      "Edge hot spot\n",
      "Edge hot spot\n",
      "Edge hot spot\n",
      "Edge hot spot\n",
      "Edge hot spot\n",
      "Edge hot spot\n",
      "Edge hot spot\n",
      "peak = 86477.0763247582 brightness appears out of expected range\n",
      " File: /home/msdos/um_scripts/sbigpics/29Nov202210:38:06/2022-11-29-110701.fits\n",
      " Number of centroids requested: 1\n",
      " Fitboxsize: 7\n",
      " Centroid list:\n",
      " Spot  x          y         FWHM    Peak     LD  \n",
      "    0  2053.690   912.266   3.52    86477    4.65 \n",
      " Min peak   : 86477.08 \n",
      " Max peak   : 86477.08 \n",
      " Mean peak  : 86477.08 \n",
      " Sigma peak :     0.00 \n",
      "here\n",
      "{'peaks': [86477.0763247582], 'x': [2053.689667790239], 'y': [912.2657545827531], 'fwhm': [3.523448355777125], 'energy': [4.649386013410884]}\n"
     ]
    }
   ],
   "source": [
    "#spotfinder\n",
    "xx, yy, peaks, fwhm, energy = [],[],[],[],[]\n",
    "for file_name in files:\n",
    "    try: #try to detect the spot\n",
    "        sf=spotfinder.SpotFinder(file_name, expected_spot_count)\n",
    "        centroids = sf.get_centroids(print_summary = True, region_file='regions.reg')\n",
    "        \n",
    "        print(centroids)\n",
    "        #separate dictionaries for plotting purposes\n",
    "        res = dict((k, centroids[k]) for k in ['x']\n",
    "                                        if k in centroids)\n",
    "        res2 = dict((k, centroids[k]) for k in ['y']\n",
    "                                        if k in centroids)\n",
    "        \n",
    "        \n",
    "        x =[value[i] for value in res.values()\n",
    "             for i in range(expected_spot_count)]\n",
    "        xx.append(x)\n",
    "    \n",
    "        y =[value[i] for value in res2.values()\n",
    "             for i in range(expected_spot_count)]\n",
    "        yy.append(y)\n",
    "        peaks.append(centroids['peaks'][0] )\n",
    "    except: #ignore photo if an error is raised\n",
    "        pass"
   ]
  },
  {
   "cell_type": "code",
   "execution_count": 112,
   "id": "54050a4b",
   "metadata": {},
   "outputs": [
    {
     "data": {
      "text/plain": [
       "[71238.35071288353,\n",
       " 3470.143429988801,\n",
       " 23990.98037077966,\n",
       " 19578.77580726468,\n",
       " 19484.136115952482,\n",
       " 38952.79057895117,\n",
       " 86262.1617487722,\n",
       " 86477.0763247582]"
      ]
     },
     "execution_count": 112,
     "metadata": {},
     "output_type": "execute_result"
    }
   ],
   "source": [
    "peaks"
   ]
  },
  {
   "cell_type": "code",
   "execution_count": 105,
   "id": "c66d3d05",
   "metadata": {
    "scrolled": true
   },
   "outputs": [
    {
     "name": "stdout",
     "output_type": "stream",
     "text": [
      "(([1729.9983038735627], [2255.3371596698707]), ([2160.0084995078832], [2300.541738319163]), ([1730.0001366849108], [2255.3496426439538]), ([2053.7618654846005], [912.1687509776108]), ([2053.74446905907], [912.1626035354303]), ([2053.7364871604677], [912.185863131709]), ([2053.76972978881], [912.1373856200544]), ([2053.689667790239], [912.2657545827531]))\n",
      "8\n"
     ]
    }
   ],
   "source": [
    "# print(xx,yy)\n",
    "coords=tuple(zip(xx,yy))\n",
    "print(coords)\n",
    "print(len(coords)) #tells you how many photos had detectable spots"
   ]
  },
  {
   "cell_type": "code",
   "execution_count": 106,
   "id": "53c84039",
   "metadata": {
    "scrolled": true
   },
   "outputs": [
    {
     "data": {
      "image/png": "[encoded data removed]",
      "text/plain": [
       "<Figure size 432x288 with 2 Axes>"
      ]
     },
     "metadata": {
      "needs_background": "light"
     },
     "output_type": "display_data"
    }
   ],
   "source": [
    "#plot the detected spots, color order indicates order of photos\n",
    "clist=np.arange(start=0,stop=len(xx))\n",
    "plt.scatter(xx,yy,c=clist,cmap='rainbow_r')\n",
    "plt.colorbar(label ='Photo number')\n",
    "plt.title('Detected spots')\n",
    "plt.xlabel('X coordinate (pix)')\n",
    "plt.ylabel('Y coordinate (pix)')\n",
    "plt.axis('equal')\n",
    "plt.show()"
   ]
  },
  {
   "cell_type": "code",
   "execution_count": 124,
   "id": "8957a01c",
   "metadata": {},
   "outputs": [
    {
     "data": {
      "text/plain": [
       "[<matplotlib.lines.Line2D at 0x7fbe0895b358>]"
      ]
     },
     "execution_count": 124,
     "metadata": {},
     "output_type": "execute_result"
    },
    {
     "data": {
      "image/png": "[encoded data removed]",
      "text/plain": [
       "<Figure size 432x288 with 1 Axes>"
      ]
     },
     "metadata": {
      "needs_background": "light"
     },
     "output_type": "display_data"
    }
   ],
   "source": [
    "plt.plot(xx)\n",
    "plt.plot(yy)\n",
    "plt.plot(peaks/np.max(peaks)*2000)"
   ]
  },
  {
   "cell_type": "code",
   "execution_count": 12,
   "id": "018b85a8",
   "metadata": {},
   "outputs": [],
   "source": [
    "distance = np.sqrt((xx-np.mean(xx))**2+(yy-np.mean(yy))**2)"
   ]
  },
  {
   "cell_type": "code",
   "execution_count": 13,
   "id": "a447c619",
   "metadata": {},
   "outputs": [
    {
     "name": "stderr",
     "output_type": "stream",
     "text": [
      "/data/common/software/products/python-3.6.15.Linux64/lib/python3.6/site-packages/scipy/stats/_distn_infrastructure.py:1760: RuntimeWarning: divide by zero encountered in true_divide\n",
      "  x = np.asarray((x - loc)/scale, dtype=dtyp)\n"
     ]
    },
    {
     "data": {
      "image/png": "[encoded data removed]",
      "text/plain": [
       "<Figure size 432x288 with 1 Axes>"
      ]
     },
     "metadata": {
      "needs_background": "light"
     },
     "output_type": "display_data"
    },
    {
     "data": {
      "text/plain": [
       "<Figure size 432x288 with 0 Axes>"
      ]
     },
     "metadata": {},
     "output_type": "display_data"
    }
   ],
   "source": [
    "mu, std = norm.fit(distance*41.6)\n",
    "\n",
    "plt.hist(distance*41.6, density=1, color='#FF3131')\n",
    "#plt.hist(scale, bins=5, density=True, alpha=0.6, color='b')\n",
    "\n",
    "#plt.title(\"X coordinate distance from X median\")\n",
    "# adding labels\n",
    "plt.xlabel('distance from median in um')\n",
    "plt.ylabel('frequency')\n",
    "\n",
    "\n",
    "xmin, xmax = plt.xlim()\n",
    "x = np.linspace(xmin, xmax, 100)\n",
    "p = norm.pdf(x, mu, std)\n",
    "\n",
    "plt.plot(x, p, 'k', linewidth=2)\n",
    "title = \"Distance Fit Values: mean {:.6f} and std {:.6f}\".format(mu, std)\n",
    "plt.title(title)\n",
    "  \n",
    "plt.show()\n",
    "plt.savefig(\"distfrommediandist.jpg\")\n"
   ]
  },
  {
   "cell_type": "code",
   "execution_count": 14,
   "id": "040ff042",
   "metadata": {},
   "outputs": [
    {
     "name": "stderr",
     "output_type": "stream",
     "text": [
      "/data/common/software/products/python-3.6.15.Linux64/lib/python3.6/site-packages/circle_fit/circle_fit.py:90: RuntimeWarning: invalid value encountered in double_scalars\n",
      "  xnew = x - y/Dy\n",
      "/data/common/software/products/python-3.6.15.Linux64/lib/python3.6/site-packages/circle_fit/circle_fit.py:99: RuntimeWarning: invalid value encountered in double_scalars\n",
      "  Xcenter = (Mxz*(Myy - x) - Myz*Mxy)/det/2.\n",
      "/data/common/software/products/python-3.6.15.Linux64/lib/python3.6/site-packages/circle_fit/circle_fit.py:100: RuntimeWarning: invalid value encountered in double_scalars\n",
      "  Ycenter = (Myz*(Mxx - x) - Mxz*Mxy)/det/2.\n"
     ]
    }
   ],
   "source": [
    "coords = [[xx[i],yy[i]] for i in range(len(files))]\n",
    "xc,yc,rhf,s = cf.hyper_fit(coords)\n",
    "hfradius = rhf * .0417"
   ]
  },
  {
   "cell_type": "code",
   "execution_count": 15,
   "id": "d902b9a2",
   "metadata": {},
   "outputs": [
    {
     "name": "stdout",
     "output_type": "stream",
     "text": [
      "Hyper fit radius: nan mm\n"
     ]
    },
    {
     "data": {
      "image/png": "[encoded data removed]",
      "text/plain": [
       "<Figure size 432x288 with 1 Axes>"
      ]
     },
     "metadata": {},
     "output_type": "display_data"
    }
   ],
   "source": [
    "cf.plot_data_circle(xx,yy,xc,yc,rhf)\n",
    "print('Hyper fit radius:',hfradius,'mm')\n",
    "plt.show()"
   ]
  },
  {
   "cell_type": "code",
   "execution_count": null,
   "id": "2360499e",
   "metadata": {},
   "outputs": [],
   "source": []
  },
  {
   "cell_type": "code",
   "execution_count": 123,
   "id": "7f9d0b81",
   "metadata": {},
   "outputs": [
    {
     "data": {
      "text/plain": [
       "(912, 2054)"
      ]
     },
     "execution_count": 123,
     "metadata": {},
     "output_type": "execute_result"
    }
   ],
   "source": [
    "im = fits.getdata(files[-5])\n",
    "np.unravel_index(im.argmax(), im.shape)"
   ]
  },
  {
   "cell_type": "code",
   "execution_count": null,
   "id": "bb7f396b",
   "metadata": {},
   "outputs": [],
   "source": []
  }
 ],
 "metadata": {
  "kernelspec": {
   "display_name": "Python 3",
   "language": "python",
   "name": "python3"
  },
  "language_info": {
   "codemirror_mode": {
    "name": "ipython",
    "version": 3
   },
   "file_extension": ".py",
   "mimetype": "text/x-python",
   "name": "python",
   "nbconvert_exporter": "python",
   "pygments_lexer": "ipython3",
   "version": "3.6.15"
  }
 },
 "nbformat": 4,
 "nbformat_minor": 5
}
