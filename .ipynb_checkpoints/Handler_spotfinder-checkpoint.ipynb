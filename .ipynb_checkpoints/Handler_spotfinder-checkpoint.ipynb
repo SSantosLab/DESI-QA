{
 "cells": [
  {
   "cell_type": "raw",
   "id": "7d4d2650",
   "metadata": {},
   "source": [
    "kernel: cosmosislocal "
   ]
  },
  {
   "cell_type": "code",
   "execution_count": 6,
   "id": "e7d61474",
   "metadata": {},
   "outputs": [],
   "source": [
    "from astropy.io import fits\n",
    "import os\n",
    "from spotfinder import spotfinder\n",
    "import matplotlib.pyplot as plt\n",
    "from glob import glob\n",
    "import numpy as np\n",
    "import math\n",
    "# import sys \n",
    "# sys.path.append(\"/data/common/software/products/\")\n",
    "import sbigCam as sbc\n",
    "import time\n",
    "import pandas as pd\n",
    "from scipy.stats import norm\n",
    "import matplotlib.colors as mcolors\n",
    "# import circle_fit as cf"
   ]
  },
  {
   "cell_type": "markdown",
   "id": "ed69ca29",
   "metadata": {},
   "source": [
    "## Handlers "
   ]
  },
  {
   "cell_type": "code",
   "execution_count": 49,
   "id": "f7582d6a",
   "metadata": {},
   "outputs": [],
   "source": [
    "def find_spot(fitsname, fitspath,  \n",
    "              expected_spot_count=1, \n",
    "              regionsname='regions.reg', \n",
    "              verbose=False):\n",
    "    \"\"\"\n",
    "    spotfinder handler\n",
    "    input:\n",
    "        fitsname:\n",
    "        fitspath (str): relative or full path to the folder\n",
    "        regionsname (str):\n",
    "        verbose (bool):\n",
    "    output: \n",
    "        centroids (dict): raw output from spotfinder\n",
    "\n",
    "    \"\"\"\n",
    "    assert isinstance(fitsname, str)\n",
    "\n",
    "    _ifn = f\"{fitspath}/{fitsname}\"\n",
    "\n",
    "    if expected_spot_count != 1:\n",
    "        raise NotImplementedError(\"This mode wasn't tested here\")\n",
    "    try: \n",
    "        sf=spotfinder.SpotFinder(_ifn, expected_spot_count)\n",
    "        centroids = sf.get_centroids(print_summary = verbose, \n",
    "                                     region_file=regionsname)\n",
    "        if verbose: print(centroids)\n",
    "    \n",
    "    except: #ignore photo if an error is raised\n",
    "        print(\"Warning: spot not found \")\n",
    "        inval_number = np.nan\n",
    "        return {  'peaks': [inval_number], \n",
    "                      'x': [inval_number], \n",
    "                      'y': [inval_number], \n",
    "                   'fwhm': [inval_number], \n",
    "                 'energy': [inval_number]} \n",
    "    return centroids\n",
    "\n",
    "\n",
    "def collect_xy(files, picspath):\n",
    "    # treating for single file\n",
    "    if isinstance(files, str):\n",
    "        files = [files]\n",
    "    x2, y2 = [],[]\n",
    "    for fullname in files:\n",
    "        iname = fullname.split('/')[-1]\n",
    "        _c = find_spot(iname, picspath)\n",
    "        x2.append(_c['x'])\n",
    "        y2.append(_c['y'])\n",
    "    return x2, y2"
   ]
  },
  {
   "cell_type": "code",
   "execution_count": null,
   "id": "54987149",
   "metadata": {},
   "outputs": [],
   "source": []
  },
  {
   "cell_type": "code",
   "execution_count": 51,
   "id": "a0d13f9b",
   "metadata": {},
   "outputs": [
    {
     "name": "stdout",
     "output_type": "stream",
     "text": [
      "Edge hot spot\n",
      "Edge hot spot\n",
      "peak = 83928.72879623307 brightness appears out of expected range\n",
      "here\n"
     ]
    },
    {
     "data": {
      "text/plain": [
       "{'peaks': [83928.72879623307],\n",
       " 'x': [1099.5330746797667],\n",
       " 'y': [877.6762076818566],\n",
       " 'fwhm': [3.9569108299716342],\n",
       " 'energy': [5.067498221096617]}"
      ]
     },
     "execution_count": 51,
     "metadata": {},
     "output_type": "execute_result"
    }
   ],
   "source": [
    "find_spot(testfiles[0], 'sbigpics/20221212-172028/')"
   ]
  },
  {
   "cell_type": "code",
   "execution_count": 47,
   "id": "4a304bc5",
   "metadata": {},
   "outputs": [
    {
     "data": {
      "text/plain": [
       "(['20221212-172028.fits',\n",
       "  '20221212-172036.fits',\n",
       "  '20221212-172044.fits',\n",
       "  '20221212-172052.fits'],\n",
       " '20221212-172036.fits')"
      ]
     },
     "execution_count": 47,
     "metadata": {},
     "output_type": "execute_result"
    }
   ],
   "source": [
    "testfiles=!ls sbigpics/29Nov202210_38_06/*fits\n",
    "testfiles=!ls sbigpics/20221212-172028/\n",
    "testfits = testfiles[1]\n",
    "testfiles, testfits"
   ]
  },
  {
   "cell_type": "markdown",
   "id": "597e2209",
   "metadata": {},
   "source": [
    "### unit test:\n"
   ]
  },
  {
   "cell_type": "code",
   "execution_count": 46,
   "id": "a7117122",
   "metadata": {},
   "outputs": [
    {
     "name": "stdout",
     "output_type": "stream",
     "text": [
      "Edge hot spot\n",
      "Edge hot spot\n",
      "peak = 83928.72879623307 brightness appears out of expected range\n",
      "here\n"
     ]
    }
   ],
   "source": [
    "path_val = \"sbigpics/20221212-172028/\"\n",
    "ifn_val = \"20221212-172028.fits\"\n",
    "spotfinder_val = {'peaks': [83928.72879623307], \n",
    "                      'x': [1099.5330746797667], \n",
    "                      'y': [877.6762076818566], \n",
    "                   'fwhm': [3.9569108299716342], \n",
    "                 'energy': [5.067498221096617]}\n",
    "\n",
    "res = find_spot(ifn_val, path_val, expected_spot_count=1) \n",
    "\n",
    "assert res== spotfinder_val, \"Error in results\""
   ]
  },
  {
   "cell_type": "code",
   "execution_count": 15,
   "id": "35f3d7a5",
   "metadata": {},
   "outputs": [
    {
     "data": {
      "text/plain": [
       "{'peaks': [83928.72879623307],\n",
       " 'x': [1099.5330746797667],\n",
       " 'y': [877.6762076818566],\n",
       " 'fwhm': [3.9569108299716342],\n",
       " 'energy': [5.067498221096617]}"
      ]
     },
     "execution_count": 15,
     "metadata": {},
     "output_type": "execute_result"
    }
   ],
   "source": [
    "res"
   ]
  },
  {
   "cell_type": "code",
   "execution_count": null,
   "id": "8096a620",
   "metadata": {},
   "outputs": [],
   "source": []
  },
  {
   "cell_type": "code",
   "execution_count": null,
   "id": "1295205d",
   "metadata": {},
   "outputs": [],
   "source": []
  },
  {
   "cell_type": "code",
   "execution_count": null,
   "id": "d033372d",
   "metadata": {},
   "outputs": [],
   "source": []
  },
  {
   "cell_type": "code",
   "execution_count": null,
   "id": "921b7d0e",
   "metadata": {},
   "outputs": [],
   "source": []
  },
  {
   "cell_type": "code",
   "execution_count": null,
   "id": "a92248d3",
   "metadata": {},
   "outputs": [],
   "source": [
    "\n",
    "\n",
    "xx, yy, peaks, fwhm, energy = [],[],[],[],[]\n",
    "\n",
    "for file_name in files:\n",
    "    try: #try to detect the spot\n",
    "        sf=spotfinder.SpotFinder(file_name, expected_spot_count)\n",
    "        centroids = sf.get_centroids(print_summary = True, region_file='regions.reg')\n",
    "        print(centroids)\n",
    "        #separate dictionaries for plotting purposes\n",
    "        res = dict((k, centroids[k]) for k in ['x']\n",
    "                                        if k in centroids)\n",
    "        res2 = dict((k, centroids[k]) for k in ['y']\n",
    "                                        if k in centroids)\n",
    "        x =[value[i] for value in res.values()\n",
    "         for i in range(expected_spot_count)]\n",
    "        xx.append(x)\n",
    "    \n",
    "        y =[value[i] for value in res2.values()\n",
    "         for i in range(expected_spot_count)]\n",
    "        yy.append(y)\n",
    "    except: #ignore photo if an error is raised\n",
    "        pass"
   ]
  }
 ],
 "metadata": {
  "kernelspec": {
   "display_name": "Python 3",
   "language": "python",
   "name": "python3"
  },
  "language_info": {
   "codemirror_mode": {
    "name": "ipython",
    "version": 3
   },
   "file_extension": ".py",
   "mimetype": "text/x-python",
   "name": "python",
   "nbconvert_exporter": "python",
   "pygments_lexer": "ipython3",
   "version": "3.6.15"
  }
 },
 "nbformat": 4,
 "nbformat_minor": 5
}
