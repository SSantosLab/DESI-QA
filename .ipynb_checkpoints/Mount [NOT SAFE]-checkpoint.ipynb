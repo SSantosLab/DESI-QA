{
 "cells": [
  {
   "cell_type": "code",
   "execution_count": 3,
   "id": "569ec546",
   "metadata": {},
   "outputs": [
    {
     "name": "stdout",
     "output_type": "stream",
     "text": [
      "Successfully connected to CEM120\n",
      "Altitude Limit set to -89 degrees\n",
      "Slew rate set to MAX (960x)\n"
     ]
    }
   ],
   "source": [
    "import sys\n",
    "sys.path.append(\"/data/common/software/products/tsmount-umich/python\")\n",
    "import cem120func as cf\n",
    "import time\n",
    "import matplotlib.pyplot as plt\n",
    "import numpy as np\n",
    "from datetime import datetime\n",
    "\n",
    "diff = lambda array: array[1:] - array[:-1]\n",
    "\n",
    "p = \"/dev/ttyUSB0\"\n",
    "cem120 = cf.initialize_mount(p)\n",
    "cf.set_alt_lim(cem120, -89)\n",
    "cf.slew_rate(cem120, 9)"
   ]
  },
  {
   "cell_type": "code",
   "execution_count": 4,
   "id": "4b092a0f",
   "metadata": {},
   "outputs": [
    {
     "name": "stdout",
     "output_type": "stream",
     "text": [
      "Slewing to home position...\n",
      "Mount stopped at home position\n",
      "home at (346.05, 90.0) deg\n",
      "Moving to specified angle...\n",
      "All movement stopped\n",
      "Moving to specified angle...\n",
      "All movement stopped\n"
     ]
    }
   ],
   "source": [
    "#CAM UP\n",
    "\n",
    "cf.home(cem120)\n",
    "\n",
    "# Position 7 - R DEITA DE LADO com o vetor z apontando pro pc  eixo 0 = z up\n",
    "cf.move_90(cem120, (cf.get_ra_dec(cem120)[0]-324000)%1296000, 0, 1) \n",
    "# Position 8 - U   -> HOME->7->8 CAM UP  eixo 1  = x\n",
    "cf.move_90(cem120, 0., 1, 1)"
   ]
  },
  {
   "cell_type": "code",
   "execution_count": 5,
   "id": "f8a918aa",
   "metadata": {},
   "outputs": [
    {
     "name": "stdout",
     "output_type": "stream",
     "text": [
      "Slewing to home position...\n",
      "Mount stopped at home position\n",
      "home at (346.77, 90.0) deg\n",
      "Moving to specified angle...\n",
      "All movement stopped\n",
      "Moving to specified angle...\n",
      "All movement stopped\n"
     ]
    },
    {
     "ename": "NameError",
     "evalue": "name 'tsleep' is not defined",
     "output_type": "error",
     "traceback": [
      "\u001b[0;31m---------------------------------------------------------------------------\u001b[0m",
      "\u001b[0;31mNameError\u001b[0m                                 Traceback (most recent call last)",
      "\u001b[0;32m<ipython-input-5-3ecec9dc5864>\u001b[0m in \u001b[0;36m<module>\u001b[0;34m\u001b[0m\n\u001b[1;32m      8\u001b[0m \u001b[0mcf\u001b[0m\u001b[0;34m.\u001b[0m\u001b[0mmove_90\u001b[0m\u001b[0;34m(\u001b[0m\u001b[0mcem120\u001b[0m\u001b[0;34m,\u001b[0m \u001b[0;36m0.\u001b[0m\u001b[0;34m,\u001b[0m \u001b[0;36m1\u001b[0m\u001b[0;34m,\u001b[0m \u001b[0;36m0\u001b[0m\u001b[0;34m)\u001b[0m\u001b[0;34m\u001b[0m\u001b[0;34m\u001b[0m\u001b[0m\n\u001b[1;32m      9\u001b[0m \u001b[0;31m# printmsg(i); i+=1\u001b[0m\u001b[0;34m\u001b[0m\u001b[0;34m\u001b[0m\u001b[0;34m\u001b[0m\u001b[0m\n\u001b[0;32m---> 10\u001b[0;31m \u001b[0mtime\u001b[0m\u001b[0;34m.\u001b[0m\u001b[0msleep\u001b[0m\u001b[0;34m(\u001b[0m\u001b[0mtsleep\u001b[0m\u001b[0;34m)\u001b[0m\u001b[0;34m\u001b[0m\u001b[0;34m\u001b[0m\u001b[0m\n\u001b[0m",
      "\u001b[0;31mNameError\u001b[0m: name 'tsleep' is not defined"
     ]
    }
   ],
   "source": [
    "# cam DOWN\n",
    "cf.home(cem120)\n",
    "\n",
    "# Position 7 - R DEITA DE LADO com o vetor z apontando pro pc  eixo 0 = z up\n",
    "cf.move_90(cem120, (cf.get_ra_dec(cem120)[0]-324000)%1296000, 0, 1) \n",
    "\n",
    "# Position 8b  test HOME->7->8b CAM DOWN  eixo 1 = zbox; sign 0 = right hand\n",
    "cf.move_90(cem120, 0., 1, 0)\n",
    "# printmsg(i); i+=1\n",
    "# time.sleep(tsleep)"
   ]
  },
  {
   "cell_type": "code",
   "execution_count": 22,
   "id": "63afe7c9",
   "metadata": {},
   "outputs": [
    {
     "name": "stdout",
     "output_type": "stream",
     "text": [
      "Slewing to home position...\n",
      "Mount stopped at home position\n",
      "home at (5.19, 90.0) deg\n"
     ]
    }
   ],
   "source": [
    "cf.home(cem120)\n",
    "# home[0] keeps changing "
   ]
  },
  {
   "cell_type": "code",
   "execution_count": 25,
   "id": "69926d8a",
   "metadata": {},
   "outputs": [
    {
     "data": {
      "text/plain": [
       "[6.9925, 90.0]"
      ]
     },
     "execution_count": 25,
     "metadata": {},
     "output_type": "execute_result"
    }
   ],
   "source": [
    "[i/3600 for i in cf.get_ra_dec(cem120)]"
   ]
  },
  {
   "cell_type": "code",
   "execution_count": null,
   "id": "fed8addd",
   "metadata": {},
   "outputs": [],
   "source": [
    "time0 = \"11:15 *time\""
   ]
  }
 ],
 "metadata": {
  "kernelspec": {
   "display_name": "Python 3",
   "language": "python",
   "name": "python3"
  },
  "language_info": {
   "codemirror_mode": {
    "name": "ipython",
    "version": 3
   },
   "file_extension": ".py",
   "mimetype": "text/x-python",
   "name": "python",
   "nbconvert_exporter": "python",
   "pygments_lexer": "ipython3",
   "version": "3.6.15"
  }
 },
 "nbformat": 4,
 "nbformat_minor": 5
}
