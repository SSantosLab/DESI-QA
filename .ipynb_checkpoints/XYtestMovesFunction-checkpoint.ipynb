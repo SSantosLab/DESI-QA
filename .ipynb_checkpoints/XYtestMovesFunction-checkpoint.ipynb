{
 "cells": [
  {
   "cell_type": "code",
   "execution_count": 5,
   "id": "29014bd3",
   "metadata": {},
   "outputs": [],
   "source": [
    "import numpy as np\n",
    "import matplotlib.pyplot as plt\n",
    "import math"
   ]
  },
  {
   "cell_type": "code",
   "execution_count": 6,
   "id": "38d9c68a",
   "metadata": {},
   "outputs": [],
   "source": [
    "#assumptions: clockwise is actually clockwise about the origin"
   ]
  },
  {
   "cell_type": "raw",
   "id": "337a2424",
   "metadata": {},
   "source": [
    "UNITS\n",
    "H (deg)\n",
    "R1, R2, x0, y0 (mm)"
   ]
  },
  {
   "cell_type": "code",
   "execution_count": 7,
   "id": "2128952b",
   "metadata": {
    "scrolled": false
   },
   "outputs": [],
   "source": [
    "#try out the function\n",
    "H = 20 #angle of hard limit relative to x-axis\n",
    "R1 = 3\n",
    "R2 = 3\n",
    "x0 = 1\n",
    "y0 = 1\n",
    "x = -1.8\n",
    "y = 1.3"
   ]
  },
  {
   "cell_type": "code",
   "execution_count": 8,
   "id": "2e950ab1",
   "metadata": {},
   "outputs": [],
   "source": [
    "def transform(H,R_theta,R_phi,x,y): #function to output theta and phi angles based on coordinates relative to center \n",
    "    \n",
    "    if x==0 and y==0:\n",
    "        theta = 0\n",
    "        phi = 0\n",
    "    \n",
    "    H = H*np.pi/180\n",
    "    d = np.sqrt(x**2 + y**2)\n",
    "    a = d*np.cos(H)\n",
    "    b = d*np.sin(H)\n",
    "    r = np.sqrt((x-a)**2 + (y-b)**2)\n",
    "    alpha = 2*np.arcsin(r/(2*d))\n",
    "    #print(alpha*180/np.pi)\n",
    "    phi = np.arccos((R_phi**2 + R_theta**2 - d**2)/(2*R_theta*R_phi))\n",
    "    d_theta = np.arcsin(R_theta*np.sin(phi)/d)\n",
    "\n",
    "    \n",
    "    if abs(H) > np.pi/2:\n",
    "        if y>(b/a)*x:\n",
    "            theta = alpha + d_theta\n",
    "        if y<=(b/a)*x:\n",
    "            theta = ((2*np.pi)-alpha) + d_theta\n",
    "    else:\n",
    "        if y>(b/a)*x:\n",
    "            theta = ((2*np.pi)-alpha) + d_theta\n",
    "        if y<=(b/a)*x:\n",
    "            theta = alpha + d_theta \n",
    "    \n",
    "    theta = theta*180/np.pi\n",
    "    phi = phi*180/np.pi\n",
    "    \n",
    "    if theta>360:\n",
    "        theta = theta - 360\n",
    "    \n",
    "    return theta,phi\n"
   ]
  },
  {
   "cell_type": "code",
   "execution_count": 9,
   "id": "28880420",
   "metadata": {},
   "outputs": [
    {
     "name": "stdout",
     "output_type": "stream",
     "text": [
      "304.1183318654216 43.43864217771347\n"
     ]
    }
   ],
   "source": [
    "theta,phi = transform(H,R1,R2,x,y)\n",
    "print(theta,phi)"
   ]
  },
  {
   "cell_type": "code",
   "execution_count": 10,
   "id": "50e45cfd",
   "metadata": {},
   "outputs": [],
   "source": [
    "#version of the function to give moves\n",
    "def calc_moves(H,R_theta,R_phi,x0,y0,x,y): #function to output moves in theta and phi \n",
    "\n",
    "    #where you are\n",
    "    theta0,phi0 = transform(H,R_theta,R_phi,x0,y0)\n",
    "    #where you want to be \n",
    "    theta,phi = transform(H,R_theta,R_phi,x,y)\n",
    "    #difference\n",
    "    delta_theta = theta-theta0\n",
    "    delta_phi = phi-phi0\n",
    "    #logic\n",
    "    if delta_theta >= 0:\n",
    "        theta_cw = abs(delta_theta)\n",
    "        theta_ccw = 0\n",
    "    elif delta_theta < 0:\n",
    "        theta_cw = 0\n",
    "        theta_ccw = abs(delta_theta)\n",
    "    if delta_phi >= 0:\n",
    "        phi_cw = abs(delta_phi)\n",
    "        phi_ccw = 0\n",
    "    elif delta_phi < 0:\n",
    "        phi_cw = abs(delta_phi)\n",
    "        phi_ccw = 0\n",
    "    \n",
    "    return theta_cw,theta_ccw,phi_cw,phi_ccw\n"
   ]
  },
  {
   "cell_type": "code",
   "execution_count": 11,
   "id": "6bbb811e",
   "metadata": {},
   "outputs": [
    {
     "name": "stdout",
     "output_type": "stream",
     "text": [
      "CW theta move: 252.75135409078797\n",
      "CCW theta move: 0\n",
      "CW phi move: 16.17259772698064\n",
      "CCW phi move: 0\n"
     ]
    }
   ],
   "source": [
    "theta_cw,theta_ccw,phi_cw,phi_ccw = calc_moves(H,R1,R2,x0,y0,x,y)\n",
    "print('CW theta move:', theta_cw)\n",
    "print('CCW theta move:', theta_ccw)\n",
    "print('CW phi move:', phi_cw)\n",
    "print('CCW phi move:', phi_ccw)"
   ]
  },
  {
   "cell_type": "code",
   "execution_count": 146,
   "id": "c1f92103",
   "metadata": {},
   "outputs": [],
   "source": [
    "#######"
   ]
  },
  {
   "cell_type": "code",
   "execution_count": 147,
   "id": "502f0c17",
   "metadata": {},
   "outputs": [],
   "source": [
    "#beyond this is for testing only \n",
    "#code from Thomas to check that my angles make sense, they won't match unless you do the math,\n",
    "#but it should look like the angles of the arms match up\n",
    "\n",
    "def get_angles(target, len1=3.0, len2=3.0):\n",
    "    \"\"\"\n",
    "    NOTE: This code was adapted from \"https://courses.ideate.cmu.edu/16-375/f2020/text/code/lecture-samples/two-link-ik.html\"\n",
    "    The angles \"alpha\" wrt the arm attached to the origin was given wrt the -Y axis, and the angle \"beta\" wrt the second arm was given wrt\n",
    "    the first arm, so the elbow angle was being calculated. The angles returned now are both wrt the positive X axis.\n",
    "    I also have plotted the results as a visual confirmation that the task was successful.\n",
    "    \n",
    "    Compute two inverse kinematics solutions for a target end position.  The\n",
    "    target is a Cartesian position vector (two-element ndarray) in world\n",
    "    coordinates, and the result vectors are joint angles as ndarrays [q0, q1].\n",
    "    If the target is out of reach, returns the closest pose.\n",
    "\n",
    "    :param target: two-element list or ndarray with [x1, y] target position\n",
    "    :param len1: optional proximal link length\n",
    "    :param len2: optional distal link length\n",
    "    :return: tuple (solution1, solution2) of two-element ndarrays with q1, q2 angles\n",
    "    \"\"\"\n",
    "\n",
    "    # find the position of the point in polar coordinates\n",
    "    radiussq = np.dot(target, target)\n",
    "    radius   = math.sqrt(radiussq)\n",
    "\n",
    "    # theta is the angle of target point w.r.t. -Y axis, same origin as arm\n",
    "    theta    = math.atan2(target[0], -target[1]) \n",
    "    \n",
    "\n",
    "    # use the law of cosines to compute the elbow angle\n",
    "    #   R**2 = l1**2 + l2**2 - 2*l1*l2*cos(pi - elbow)\n",
    "    #   both elbow and -elbow are valid solutions\n",
    "    acosarg = (radiussq - len1**2 - len2**2) / (-2 * len1 * len2)\n",
    "    if acosarg < -1.0:  elbow_supplement = math.pi\n",
    "    elif acosarg > 1.0: elbow_supplement = 0.0\n",
    "    else:               elbow_supplement = math.acos(acosarg)\n",
    "\n",
    "    # use the law of sines to find the angle at the bottom vertex of the triangle defined by the links\n",
    "    #  radius / sin(elbow_supplement)  = l2 / sin(alpha)\n",
    "    if radius > 0.0:\n",
    "        alpha = math.asin(len2 * math.sin(elbow_supplement) / radius)\n",
    "    else:\n",
    "        alpha = 0.0\n",
    "\n",
    "    #  compute the two solutions with opposite elbow sign\n",
    "    soln1 = np.array((theta - alpha, math.pi - elbow_supplement))\n",
    "    soln2 = np.array((theta + alpha, elbow_supplement - math.pi))\n",
    "    \n",
    "    # I think here I'm trying to ensure the angle is positive/negative when it should be, although it doesn't matter\n",
    "    if (-np.pi < theta - alpha) & (theta - alpha < -np.pi/2):\n",
    "        sol = np.array((theta - alpha + 3*np.pi/2, math.pi - elbow_supplement))\n",
    "        sol2 = np.array((theta + alpha + 3*np.pi/2, elbow_supplement - math.pi))\n",
    "    else:\n",
    "        sol = np.array((theta - alpha - np.pi/2, math.pi - elbow_supplement))\n",
    "        sol2 = np.array((theta + alpha - np.pi/2, elbow_supplement - math.pi))\n",
    "    \n",
    "    # See if we can plot our results, first plot the target\n",
    "    plt.figure(figsize = (8,8))\n",
    "    plt.scatter(target[0],target[1], s = 500, marker = '*', color = 'red')\n",
    "    plt.axvline(0, linestyle = '--', linewidth = 1, color = 'k')\n",
    "    plt.axhline(0, linestyle = '--', linewidth = 1, color = 'k')\n",
    "    plt.xlim((-6,6))\n",
    "    plt.ylim((-6,6))\n",
    "    \n",
    "    origin = [0,0]\n",
    "\n",
    "    # Find the location of the first solution joint geometrically \n",
    "    joint1 = [len1 * np.cos(sol[0]), len1 * np.sin(sol[0])]\n",
    "\n",
    "    x_values1_0 = [origin[0], joint1[0]]\n",
    "    y_values1_0 = [origin[1], joint1[1]]\n",
    "\n",
    "    \n",
    "    # End point of the second arm geometrically using the calculated angles \n",
    "    end1 = [x_values1_0[1] + len2 * np.cos(soln1[1] + sol[0]), y_values1_0[1] + len2 * np.sin(soln1[1] + sol[0])]\n",
    "   \n",
    "    x_values2 = [joint1[0], end1[0]]\n",
    "    y_values2 = [joint1[1], end1[1]]\n",
    "    \n",
    "    plt.plot(x_values1_0, y_values1_0, 'bo', linestyle=\"--\", markersize = 5)\n",
    "    plt.plot(x_values2, y_values2, 'bo', linestyle=\"--\", markersize = 5)\n",
    "    \n",
    "    # Now, see if we can do the same thing for the second solution\n",
    "    \n",
    "    joint2 = [len1 * np.cos(sol2[0]), len1 * np.sin(sol2[0])]\n",
    "    \n",
    "    x_values1_1 = [origin[0], joint2[0]]\n",
    "    y_values1_1 = [origin[1], joint2[1]]\n",
    "    \n",
    "    end2 = [x_values1_1[1] + len2 * np.cos(soln2[1] + sol2[0]), y_values1_1[1] + len2 * np.sin(soln2[1] + sol2[0])]\n",
    "    \n",
    "    x_values2_1 = [joint2[0], end2[0]]\n",
    "    y_values2_1 = [joint2[1], end2[1]]\n",
    "    \n",
    "    \n",
    "    plt.plot(x_values1_1, y_values1_1, 'yo', linestyle=\"--\", markersize = 5)\n",
    "    plt.plot(x_values2_1, y_values2_1, 'yo', linestyle=\"--\", markersize = 5)\n",
    "    \n",
    "    \n",
    "    # If the figure looks like the arms are in the correct location, then the angles are correct...\n",
    "    \n",
    "    #OK, so what are my actual angles???\n",
    "    angles1 = [sol[0], soln1[1] + sol[0]]\n",
    "    angles2 = [sol2[0], soln2[1] + sol2[0]]\n",
    "    \n",
    "    angles1 = [i - 2*np.pi if i > np.pi else i for i in angles1]\n",
    "    angles2 = [i - 2*np.pi if i > np.pi else i for i in angles2]\n",
    "    \n",
    "    print ('Angles for solution 1: {}, {}'.format(math.degrees(angles1[0]), math.degrees(angles1[1])))\n",
    "    print ('Angles for solution 2: {}, {}'.format(math.degrees(angles2[0]), math.degrees(angles2[1])))\n",
    "    return angles1, angles2"
   ]
  },
  {
   "cell_type": "code",
   "execution_count": 149,
   "id": "88e36cfc",
   "metadata": {},
   "outputs": [
    {
     "name": "stdout",
     "output_type": "stream",
     "text": [
      "Angles for solution 1: -31.366977774633675, 121.3669777746335\n",
      "Angles for solution 2: 121.36697777463367, -31.366977774633497\n"
     ]
    },
    {
     "data": {
      "text/plain": [
       "([-0.5474570385672415, 2.118253365362135],\n",
       " [2.118253365362138, -0.5474570385672384])"
      ]
     },
     "execution_count": 149,
     "metadata": {},
     "output_type": "execute_result"
    },
    {
     "data": {
      "image/png": "[encoded data removed]",
      "text/plain": [
       "<Figure size 576x576 with 1 Axes>"
      ]
     },
     "metadata": {
      "needs_background": "light"
     },
     "output_type": "display_data"
    }
   ],
   "source": [
    "get_angles((x0,y0))"
   ]
  },
  {
   "cell_type": "code",
   "execution_count": 150,
   "id": "21ae24e3",
   "metadata": {},
   "outputs": [
    {
     "name": "stdout",
     "output_type": "stream",
     "text": [
      "Angles for solution 1: -284.1183318654215, -147.556974043135\n",
      "Angles for solution 2: -147.55697404313506, -284.11833186542157\n"
     ]
    },
    {
     "data": {
      "text/plain": [
       "([-4.958800356325528, -2.575355031332515],\n",
       " [-2.575355031332516, -4.958800356325529])"
      ]
     },
     "execution_count": 150,
     "metadata": {},
     "output_type": "execute_result"
    },
    {
     "data": {
      "image/png": "[encoded data removed]",
      "text/plain": [
       "<Figure size 576x576 with 1 Axes>"
      ]
     },
     "metadata": {
      "needs_background": "light"
     },
     "output_type": "display_data"
    }
   ],
   "source": [
    "get_angles((x,y))"
   ]
  },
  {
   "cell_type": "code",
   "execution_count": null,
   "id": "86a23b29",
   "metadata": {},
   "outputs": [],
   "source": []
  }
 ],
 "metadata": {
  "kernelspec": {
   "display_name": "Python 3",
   "language": "python",
   "name": "python3"
  },
  "language_info": {
   "codemirror_mode": {
    "name": "ipython",
    "version": 3
   },
   "file_extension": ".py",
   "mimetype": "text/x-python",
   "name": "python",
   "nbconvert_exporter": "python",
   "pygments_lexer": "ipython3",
   "version": "3.6.15"
  }
 },
 "nbformat": 4,
 "nbformat_minor": 5
}
