{
 "cells": [
  {
   "cell_type": "code",
   "execution_count": null,
   "id": "c0d6cdd0",
   "metadata": {},
   "outputs": [],
   "source": []
  },
  {
   "cell_type": "code",
   "execution_count": 2,
   "id": "84087f0d",
   "metadata": {},
   "outputs": [
    {
     "name": "stdout",
     "output_type": "stream",
     "text": [
      "movetables/currentpos.txt\n",
      "/home/msdos/um_scripts/sbigpics/\n",
      "/home/msdos/pclight/trenz\n",
      "example\n"
     ]
    },
    {
     "data": {
      "text/plain": [
       "{'__name__': '__main__',\n",
       " '__doc__': 'Automatically created module for IPython interactive environment',\n",
       " '__package__': None,\n",
       " '__loader__': None,\n",
       " '__spec__': None,\n",
       " '__builtin__': <module 'builtins' (built-in)>,\n",
       " '__builtins__': <module 'builtins' (built-in)>,\n",
       " '_ih': ['',\n",
       "  \"cf2 = configparser.ConfigParser()\\ncf2.read('conf/remote_example.ini')\",\n",
       "  'import configparser\\n\\ncfg = configparser.ConfigParser()\\ncfg.read(\\'conf/example.ini\\')\\n\\ncfg[\\'run\\'].get(\\'pipeline\\')\\n\\nfor i in [cfg.get(\\'run\\',\"movetable\"),\\n            cfg.get(\\'run\\',\"rootout\"),\\n            cfg.get(\\'run\\',\"pbroot\"),\\n                     cfg.get(\\'run\\',\"session_label\"),]:\\n    print(i)\\nlocals()\\n# print(config[\\'DEFAULT\\'][\\'path\\'])     # -> \"/path/name/\"\\n# config[\\'DEFAULT\\'][\\'path\\'] = \\'/var/shared/\\'    # update\\n# config[\\'DEFAULT\\'][\\'default_message\\'] = \\'Hey! help me!!\\'   # create\\n\\n# with open(\\'FILE.INI\\', \\'w\\') as configfile:    # save\\n#     config.write(configfile)'],\n",
       " '_oh': {},\n",
       " '_dh': ['/home/msdos/um_scripts'],\n",
       " 'In': ['',\n",
       "  \"cf2 = configparser.ConfigParser()\\ncf2.read('conf/remote_example.ini')\",\n",
       "  'import configparser\\n\\ncfg = configparser.ConfigParser()\\ncfg.read(\\'conf/example.ini\\')\\n\\ncfg[\\'run\\'].get(\\'pipeline\\')\\n\\nfor i in [cfg.get(\\'run\\',\"movetable\"),\\n            cfg.get(\\'run\\',\"rootout\"),\\n            cfg.get(\\'run\\',\"pbroot\"),\\n                     cfg.get(\\'run\\',\"session_label\"),]:\\n    print(i)\\nlocals()\\n# print(config[\\'DEFAULT\\'][\\'path\\'])     # -> \"/path/name/\"\\n# config[\\'DEFAULT\\'][\\'path\\'] = \\'/var/shared/\\'    # update\\n# config[\\'DEFAULT\\'][\\'default_message\\'] = \\'Hey! help me!!\\'   # create\\n\\n# with open(\\'FILE.INI\\', \\'w\\') as configfile:    # save\\n#     config.write(configfile)'],\n",
       " 'Out': {},\n",
       " 'get_ipython': <bound method InteractiveShell.get_ipython of <ipykernel.zmqshell.ZMQInteractiveShell object at 0x7f33e1099e48>>,\n",
       " 'exit': <IPython.core.autocall.ZMQExitAutocall at 0x7f33dd603358>,\n",
       " 'quit': <IPython.core.autocall.ZMQExitAutocall at 0x7f33dd603358>,\n",
       " '_': '',\n",
       " '__': '',\n",
       " '___': '',\n",
       " '_i': \"\\ncf2 = configparser.ConfigParser()\\ncf2.read('conf/remote_example.ini')\",\n",
       " '_ii': '',\n",
       " '_iii': '',\n",
       " '_i1': \"\\ncf2 = configparser.ConfigParser()\\ncf2.read('conf/remote_example.ini')\",\n",
       " '_i2': 'import configparser\\n\\ncfg = configparser.ConfigParser()\\ncfg.read(\\'conf/example.ini\\')\\n\\ncfg[\\'run\\'].get(\\'pipeline\\')\\n\\nfor i in [cfg.get(\\'run\\',\"movetable\"),\\n            cfg.get(\\'run\\',\"rootout\"),\\n            cfg.get(\\'run\\',\"pbroot\"),\\n                     cfg.get(\\'run\\',\"session_label\"),]:\\n    print(i)\\nlocals()\\n# print(config[\\'DEFAULT\\'][\\'path\\'])     # -> \"/path/name/\"\\n# config[\\'DEFAULT\\'][\\'path\\'] = \\'/var/shared/\\'    # update\\n# config[\\'DEFAULT\\'][\\'default_message\\'] = \\'Hey! help me!!\\'   # create\\n\\n# with open(\\'FILE.INI\\', \\'w\\') as configfile:    # save\\n#     config.write(configfile)',\n",
       " 'configparser': <module 'configparser' from '/data/common/software/products/python-3.6.15.Linux64/lib/python3.6/configparser.py'>,\n",
       " 'cfg': <configparser.ConfigParser at 0x7f33c7f8f438>,\n",
       " 'i': 'example'}"
      ]
     },
     "execution_count": 2,
     "metadata": {},
     "output_type": "execute_result"
    }
   ],
   "source": [
    "import configparser\n",
    "\n",
    "cfg = configparser.ConfigParser()\n",
    "cfg.read('conf/example.ini')\n",
    "\n",
    "cfg['run'].get('pipeline')\n",
    "\n",
    "for i in [cfg.get('run',\"movetable\"),\n",
    "            cfg.get('run',\"rootout\"),\n",
    "            cfg.get('run',\"pbroot\"),\n",
    "                     cfg.get('run',\"session_label\"),]:\n",
    "    print(i)\n",
    "locals()\n",
    "# print(config['DEFAULT']['path'])     # -> \"/path/name/\"\n",
    "# config['DEFAULT']['path'] = '/var/shared/'    # update\n",
    "# config['DEFAULT']['default_message'] = 'Hey! help me!!'   # create\n",
    "\n",
    "# with open('FILE.INI', 'w') as configfile:    # save\n",
    "#     config.write(configfile)"
   ]
  },
  {
   "cell_type": "code",
   "execution_count": 3,
   "id": "0c48872e",
   "metadata": {},
   "outputs": [
    {
     "name": "stdout",
     "output_type": "stream",
     "text": [
      "NOT\n"
     ]
    }
   ],
   "source": [
    "pp = cfg.get('run', 'pipeline').split(\" \")\n",
    "if 'mounsdt' in pp:\n",
    "    print(\"OK\")\n",
    "else:\n",
    "    print(\"NOT\")"
   ]
  },
  {
   "cell_type": "code",
   "execution_count": 39,
   "id": "aae3aac1",
   "metadata": {},
   "outputs": [
    {
     "data": {
      "text/plain": [
       "False"
      ]
     },
     "execution_count": 39,
     "metadata": {},
     "output_type": "execute_result"
    }
   ],
   "source": [
    "[True if \"cam\" in pp else False]\n",
    "hascam = \"camwewe\" in pp\n",
    "hascam"
   ]
  },
  {
   "cell_type": "code",
   "execution_count": 8,
   "id": "1847cc5c",
   "metadata": {},
   "outputs": [
    {
     "name": "stdout",
     "output_type": "stream",
     "text": [
      "None\n"
     ]
    }
   ],
   "source": [
    "print(config['cam'].get('as'))"
   ]
  },
  {
   "cell_type": "code",
   "execution_count": 45,
   "id": "e2ff62b7",
   "metadata": {},
   "outputs": [
    {
     "name": "stdout",
     "output_type": "stream",
     "text": [
      "speed theta = default\n",
      "{'theta': {'cruise': 33, 'spindown': 13, 'spinup': 12}, 'phi': {'cruise': 33, 'spindown': 12, 'spinup': 12}}\n"
     ]
    }
   ],
   "source": [
    "\n",
    "cf2 = configparser.ConfigParser()\n",
    "cf2.read('conf/remote_example.ini')\n",
    "\n",
    "default_speed = {'theta': {'cruise': 33, 'spindown': 12, 'spinup': 12},\n",
    "                   'phi': {'cruise': 33, 'spindown': 12, 'spinup': 12} } #{;theta}\n",
    "try:\n",
    "    _thsp = {k: cf2.getint('theta_speed', k) for k in ['cruise', 'spindown', 'spinup']}\n",
    "    print(\"speed theta = default\")\n",
    "except:\n",
    "    _thsp = {'theta': {'cruise': 33, 'spindown': 12, 'spinup': 12}}\n",
    "try:\n",
    "    _phsp = {k: cf2.getint('phi_speed', k) for k in ['cruise', 'spindown', 'spinup']}\n",
    "except Exception as err:\n",
    "    print(\"speed phi = default\")\n",
    "    _phsp = {'phi': {'cruise': 33, 'spindown': 12, 'spinup': 12}}    \n",
    "    \n",
    "speed= {'theta':_thsp, 'phi':_phsp}\n",
    "\n",
    "if speed == default_speed:\n",
    "    speed = None\n",
    "    \n",
    "print(speed)"
   ]
  },
  {
   "cell_type": "code",
   "execution_count": 31,
   "id": "50776eaa",
   "metadata": {},
   "outputs": [
    {
     "data": {
      "text/plain": [
       "{'cruise': 33, 'spindown': 12, 'spinup': 12}"
      ]
     },
     "execution_count": 31,
     "metadata": {},
     "output_type": "execute_result"
    }
   ],
   "source": [
    "_thsp"
   ]
  },
  {
   "cell_type": "code",
   "execution_count": 46,
   "id": "f8ae4542",
   "metadata": {},
   "outputs": [],
   "source": [
    "import yaml"
   ]
  },
  {
   "cell_type": "code",
   "execution_count": 56,
   "id": "d4676e47",
   "metadata": {},
   "outputs": [
    {
     "data": {
      "text/plain": [
       "{'theta': {'cruise': 33, 'spindown': 12, 'spinup': 12},\n",
       " 'phi': {'cruise': 33, 'spindown': 12, 'spinup': 12}}"
      ]
     },
     "execution_count": 56,
     "metadata": {},
     "output_type": "execute_result"
    }
   ],
   "source": [
    "with open(\"conf/remote_example.yaml\", 'r') as ff: \n",
    "    cfg = yaml.safe_load(ff)\n",
    "cfg.get(\"new_speed\") # returns a dict type "
   ]
  },
  {
   "cell_type": "code",
   "execution_count": 57,
   "id": "44666d60",
   "metadata": {},
   "outputs": [],
   "source": [
    "\n",
    "data = dict(\n",
    "    A = 'a',\n",
    "    B = dict(\n",
    "        C = 'c',\n",
    "        D = 'd',\n",
    "        E = 'e',\n",
    "    )\n",
    ")\n",
    "\n",
    "with open('data.yml', 'w') as outfile:\n",
    "    yaml.dump(data, outfile, default_flow_style=False)\n"
   ]
  },
  {
   "cell_type": "code",
   "execution_count": null,
   "id": "4bdfb923",
   "metadata": {},
   "outputs": [],
   "source": [
    "with open(\"conf/remote_example.yaml\", 'w') as ff: \n",
    "    cfg = yaml.safe_dump(ff)\n"
   ]
  },
  {
   "cell_type": "code",
   "execution_count": 59,
   "id": "d30cfcbd",
   "metadata": {},
   "outputs": [
    {
     "ename": "NameError",
     "evalue": "name 'np' is not defined",
     "output_type": "error",
     "traceback": [
      "\u001b[0;31m---------------------------------------------------------------------------\u001b[0m",
      "\u001b[0;31mNameError\u001b[0m                                 Traceback (most recent call last)",
      "\u001b[0;32m<ipython-input-59-2914af238583>\u001b[0m in \u001b[0;36m<module>\u001b[0;34m\u001b[0m\n\u001b[0;32m----> 1\u001b[0;31m \u001b[0mnp\u001b[0m\u001b[0;34m.\u001b[0m\u001b[0marray\u001b[0m\u001b[0;34m(\u001b[0m\u001b[0;34m[\u001b[0m\u001b[0;36m17.36\u001b[0m\u001b[0;34m,\u001b[0m \u001b[0;36m32.96\u001b[0m\u001b[0;34m]\u001b[0m\u001b[0;34m)\u001b[0m\u001b[0;34m\u001b[0m\u001b[0;34m\u001b[0m\u001b[0m\n\u001b[0m\u001b[1;32m      2\u001b[0m \u001b[0;31m# np.\u001b[0m\u001b[0;34m\u001b[0m\u001b[0;34m\u001b[0m\u001b[0;34m\u001b[0m\u001b[0m\n",
      "\u001b[0;31mNameError\u001b[0m: name 'np' is not defined"
     ]
    }
   ],
   "source": [
    "np.array([17.36, 32.96])\n",
    "# np."
   ]
  },
  {
   "cell_type": "code",
   "execution_count": null,
   "id": "ca587348",
   "metadata": {},
   "outputs": [],
   "source": []
  }
 ],
 "metadata": {
  "kernelspec": {
   "display_name": "Python 3",
   "language": "python",
   "name": "python3"
  },
  "language_info": {
   "codemirror_mode": {
    "name": "ipython",
    "version": 3
   },
   "file_extension": ".py",
   "mimetype": "text/x-python",
   "name": "python",
   "nbconvert_exporter": "python",
   "pygments_lexer": "ipython3",
   "version": "3.6.15"
  }
 },
 "nbformat": 4,
 "nbformat_minor": 5
}
