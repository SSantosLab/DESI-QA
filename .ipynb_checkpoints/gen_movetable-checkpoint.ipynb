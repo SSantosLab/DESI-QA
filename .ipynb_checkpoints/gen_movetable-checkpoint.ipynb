{
 "cells": [
  {
   "cell_type": "code",
   "execution_count": 1,
   "id": "8db36971",
   "metadata": {},
   "outputs": [],
   "source": [
    "import numpy as np \n",
    "import matplotlib.pyplot as plt \n",
    "import os"
   ]
  },
  {
   "cell_type": "code",
   "execution_count": 2,
   "id": "79fd8978",
   "metadata": {},
   "outputs": [],
   "source": [
    "def set_phi(d,s,m, a, angle=180, doopen=True, speed=\"cruise\"):\n",
    "    d.append(['cw' if doopen else 'ccw'][0])\n",
    "    s.append('cruise')\n",
    "    m.append('phi')\n",
    "    a.append(angle)   "
   ]
  },
  {
   "cell_type": "code",
   "execution_count": null,
   "id": "e96c0740",
   "metadata": {},
   "outputs": [],
   "source": [
    "def gen_movetable"
   ]
  },
  {
   "cell_type": "markdown",
   "id": "09c45f49",
   "metadata": {},
   "source": [
    "# Generate tables "
   ]
  },
  {
   "cell_type": "code",
   "execution_count": 3,
   "id": "fd236941",
   "metadata": {},
   "outputs": [],
   "source": [
    "name = 'arcth-30.txt'\n",
    "fullpath = f\"movetables/{name}\"\n",
    "\n",
    "d = [] # direction\n",
    "s = [] # speed\n",
    "m = [] # motor\n",
    "a = [] # delta_angle\n",
    "\n",
    "dth = 30\n",
    "\n",
    "set_phi(d,s,m,a, angle=180, doopen=1)\n",
    "\n",
    "#fwd\n",
    "for i in range(12):\n",
    "    d.append('cw')\n",
    "    m.append('theta')\n",
    "    s.append(\"cruise\")\n",
    "    a.append(dth)\n",
    "\n",
    "for i in range(12):\n",
    "    d.append('ccw')\n",
    "    m.append('theta')\n",
    "    s.append(\"cruise\")\n",
    "    a.append(dth)\n",
    "\n",
    "set_phi(d,s,m,a, angle=180, doopen=False)\n",
    "del dth"
   ]
  },
  {
   "cell_type": "code",
   "execution_count": 4,
   "id": "9fdf0ff8",
   "metadata": {},
   "outputs": [],
   "source": [
    "name = 'arcph-15.txt'\n",
    "fullpath = f\"movetables/{name}\"\n",
    "\n",
    "d = [] # direction\n",
    "s = [] # speed\n",
    "m = [] # motor\n",
    "a = [] # delta_angle\n",
    "\n",
    "dph = 15\n",
    "\n",
    "set_phi(d,s,m,a, angle=0, doopen=1)\n",
    "\n",
    "#fwd\n",
    "for i in range(5):\n",
    "    d.append('cw')\n",
    "    m.append('phi')\n",
    "    s.append(\"cruise\")\n",
    "    a.append(dph)\n",
    "\n",
    "for i in range(5):\n",
    "    d.append('ccw')\n",
    "    m.append('phi')\n",
    "    s.append(\"cruise\")\n",
    "    a.append(dph)\n",
    "\n",
    "#set_phi(d,s,m,a, angle=180, doopen=False)"
   ]
  },
  {
   "cell_type": "markdown",
   "id": "ac9a6671",
   "metadata": {},
   "source": [
    "## Check movetables"
   ]
  },
  {
   "cell_type": "code",
   "execution_count": 5,
   "id": "9ffc5be4",
   "metadata": {},
   "outputs": [
    {
     "data": {
      "image/png": "[encoded data removed]",
      "text/plain": [
       "<Figure size 432x288 with 1 Axes>"
      ]
     },
     "metadata": {
      "needs_background": "light"
     },
     "output_type": "display_data"
    }
   ],
   "source": [
    "npdir = np.array([1 if i=='cw' else -1 for i in d])\n",
    "npm = np.array([0 if i=='theta' else 1 for i in m])\n",
    "npa = np.array(a)*npdir # signed angle\n",
    "\n",
    "displace_th = np.sum(npa[npm==0])\n",
    "displace_ph =np.sum(npa[npm==1])\n",
    "# ranges: 0<th< 360,  0< phi <180\n",
    "ranges_th = np.cumsum(npa[(npm==0) ])\n",
    "ranges_ph = np.cumsum(npa[(npm==1)])\n",
    "\n",
    "\n",
    "plt.plot(ranges_th, 'o', label='theta')\n",
    "plt.plot(ranges_ph, 'o', label='phi')\n",
    "plt.legend(loc='best')\n",
    "plt.axhspan(0, 180, color='green', alpha=0.1, zorder=0)\n",
    "\n",
    "assert displace_th == 0\n",
    "assert displace_ph == 0\n",
    "\n",
    "if ( (ranges_th<0).any()) or ((ranges_th>180).any()):\n",
    "    print(\"\\nWARN: THETA out of range\")\n",
    "if ( (ranges_ph<0).any()) or ((ranges_ph>180).any()):\n",
    "    print(\"\\nWARN: PHI out of range\")\n",
    "\n"
   ]
  },
  {
   "cell_type": "code",
   "execution_count": 11,
   "id": "070e949a",
   "metadata": {},
   "outputs": [
    {
     "name": "stdout",
     "output_type": "stream",
     "text": [
      "saving movetables/smallarcph-15.txt\n",
      "ccw cruise phi 15\n"
     ]
    }
   ],
   "source": [
    "save=True\n",
    "\n",
    "if save and (not os.path.isfile(fullpath)):\n",
    "    print(f\"saving {fullpath}\")\n",
    "    with open(fullpath, 'a') as mvtb:\n",
    "        for val in list(zip(d,s,m, a)):\n",
    "            row = f\"{val[0]} {val[1]} {val[2]} {val[3]}\"\n",
    "            mvtb.write(f\"{row}\\n\")\n",
    "\n",
    "    print(row)\n",
    "else:\n",
    "    print(\"file exists!\")"
   ]
  },
  {
   "cell_type": "code",
   "execution_count": 51,
   "id": "471a3b1e",
   "metadata": {},
   "outputs": [
    {
     "data": {
      "text/plain": [
       "True"
      ]
     },
     "execution_count": 51,
     "metadata": {},
     "output_type": "execute_result"
    }
   ],
   "source": [
    "d, s,"
   ]
  },
  {
   "cell_type": "code",
   "execution_count": null,
   "id": "cd37a456",
   "metadata": {},
   "outputs": [],
   "source": []
  }
 ],
 "metadata": {
  "kernelspec": {
   "display_name": "Python 3",
   "language": "python",
   "name": "python3"
  },
  "language_info": {
   "codemirror_mode": {
    "name": "ipython",
    "version": 3
   },
   "file_extension": ".py",
   "mimetype": "text/x-python",
   "name": "python",
   "nbconvert_exporter": "python",
   "pygments_lexer": "ipython3",
   "version": "3.6.15"
  }
 },
 "nbformat": 4,
 "nbformat_minor": 5
}
