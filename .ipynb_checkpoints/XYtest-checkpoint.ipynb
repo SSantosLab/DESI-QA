{
 "cells": [
  {
   "cell_type": "code",
   "execution_count": 1,
   "id": "29014bd3",
   "metadata": {},
   "outputs": [],
   "source": [
    "import numpy as np\n",
    "import matplotlib.pyplot as plt\n",
    "import math"
   ]
  },
  {
   "cell_type": "code",
   "execution_count": 2,
   "id": "38d9c68a",
   "metadata": {},
   "outputs": [],
   "source": [
    "#assumptions: \n",
    "#clockwise is actually clockwise about the origin\n",
    "#coordinates are all in reference to our center point"
   ]
  },
  {
   "cell_type": "code",
   "execution_count": 3,
   "id": "2128952b",
   "metadata": {
    "scrolled": false
   },
   "outputs": [],
   "source": [
    "#try out the functions\n",
    "H = 166 #angle of hard limit relative to x-axis (pos or neg)\n",
    "R_theta = 3 #arm lengths \n",
    "R_phi = 3\n",
    "x0 = 1 #starting point of positioner (take an initial pic)\n",
    "y0 = 1"
   ]
  },
  {
   "cell_type": "code",
   "execution_count": 4,
   "id": "2e950ab1",
   "metadata": {},
   "outputs": [],
   "source": [
    "def transform(H,R_theta,R_phi,x,y): #function to output theta and phi angles based on coordinates relative to center \n",
    "    \n",
    "    if x==0 and y==0:\n",
    "        theta = 0\n",
    "        phi = 0\n",
    "\n",
    "    else:\n",
    "        H = H*np.pi/180\n",
    "        d = np.sqrt(x**2 + y**2)\n",
    "        a = d*np.cos(H)\n",
    "        b = d*np.sin(H)\n",
    "        r = np.sqrt((x-a)**2 + (y-b)**2)\n",
    "        alpha = 2*np.arcsin(r/(2*d))\n",
    "        #print(alpha*180/np.pi)\n",
    "        phi = np.arccos((R_phi**2 + R_theta**2 - d**2)/(2*R_theta*R_phi))\n",
    "        d_theta = np.arcsin(R_theta*np.sin(phi)/d)\n",
    "    \n",
    "        if abs(H) > np.pi/2:\n",
    "            if y>(b/a)*x:\n",
    "                theta = alpha + d_theta\n",
    "            if y<=(b/a)*x:\n",
    "                theta = ((2*np.pi)-alpha) + d_theta\n",
    "        else:\n",
    "            if y>(b/a)*x:\n",
    "                theta = ((2*np.pi)-alpha) + d_theta\n",
    "            if y<=(b/a)*x:\n",
    "                theta = alpha + d_theta \n",
    "    \n",
    "    theta = theta*180/np.pi\n",
    "    phi = phi*180/np.pi\n",
    "    \n",
    "    if theta>360:\n",
    "        theta = theta - 360\n",
    "    \n",
    "    return theta,phi"
   ]
  },
  {
   "cell_type": "code",
   "execution_count": 5,
   "id": "28e261c5",
   "metadata": {},
   "outputs": [],
   "source": [
    "def calc_moves(H,R_theta,R_phi,x0,y0,x,y): #function to output moves in theta and phi (pos being cw)\n",
    "\n",
    "    #where you are\n",
    "    theta0,phi0 = transform(H,R_theta,R_phi,x0,y0)\n",
    "    #where you want to be \n",
    "    theta,phi = transform(H,R_theta,R_phi,x,y)\n",
    "    #difference\n",
    "    delta_theta = theta-theta0\n",
    "    delta_phi = phi-phi0\n",
    "    \n",
    "    #optional logic\n",
    "    if delta_theta >= 0:\n",
    "        theta_cw = abs(delta_theta)\n",
    "        theta_ccw = 0\n",
    "    elif delta_theta < 0:\n",
    "        theta_cw = 0\n",
    "        theta_ccw = abs(delta_theta)\n",
    "    if delta_phi >= 0:\n",
    "        phi_cw = abs(delta_phi)\n",
    "        phi_ccw = 0\n",
    "    elif delta_phi < 0:\n",
    "        phi_cw = abs(delta_phi)\n",
    "        phi_ccw = 0\n",
    "    \n",
    "    return delta_theta,delta_phi"
   ]
  },
  {
   "cell_type": "code",
   "execution_count": 6,
   "id": "d27772d8",
   "metadata": {},
   "outputs": [
    {
     "ename": "SyntaxError",
     "evalue": "invalid syntax (<ipython-input-6-199c33bb19e5>, line 14)",
     "output_type": "error",
     "traceback": [
      "\u001b[0;36m  File \u001b[0;32m\"<ipython-input-6-199c33bb19e5>\"\u001b[0;36m, line \u001b[0;32m14\u001b[0m\n\u001b[0;31m    delta_theta =\u001b[0m\n\u001b[0m                  ^\u001b[0m\n\u001b[0;31mSyntaxError\u001b[0m\u001b[0;31m:\u001b[0m invalid syntax\n"
     ]
    }
   ],
   "source": [
    "#version that does move tables\n",
    "def calc_movetables(H,R_theta,R_phi,x0,y0,x,y): \n",
    "    #function to output moves in theta and phi (pos being cw)\n",
    "\n",
    "    #where you are\n",
    "    theta0,phi0 = transform(H,R_theta,R_phi,x0,y0)\n",
    "    #where you want to be \n",
    "    theta,phi = transform(H,R_theta,R_phi,x,y)\n",
    "    #difference\n",
    "    delta_theta = theta-theta0\n",
    "    delta_phi = phi-phi0\n",
    "    \n",
    "    #optional logic\n",
    "    if delta_theta >= 0:\n",
    "        delta_theta = \n",
    "        theta_cw = abs(delta_theta)\n",
    "        theta_ccw = 0\n",
    "    elif delta_theta < 0:\n",
    "        theta_cw = 0\n",
    "        theta_ccw = abs(delta_theta)\n",
    "    if delta_phi >= 0:\n",
    "        phi_cw = abs(delta_phi)\n",
    "        phi_ccw = 0\n",
    "    elif delta_phi < 0:\n",
    "        phi_cw = abs(delta_phi)\n",
    "        phi_ccw = 0\n",
    "    \n",
    "    return delta_theta,delta_phi"
   ]
  },
  {
   "cell_type": "code",
   "execution_count": 62,
   "id": "9b795a29",
   "metadata": {},
   "outputs": [
    {
     "name": "stdout",
     "output_type": "stream",
     "text": [
      "231.3669777746336 27.266044450732828\n"
     ]
    }
   ],
   "source": [
    "#translate starting point into theta,phi positions \n",
    "theta0,phi0 = transform(H,R_theta,R_phi,x0,y0)\n",
    "print(theta0,phi0)"
   ]
  },
  {
   "cell_type": "code",
   "execution_count": 63,
   "id": "338d00e4",
   "metadata": {},
   "outputs": [
    {
     "name": "stdout",
     "output_type": "stream",
     "text": [
      "[1, -5, -5, -5, -5, -5, -4, -4, -4, -4, -4, -4, -4, -3, -3, -3, -3, -3, -3, -3, -3, -3, -2, -2, -2, -2, -2, -2, -2, -2, -2, -2, -2, -1, -1, -1, -1, -1, -1, -1, -1, -1, -1, -1, 0, 0, 0, 0, 0, 0, 0, 0, 0, 0, 0, 1, 1, 1, 1, 1, 1, 1, 1, 1, 1, 1, 2, 2, 2, 2, 2, 2, 2, 2, 2, 2, 2, 3, 3, 3, 3, 3, 3, 3, 3, 3, 4, 4, 4, 4, 4, 4, 4, 5, 5, 5, 5, 5] [1, -2, -1, 0, 1, 2, -3, -2, -1, 0, 1, 2, 3, -4, -3, -2, -1, 0, 1, 2, 3, 4, -5, -4, -3, -2, -1, 0, 1, 2, 3, 4, 5, -5, -4, -3, -2, -1, 0, 1, 2, 3, 4, 5, -5, -4, -3, -2, -1, 0, 1, 2, 3, 4, 5, -5, -4, -3, -2, -1, 0, 1, 2, 3, 4, 5, -5, -4, -3, -2, -1, 0, 1, 2, 3, 4, 5, -4, -3, -2, -1, 0, 1, 2, 3, 4, -3, -2, -1, 0, 1, 2, 3, -2, -1, 0, 1, 2]\n",
      "98\n"
     ]
    }
   ],
   "source": [
    "#Generate the points we will attempt\n",
    "xpoints = [x0]\n",
    "ypoints = [y0]\n",
    "\n",
    "X = int(R_theta+R_phi-0.5) # R is the radius\n",
    "for x in range(-X,X+1):\n",
    "    Y = int(((R_theta+R_phi-0.5)**2-x**2)**0.5) # bound for y given x\n",
    "    for y in range(-Y,Y+1):\n",
    "        xpoints.append(x)\n",
    "        ypoints.append(y)\n",
    "\n",
    "print(xpoints,ypoints)\n",
    "print(len(xpoints))"
   ]
  },
  {
   "cell_type": "code",
   "execution_count": 64,
   "id": "165bd901",
   "metadata": {},
   "outputs": [
    {
     "data": {
      "image/png": "[encoded data removed]",
      "text/plain": [
       "<Figure size 720x720 with 1 Axes>"
      ]
     },
     "metadata": {
      "needs_background": "light"
     },
     "output_type": "display_data"
    }
   ],
   "source": [
    "#plot the points we will attempt\n",
    "figure, axes = plt.subplots(figsize=(10,10))\n",
    "circle = plt.Circle( (0, 0 ),R_theta+R_phi ,fill = False )\n",
    "axes.add_artist(circle)\n",
    "axes.set_aspect( 1 )\n",
    "plt.scatter(xpoints,ypoints, s = 50, marker = '.', color = 'red')\n",
    "plt.axvline(0, linestyle = '--', linewidth = 1, color = 'k')\n",
    "plt.axhline(0, linestyle = '--', linewidth = 1, color = 'k')\n",
    "\n",
    "plt.xlim((-8,8))\n",
    "plt.ylim((-8,8))\n",
    "plt.show()"
   ]
  },
  {
   "cell_type": "code",
   "execution_count": 65,
   "id": "dda0c4a6",
   "metadata": {},
   "outputs": [],
   "source": [
    "#create the move table (pos angles are clockwise and neg angles are counterclockwise)\n",
    "theta_moves = []\n",
    "phi_moves = []\n",
    "\n",
    "for i in range(0,len(xpoints)-1):\n",
    "    delta_theta,delta_phi = calc_moves(H,R_theta,R_phi,xpoints[i],ypoints[i],xpoints[i+1],ypoints[i+1])\n",
    "    theta_moves.append(delta_theta)\n",
    "    phi_moves.append(delta_phi)\n"
   ]
  },
  {
   "cell_type": "code",
   "execution_count": 66,
   "id": "de7b860e",
   "metadata": {},
   "outputs": [
    {
     "name": "stdout",
     "output_type": "stream",
     "text": [
      "[-207.00333074315023, 16.13252051387493, 13.061142216562402, 9.558722731478028, 4.850433510788271, -51.2790538881103, 18.557851602623884, 17.31086208173314, 15.63355930378767, 12.438927632065287, 7.7467533365698955, 2.0518413349081754, -90.00000000000007, 19.572792592235317, 19.37374258060055, 20.385208577098922, 20.241048842300543, 16.62884880354349, 10.125028829016657, 3.2461223674398383, -3.3125878839232996, 231.27905388811024, 20.408900068669595, -341.6214884402964, 20.120616665384148, 24.679583178637813, 28.974701888927214, 24.15540046522875, 12.190314467206221, 2.499248282656282, -4.128478861899978, -10.881616687217218, 218.75238546191537, 17.512580242887964, -343.99976393274324, 18.055331027194597, 26.682797943895594, 49.03895399850596, 40.96104600149407, 10.187099701948426, -1.7951263188826374, -7.202825357265709, -12.05995825507543, 193.06114221656236, 14.63237534230069, 11.810314895778674, -349.47122063449075, 9.87715240763032, -10.405931773139628, 190.4059317731396, -9.877152407630291, -10.528779365509308, -11.810314895778589, -14.632375342300719, 166.93885778343764, 12.059958255075458, 7.202825357265624, 1.7951263188826942, -10.187099701948398, -40.961046001494026, -49.03895399850609, -26.68279794389545, -18.055331027194654, -16.000236067256793, -17.512580242887964, 141.24761453808463, 10.881616687217218, 4.128478861899964, -2.4992482826562537, -12.190314467206235, -24.155400465228695, -28.974701888927, -24.679583178638154, -20.120616665384063, -18.378511559703526, -20.408900068669595, 128.72094611188967, 3.3125878839232996, -3.2461223674398525, -10.125028829016571, -16.628848803543576, -20.24104884230084, -20.385208577098552, -19.373742580600663, -19.572792592235203, 90.0, -2.051841334908147, -7.7467533365698955, -12.438927632065258, -15.633559303787365, -17.310862081733234, -18.557851602624083, 51.279053888110184, -4.8504335107882355, -9.55872273147807, -13.061142216562445, -16.132520513873942]\n",
      "[231.3669777746336, 24.363647031483367, 40.496167545358304, 53.55730976192069, 63.116032493398734, 67.966466004187, 16.6874121160767, 35.245263718700585, 52.55612580043373, 68.18968510422141, 80.6286127362867, 88.3753660728566, 90.42720740776477, 0.42720740776468347, 20.0, 39.37374258060055, 59.75895115769947, 80.0, 96.62884880354349, 106.75387763256015, 109.99999999999999, 106.68741211607669, 337.96646600418694, 358.37536607285654, 16.753877632560148, 36.874494297944295, 61.55407747658211, 90.52877936550931, 114.68417983073806, 126.87449429794428, 129.37374258060055, 125.24526371870058, 114.36364703148337, 333.11603249339873, 350.6286127362867, 6.6288488035434625, 24.68417983073806, 51.366977774633654, 100.40593177313963, 141.3669777746337, 151.5540774765821, 149.75895115769947, 142.5561258004338, 130.49616754535833, 323.5573097619207, 338.1896851042214, 350.00000000000006, 0.5287793655093083, 10.405931773139628, 0.0, 190.4059317731396, 180.5287793655093, 170.0, 158.1896851042214, 143.5573097619207, 310.49616754535833, 322.5561258004338, 329.7589511576994, 331.5540774765821, 321.3669777746337, 280.4059317731397, 231.3669777746336, 204.68417983073815, 186.6288488035435, 170.6286127362867, 153.11603249339873, 294.36364703148337, 305.2452637187006, 309.37374258060055, 306.8744942979443, 294.68417983073806, 270.52877936550937, 241.55407747658236, 216.8744942979442, 196.75387763256015, 178.37536607285662, 157.96646600418703, 286.6874121160767, 290.0, 286.75387763256015, 276.6288488035436, 260.0, 239.75895115769916, 219.3737425806006, 199.99999999999994, 180.42720740776474, 270.42720740776474, 268.3753660728566, 260.6286127362867, 248.18968510422144, 232.55612580043407, 215.24526371870084, 196.68741211607676, 247.96646600418694, 243.1160324933987, 233.55730976192064, 220.4961675453582, 204.36364703148425]\n"
     ]
    },
    {
     "data": {
      "image/png": "[encoded data removed]",
      "text/plain": [
       "<Figure size 720x432 with 1 Axes>"
      ]
     },
     "metadata": {
      "needs_background": "light"
     },
     "output_type": "display_data"
    }
   ],
   "source": [
    "#check that the theta positions are all safe (between zero and 360)\n",
    "print(theta_moves)\n",
    "\n",
    "theta_pos = [theta0]\n",
    "for i in range(1,len(xpoints)):\n",
    "    theta_pos.append(sum(theta_moves[0:i])+theta0)\n",
    "    \n",
    "print(theta_pos)\n",
    "\n",
    "time = np.arange(0,len(theta_pos))\n",
    "plt.figure(figsize=(10,6))\n",
    "plt.title(\"Theta position vs. move\")\n",
    "plt.scatter(time,theta_pos)\n",
    "plt.axhspan(0, 360, facecolor ='g', alpha = 0.05)\n",
    "plt.show()"
   ]
  },
  {
   "cell_type": "code",
   "execution_count": 67,
   "id": "7cbf615f",
   "metadata": {},
   "outputs": [
    {
     "name": "stdout",
     "output_type": "stream",
     "text": [
      "[100.4038425135968, -11.282087003086644, -3.502419485084417, 3.502419485084417, 11.282087003086644, -14.784506488171061, -16.506010267715766, -9.56410874516321, -3.194631671722405, 3.194631671722405, 9.56410874516321, 16.506010267715766, 0.0, -22.885380476158588, -16.127620213160753, -10.260179748082223, -3.6122000387570026, 3.6122000387570026, 10.260179748082223, 16.127620213160753, 22.885380476158588, 14.784506488171061, -31.290516755886827, -22.506990421603575, -17.62136838272781, -12.489268711431613, -4.819301423698427, 4.819301423698427, 12.489268711431613, 17.62136838272781, 22.506990421603575, 31.290516755886827, -11.282087003086644, -29.572538497963393, -23.203061424522588, -19.8504573460772, -16.495698241946982, -8.077907997011899, 8.077907997011899, 16.495698241946982, 19.8504573460772, 23.203061424522588, 29.572538497963393, -3.502419485084417, -29.26475068460138, -23.620629791557185, -21.057558731018624, -19.754304815260454, -19.18813645372093, 19.18813645372093, 19.754304815260454, 21.057558731018624, 23.620629791557185, 29.26475068460138, 3.502419485084417, -29.572538497963393, -23.203061424522588, -19.8504573460772, -16.495698241946982, -8.077907997011899, 8.077907997011899, 16.495698241946982, 19.8504573460772, 23.203061424522588, 29.572538497963393, 11.282087003086644, -31.290516755886827, -22.506990421603575, -17.62136838272781, -12.489268711431613, -4.819301423698427, 4.819301423698427, 12.489268711431613, 17.62136838272781, 22.506990421603575, 31.290516755886827, -14.784506488171061, -22.885380476158588, -16.127620213160753, -10.260179748082223, -3.6122000387570026, 3.6122000387570026, 10.260179748082223, 16.127620213160753, 22.885380476158588, 0.0, -16.506010267715766, -9.56410874516321, -3.194631671722405, 3.194631671722405, 9.56410874516321, 16.506010267715766, 14.784506488171061, -11.282087003086644, -3.502419485084417, 3.502419485084417, 11.282087003086644]\n",
      "[27.266044450732828, 127.66988696432963, 116.38779996124299, 112.88538047615856, 116.38779996124299, 127.66988696432963, 112.88538047615856, 96.3793702084428, 86.8152614632796, 83.62062979155718, 86.8152614632796, 96.3793702084428, 112.88538047615856, 112.88538047615856, 89.99999999999997, 73.87237978683922, 63.612200038757, 60.0, 63.612200038757, 73.87237978683922, 89.99999999999997, 112.88538047615856, 127.66988696432963, 96.3793702084428, 73.87237978683922, 56.251011404111416, 43.7617426926798, 38.942441268981376, 43.7617426926798, 56.251011404111416, 73.87237978683922, 96.3793702084428, 127.66988696432963, 116.38779996124299, 86.8152614632796, 63.612200038757, 43.7617426926798, 27.26604445073282, 19.188136453720922, 27.26604445073282, 43.7617426926798, 63.612200038757, 86.8152614632796, 116.38779996124299, 112.88538047615856, 83.62062979155718, 60.0, 38.942441268981376, 19.188136453720922, -7.105427357601002e-15, 19.188136453720922, 38.942441268981376, 60.0, 83.62062979155718, 112.88538047615856, 116.38779996124299, 86.8152614632796, 63.612200038757, 43.7617426926798, 27.26604445073282, 19.188136453720922, 27.26604445073282, 43.7617426926798, 63.612200038757, 86.8152614632796, 116.38779996124299, 127.66988696432963, 96.3793702084428, 73.87237978683922, 56.251011404111416, 43.7617426926798, 38.942441268981376, 43.7617426926798, 56.251011404111416, 73.87237978683922, 96.3793702084428, 127.66988696432963, 112.88538047615856, 89.99999999999997, 73.87237978683922, 63.612200038757, 60.0, 63.612200038757, 73.87237978683922, 89.99999999999997, 112.88538047615856, 112.88538047615856, 96.3793702084428, 86.8152614632796, 83.62062979155718, 86.8152614632796, 96.3793702084428, 112.88538047615856, 127.66988696432963, 116.38779996124299, 112.88538047615856, 116.38779996124299, 127.66988696432963]\n"
     ]
    },
    {
     "data": {
      "image/png": "[encoded data removed]",
      "text/plain": [
       "<Figure size 720x432 with 1 Axes>"
      ]
     },
     "metadata": {
      "needs_background": "light"
     },
     "output_type": "display_data"
    }
   ],
   "source": [
    "#check that the phi positions are all safe (between 0 and 180)\n",
    "print(phi_moves)\n",
    "\n",
    "phi_pos = [phi0]\n",
    "for i in range(1,len(xpoints)):\n",
    "    phi_pos.append(sum(phi_moves[0:i])+phi0)\n",
    "    \n",
    "print(phi_pos)\n",
    "\n",
    "time = np.arange(0,len(phi_pos))\n",
    "plt.figure(figsize=(10,6))\n",
    "plt.title(\"Phi position vs. move\")\n",
    "plt.scatter(time,phi_pos)\n",
    "plt.axhspan(0, 180, facecolor ='g', alpha = 0.05)\n",
    "plt.show()"
   ]
  },
  {
   "cell_type": "code",
   "execution_count": 68,
   "id": "f26a0c23",
   "metadata": {},
   "outputs": [],
   "source": [
    "###############################################################################################################################"
   ]
  },
  {
   "cell_type": "code",
   "execution_count": null,
   "id": "efa6975e",
   "metadata": {},
   "outputs": [],
   "source": []
  },
  {
   "cell_type": "code",
   "execution_count": 69,
   "id": "502f0c17",
   "metadata": {},
   "outputs": [],
   "source": [
    "#beyond this is for testing only \n",
    "#code from Thomas to check that my angles make sense, they won't match unless you do the math,\n",
    "#but it should look like the angles of the arms match up\n",
    "\n",
    "def get_angles(target, len1=3.0, len2=3.0):\n",
    "    \"\"\"\n",
    "    NOTE: This code was adapted from \"https://courses.ideate.cmu.edu/16-375/f2020/text/code/lecture-samples/two-link-ik.html\"\n",
    "    The angles \"alpha\" wrt the arm attached to the origin was given wrt the -Y axis, and the angle \"beta\" wrt the second arm was given wrt\n",
    "    the first arm, so the elbow angle was being calculated. The angles returned now are both wrt the positive X axis.\n",
    "    I also have plotted the results as a visual confirmation that the task was successful.\n",
    "    \n",
    "    Compute two inverse kinematics solutions for a target end position.  The\n",
    "    target is a Cartesian position vector (two-element ndarray) in world\n",
    "    coordinates, and the result vectors are joint angles as ndarrays [q0, q1].\n",
    "    If the target is out of reach, returns the closest pose.\n",
    "\n",
    "    :param target: two-element list or ndarray with [x1, y] target position\n",
    "    :param len1: optional proximal link length\n",
    "    :param len2: optional distal link length\n",
    "    :return: tuple (solution1, solution2) of two-element ndarrays with q1, q2 angles\n",
    "    \"\"\"\n",
    "\n",
    "    # find the position of the point in polar coordinates\n",
    "    radiussq = np.dot(target, target)\n",
    "    radius   = math.sqrt(radiussq)\n",
    "\n",
    "    # theta is the angle of target point w.r.t. -Y axis, same origin as arm\n",
    "    theta    = math.atan2(target[0], -target[1]) \n",
    "    \n",
    "\n",
    "    # use the law of cosines to compute the elbow angle\n",
    "    #   R**2 = l1**2 + l2**2 - 2*l1*l2*cos(pi - elbow)\n",
    "    #   both elbow and -elbow are valid solutions\n",
    "    acosarg = (radiussq - len1**2 - len2**2) / (-2 * len1 * len2)\n",
    "    if acosarg < -1.0:  elbow_supplement = math.pi\n",
    "    elif acosarg > 1.0: elbow_supplement = 0.0\n",
    "    else:               elbow_supplement = math.acos(acosarg)\n",
    "\n",
    "    # use the law of sines to find the angle at the bottom vertex of the triangle defined by the links\n",
    "    #  radius / sin(elbow_supplement)  = l2 / sin(alpha)\n",
    "    if radius > 0.0:\n",
    "        alpha = math.asin(len2 * math.sin(elbow_supplement) / radius)\n",
    "    else:\n",
    "        alpha = 0.0\n",
    "\n",
    "    #  compute the two solutions with opposite elbow sign\n",
    "    soln1 = np.array((theta - alpha, math.pi - elbow_supplement))\n",
    "    soln2 = np.array((theta + alpha, elbow_supplement - math.pi))\n",
    "    \n",
    "    # I think here I'm trying to ensure the angle is positive/negative when it should be, although it doesn't matter\n",
    "    if (-np.pi < theta - alpha) & (theta - alpha < -np.pi/2):\n",
    "        sol = np.array((theta - alpha + 3*np.pi/2, math.pi - elbow_supplement))\n",
    "        sol2 = np.array((theta + alpha + 3*np.pi/2, elbow_supplement - math.pi))\n",
    "    else:\n",
    "        sol = np.array((theta - alpha - np.pi/2, math.pi - elbow_supplement))\n",
    "        sol2 = np.array((theta + alpha - np.pi/2, elbow_supplement - math.pi))\n",
    "    \n",
    "    # See if we can plot our results, first plot the target\n",
    "    plt.figure(figsize = (8,8))\n",
    "    plt.scatter(target[0],target[1], s = 500, marker = '*', color = 'red')\n",
    "    plt.axvline(0, linestyle = '--', linewidth = 1, color = 'k')\n",
    "    plt.axhline(0, linestyle = '--', linewidth = 1, color = 'k')\n",
    "    plt.xlim((-6,6))\n",
    "    plt.ylim((-6,6))\n",
    "    \n",
    "    origin = [0,0]\n",
    "\n",
    "    # Find the location of the first solution joint geometrically \n",
    "    joint1 = [len1 * np.cos(sol[0]), len1 * np.sin(sol[0])]\n",
    "\n",
    "    x_values1_0 = [origin[0], joint1[0]]\n",
    "    y_values1_0 = [origin[1], joint1[1]]\n",
    "\n",
    "    \n",
    "    # End point of the second arm geometrically using the calculated angles \n",
    "    end1 = [x_values1_0[1] + len2 * np.cos(soln1[1] + sol[0]), y_values1_0[1] + len2 * np.sin(soln1[1] + sol[0])]\n",
    "   \n",
    "    x_values2 = [joint1[0], end1[0]]\n",
    "    y_values2 = [joint1[1], end1[1]]\n",
    "    \n",
    "    plt.plot(x_values1_0, y_values1_0, 'bo', linestyle=\"--\", markersize = 5)\n",
    "    plt.plot(x_values2, y_values2, 'bo', linestyle=\"--\", markersize = 5)\n",
    "    \n",
    "    # Now, see if we can do the same thing for the second solution\n",
    "    \n",
    "    joint2 = [len1 * np.cos(sol2[0]), len1 * np.sin(sol2[0])]\n",
    "    \n",
    "    x_values1_1 = [origin[0], joint2[0]]\n",
    "    y_values1_1 = [origin[1], joint2[1]]\n",
    "    \n",
    "    end2 = [x_values1_1[1] + len2 * np.cos(soln2[1] + sol2[0]), y_values1_1[1] + len2 * np.sin(soln2[1] + sol2[0])]\n",
    "    \n",
    "    x_values2_1 = [joint2[0], end2[0]]\n",
    "    y_values2_1 = [joint2[1], end2[1]]\n",
    "    \n",
    "    \n",
    "    plt.plot(x_values1_1, y_values1_1, 'yo', linestyle=\"--\", markersize = 5)\n",
    "    plt.plot(x_values2_1, y_values2_1, 'yo', linestyle=\"--\", markersize = 5)\n",
    "    \n",
    "    \n",
    "    # If the figure looks like the arms are in the correct location, then the angles are correct...\n",
    "    \n",
    "    #OK, so what are my actual angles???\n",
    "    angles1 = [sol[0], soln1[1] + sol[0]]\n",
    "    angles2 = [sol2[0], soln2[1] + sol2[0]]\n",
    "    \n",
    "    angles1 = [i - 2*np.pi if i > np.pi else i for i in angles1]\n",
    "    angles2 = [i - 2*np.pi if i > np.pi else i for i in angles2]\n",
    "    \n",
    "    print ('Angles for solution 1: {}, {}'.format(math.degrees(angles1[0]), math.degrees(angles1[1])))\n",
    "    print ('Angles for solution 2: {}, {}'.format(math.degrees(angles2[0]), math.degrees(angles2[1])))\n",
    "    return angles1, angles2"
   ]
  },
  {
   "cell_type": "code",
   "execution_count": 70,
   "id": "88e36cfc",
   "metadata": {},
   "outputs": [
    {
     "name": "stdout",
     "output_type": "stream",
     "text": [
      "Angles for solution 1: -31.366977774633675, 121.3669777746335\n",
      "Angles for solution 2: 121.36697777463367, -31.366977774633497\n"
     ]
    },
    {
     "data": {
      "text/plain": [
       "([-0.5474570385672415, 2.118253365362135],\n",
       " [2.118253365362138, -0.5474570385672384])"
      ]
     },
     "execution_count": 70,
     "metadata": {},
     "output_type": "execute_result"
    },
    {
     "data": {
      "image/png": "[encoded data removed]",
      "text/plain": [
       "<Figure size 576x576 with 1 Axes>"
      ]
     },
     "metadata": {
      "needs_background": "light"
     },
     "output_type": "display_data"
    }
   ],
   "source": [
    "get_angles((x0,y0))"
   ]
  },
  {
   "cell_type": "code",
   "execution_count": 71,
   "id": "83a1038e",
   "metadata": {},
   "outputs": [
    {
     "name": "stdout",
     "output_type": "stream",
     "text": [
      "Angles for solution 1: 159.5038324546417, -136.8839675066013\n",
      "Angles for solution 2: -136.88396750660127, 159.50383245464172\n"
     ]
    },
    {
     "data": {
      "text/plain": [
       "([2.7838670458828867, -2.3890759261831254],\n",
       " [-2.389075926183125, 2.783867045882887])"
      ]
     },
     "execution_count": 71,
     "metadata": {},
     "output_type": "execute_result"
    },
    {
     "data": {
      "image/png": "[encoded data removed]",
      "text/plain": [
       "<Figure size 576x576 with 1 Axes>"
      ]
     },
     "metadata": {
      "needs_background": "light"
     },
     "output_type": "display_data"
    }
   ],
   "source": [
    "get_angles((-5,-1))"
   ]
  },
  {
   "cell_type": "code",
   "execution_count": 78,
   "id": "08ff27b6",
   "metadata": {},
   "outputs": [],
   "source": [
    "x = -5 #destination point\n",
    "y = -1\n",
    "delta_theta,delta_phi = calc_moves(H,R_theta,R_phi,0.01,0,0,6)"
   ]
  },
  {
   "cell_type": "code",
   "execution_count": 79,
   "id": "5d9f2079",
   "metadata": {},
   "outputs": [
    {
     "name": "stdout",
     "output_type": "stream",
     "text": [
      "theta move: -179.90450710254362\n",
      "phi move: 179.80901397986958\n"
     ]
    }
   ],
   "source": [
    "#Does the solution look right?\n",
    "print('theta move:', delta_theta)\n",
    "print('phi move:', delta_phi)"
   ]
  },
  {
   "cell_type": "code",
   "execution_count": null,
   "id": "3f20fecd",
   "metadata": {},
   "outputs": [],
   "source": []
  },
  {
   "cell_type": "code",
   "execution_count": null,
   "id": "8f134339",
   "metadata": {},
   "outputs": [],
   "source": []
  }
 ],
 "metadata": {
  "kernelspec": {
   "display_name": "Python 3",
   "language": "python",
   "name": "python3"
  },
  "language_info": {
   "codemirror_mode": {
    "name": "ipython",
    "version": 3
   },
   "file_extension": ".py",
   "mimetype": "text/x-python",
   "name": "python",
   "nbconvert_exporter": "python",
   "pygments_lexer": "ipython3",
   "version": "3.6.15"
  }
 },
 "nbformat": 4,
 "nbformat_minor": 5
}
