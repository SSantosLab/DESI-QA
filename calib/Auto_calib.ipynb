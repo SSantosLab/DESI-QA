{
 "cells": [
  {
   "cell_type": "markdown",
   "id": "299bc099",
   "metadata": {},
   "source": [
    "before use: \n",
    "1. check if the positioner is in the HOME position!\n",
    "\n",
    "tasks: \n",
    "1. get database\n",
    "2. get data\n",
    "3. show plots of arcs\n",
    "    3.a show \n",
    "    \n",
    "4. get phi center\n",
    "5. get theta center\n",
    "6. calculate R \n",
    "7. Check R stability \n",
    "8. Check phi stability "
   ]
  },
  {
   "cell_type": "code",
   "execution_count": 3,
   "id": "a7e5b697",
   "metadata": {},
   "outputs": [
    {
     "data": {
      "text/plain": [
       "-30.120766252393473"
      ]
     },
     "execution_count": 3,
     "metadata": {},
     "output_type": "execute_result"
    }
   ],
   "source": [
    "import numpy as np \n",
    "np.degrees(np.arctan(3.032872/-5.227611) )"
   ]
  },
  {
   "cell_type": "code",
   "execution_count": null,
   "id": "656d9986",
   "metadata": {},
   "outputs": [],
   "source": []
  }
 ],
 "metadata": {
  "kernelspec": {
   "display_name": "Python 3",
   "language": "python",
   "name": "python3"
  },
  "language_info": {
   "codemirror_mode": {
    "name": "ipython",
    "version": 3
   },
   "file_extension": ".py",
   "mimetype": "text/x-python",
   "name": "python",
   "nbconvert_exporter": "python",
   "pygments_lexer": "ipython3",
   "version": "3.6.15"
  }
 },
 "nbformat": 4,
 "nbformat_minor": 5
}
