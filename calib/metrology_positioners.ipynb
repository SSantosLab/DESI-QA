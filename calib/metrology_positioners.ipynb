{
 "cells": [
  {
   "cell_type": "code",
   "execution_count": 2,
   "id": "7cc76af3",
   "metadata": {},
   "outputs": [],
   "source": [
    "import pandas as pd\n",
    "import numpy as np \n",
    "import matplotlib.pyplot as plt \n",
    "plt.rcParams.update({\"figure.dpi\":160})\n",
    "import sys\n",
    "sys.path.append(\"/home/msdos/DESI-QA/desiarc-main/arc\")\n",
    "import find_center as fc\n"
   ]
  },
  {
   "cell_type": "code",
   "execution_count": 3,
   "id": "8216fc25",
   "metadata": {},
   "outputs": [],
   "source": [
    "def get_timecol(db):\n",
    "    new = db.label.str.split(\"-\", n=1, expand=True)\n",
    "    new.columns = ['label', 'session']\n",
    "    db['label'] = new['label']\n",
    "    db.insert(1, \"session\", new['session'])\n",
    "    db['session'] = pd.to_datetime(db['session'], format= '%Y%m%d-%H%M%S' )#.dt.time\n",
    "    return \n",
    "\n",
    "def query_time(db, datemin=None, datemax=None):\n",
    "    \"\"\"\n",
    "    First run get_timecol(database)\n",
    "    datemin, datemax (str): e.g \"2023-02-03 13:36:00\"\n",
    "    \"\"\"\n",
    "    dmin = [np.datetime64(datemin) if not None else None][0]\n",
    "    dmax = [np.datetime64(datemax) if not None else None][0]\n",
    "    cond1 = db[\"session\"] >= dmin\n",
    "    cond2 = db[\"session\"] <= dmax\n",
    "    if (datemin is not None) & (datemax is not None):\n",
    "        return cond1 & cond2\n",
    "    elif datemin is None:\n",
    "        return cond2\n",
    "    elif datemax is None: \n",
    "        return cond1 \n",
    "    else:\n",
    "        print(\"check datemin datemax fields\")"
   ]
  },
  {
   "cell_type": "code",
   "execution_count": 12,
   "id": "72c10348",
   "metadata": {},
   "outputs": [],
   "source": [
    "pix2mm = 0.035354\n",
    "\n",
    "def poscoord (xpix, ypix, xc=xc, yc=yc): \n",
    "    return xpix*pix2mm -xc, ypix*pix2mm - yc\n"
   ]
  },
  {
   "cell_type": "code",
   "execution_count": null,
   "id": "0afe7b30",
   "metadata": {},
   "outputs": [],
   "source": [
    "\n"
   ]
  },
  {
   "cell_type": "code",
   "execution_count": null,
   "id": "ffe63b17",
   "metadata": {},
   "outputs": [],
   "source": [
    "# Querying session time examples: \n",
    "msk_time = query_time(db, datemin=\"2022-02-03 00:00:00\", datemax=\"2023-02-03 00:00:00\")\n",
    "msk_time = query_time(db, datemin=\"2023-02\") # only from February 2023\n",
    "\n",
    "msk1 = db.index>65\n"
   ]
  },
  {
   "cell_type": "markdown",
   "id": "4a27bf1b",
   "metadata": {},
   "source": [
    "# Metrology"
   ]
  },
  {
   "cell_type": "code",
   "execution_count": null,
   "id": "be85711b",
   "metadata": {},
   "outputs": [],
   "source": [
    "\n"
   ]
  },
  {
   "cell_type": "code",
   "execution_count": 5,
   "id": "a4eafdec",
   "metadata": {},
   "outputs": [
    {
     "data": {
      "text/html": [
       "<div>\n",
       "<style scoped>\n",
       "    .dataframe tbody tr th:only-of-type {\n",
       "        vertical-align: middle;\n",
       "    }\n",
       "\n",
       "    .dataframe tbody tr th {\n",
       "        vertical-align: top;\n",
       "    }\n",
       "\n",
       "    .dataframe thead th {\n",
       "        text-align: right;\n",
       "    }\n",
       "</style>\n",
       "<table border=\"1\" class=\"dataframe\">\n",
       "  <thead>\n",
       "    <tr style=\"text-align: right;\">\n",
       "      <th></th>\n",
       "      <th>label</th>\n",
       "      <th>session</th>\n",
       "      <th>mount</th>\n",
       "      <th>move</th>\n",
       "      <th>posid</th>\n",
       "      <th>direction</th>\n",
       "      <th>speed</th>\n",
       "      <th>motor</th>\n",
       "      <th>angle</th>\n",
       "      <th>xpix</th>\n",
       "      <th>ypix</th>\n",
       "      <th>peaks</th>\n",
       "      <th>fwhm</th>\n",
       "      <th>xmm</th>\n",
       "      <th>ymm</th>\n",
       "    </tr>\n",
       "  </thead>\n",
       "  <tbody>\n",
       "    <tr>\n",
       "      <th>0</th>\n",
       "      <td>curreposition</td>\n",
       "      <td>2023-02-03 11:09:58</td>\n",
       "      <td>0</td>\n",
       "      <td>20230203-111001</td>\n",
       "      <td>4852</td>\n",
       "      <td>cw</td>\n",
       "      <td>cruise</td>\n",
       "      <td>theta</td>\n",
       "      <td>0.000000</td>\n",
       "      <td>1972.161217</td>\n",
       "      <td>877.627679</td>\n",
       "      <td>75521.3256</td>\n",
       "      <td>3.3406</td>\n",
       "      <td>69.723788</td>\n",
       "      <td>31.027649</td>\n",
       "    </tr>\n",
       "    <tr>\n",
       "      <th>1</th>\n",
       "      <td>arcphi15</td>\n",
       "      <td>2023-02-03 12:09:29</td>\n",
       "      <td>0</td>\n",
       "      <td>20230203-120931</td>\n",
       "      <td>4852</td>\n",
       "      <td>cw</td>\n",
       "      <td>cruise</td>\n",
       "      <td>phi</td>\n",
       "      <td>0.000000</td>\n",
       "      <td>1972.512194</td>\n",
       "      <td>877.419182</td>\n",
       "      <td>73646.1300</td>\n",
       "      <td>3.3528</td>\n",
       "      <td>69.736196</td>\n",
       "      <td>31.020278</td>\n",
       "    </tr>\n",
       "    <tr>\n",
       "      <th>2</th>\n",
       "      <td>arcphi15</td>\n",
       "      <td>2023-02-03 12:09:29</td>\n",
       "      <td>0</td>\n",
       "      <td>20230203-120940</td>\n",
       "      <td>4852</td>\n",
       "      <td>cw</td>\n",
       "      <td>cruise</td>\n",
       "      <td>phi</td>\n",
       "      <td>15.000000</td>\n",
       "      <td>1978.753213</td>\n",
       "      <td>902.512606</td>\n",
       "      <td>74605.0360</td>\n",
       "      <td>3.3693</td>\n",
       "      <td>69.956841</td>\n",
       "      <td>31.907431</td>\n",
       "    </tr>\n",
       "    <tr>\n",
       "      <th>3</th>\n",
       "      <td>arcphi15</td>\n",
       "      <td>2023-02-03 12:09:29</td>\n",
       "      <td>0</td>\n",
       "      <td>20230203-120949</td>\n",
       "      <td>4852</td>\n",
       "      <td>cw</td>\n",
       "      <td>cruise</td>\n",
       "      <td>phi</td>\n",
       "      <td>15.000000</td>\n",
       "      <td>1976.627232</td>\n",
       "      <td>931.062076</td>\n",
       "      <td>78369.6116</td>\n",
       "      <td>3.5316</td>\n",
       "      <td>69.881679</td>\n",
       "      <td>32.916769</td>\n",
       "    </tr>\n",
       "    <tr>\n",
       "      <th>4</th>\n",
       "      <td>arcphi15</td>\n",
       "      <td>2023-02-03 12:09:29</td>\n",
       "      <td>0</td>\n",
       "      <td>20230203-120958</td>\n",
       "      <td>4852</td>\n",
       "      <td>cw</td>\n",
       "      <td>cruise</td>\n",
       "      <td>phi</td>\n",
       "      <td>15.000000</td>\n",
       "      <td>1965.341254</td>\n",
       "      <td>957.173044</td>\n",
       "      <td>76179.1692</td>\n",
       "      <td>3.4034</td>\n",
       "      <td>69.482675</td>\n",
       "      <td>33.839896</td>\n",
       "    </tr>\n",
       "    <tr>\n",
       "      <th>...</th>\n",
       "      <td>...</td>\n",
       "      <td>...</td>\n",
       "      <td>...</td>\n",
       "      <td>...</td>\n",
       "      <td>...</td>\n",
       "      <td>...</td>\n",
       "      <td>...</td>\n",
       "      <td>...</td>\n",
       "      <td>...</td>\n",
       "      <td>...</td>\n",
       "      <td>...</td>\n",
       "      <td>...</td>\n",
       "      <td>...</td>\n",
       "      <td>...</td>\n",
       "      <td>...</td>\n",
       "    </tr>\n",
       "    <tr>\n",
       "      <th>520</th>\n",
       "      <td>xy60</td>\n",
       "      <td>2023-02-17 19:24:56</td>\n",
       "      <td>0</td>\n",
       "      <td>20230217-193605</td>\n",
       "      <td>4852</td>\n",
       "      <td>ccw</td>\n",
       "      <td>cruise</td>\n",
       "      <td>phi</td>\n",
       "      <td>26.220457</td>\n",
       "      <td>2102.450087</td>\n",
       "      <td>832.839475</td>\n",
       "      <td>72528.1153</td>\n",
       "      <td>3.2608</td>\n",
       "      <td>74.330020</td>\n",
       "      <td>29.444207</td>\n",
       "    </tr>\n",
       "    <tr>\n",
       "      <th>521</th>\n",
       "      <td>xy60</td>\n",
       "      <td>2023-02-17 19:24:56</td>\n",
       "      <td>0</td>\n",
       "      <td>20230217-193617</td>\n",
       "      <td>4852</td>\n",
       "      <td>ccw</td>\n",
       "      <td>cruise</td>\n",
       "      <td>phi</td>\n",
       "      <td>9.432913</td>\n",
       "      <td>2101.029312</td>\n",
       "      <td>873.200247</td>\n",
       "      <td>72848.5657</td>\n",
       "      <td>3.2484</td>\n",
       "      <td>74.279790</td>\n",
       "      <td>30.871122</td>\n",
       "    </tr>\n",
       "    <tr>\n",
       "      <th>522</th>\n",
       "      <td>xy60</td>\n",
       "      <td>2023-02-17 19:24:56</td>\n",
       "      <td>0</td>\n",
       "      <td>20230217-193628</td>\n",
       "      <td>4852</td>\n",
       "      <td>ccw</td>\n",
       "      <td>cruise</td>\n",
       "      <td>phi</td>\n",
       "      <td>-3.931835</td>\n",
       "      <td>2099.840319</td>\n",
       "      <td>911.193117</td>\n",
       "      <td>73464.2242</td>\n",
       "      <td>3.2511</td>\n",
       "      <td>74.237755</td>\n",
       "      <td>32.214321</td>\n",
       "    </tr>\n",
       "    <tr>\n",
       "      <th>523</th>\n",
       "      <td>xy60</td>\n",
       "      <td>2023-02-17 19:24:56</td>\n",
       "      <td>0</td>\n",
       "      <td>20230217-193640</td>\n",
       "      <td>4852</td>\n",
       "      <td>cw</td>\n",
       "      <td>cruise</td>\n",
       "      <td>phi</td>\n",
       "      <td>9.500795</td>\n",
       "      <td>2098.633088</td>\n",
       "      <td>949.330563</td>\n",
       "      <td>73773.8229</td>\n",
       "      <td>3.2545</td>\n",
       "      <td>74.195074</td>\n",
       "      <td>33.562633</td>\n",
       "    </tr>\n",
       "    <tr>\n",
       "      <th>524</th>\n",
       "      <td>xy60</td>\n",
       "      <td>2023-02-17 19:24:56</td>\n",
       "      <td>0</td>\n",
       "      <td>20230217-193653</td>\n",
       "      <td>4852</td>\n",
       "      <td>cw</td>\n",
       "      <td>cruise</td>\n",
       "      <td>phi</td>\n",
       "      <td>26.286592</td>\n",
       "      <td>2096.613846</td>\n",
       "      <td>988.594651</td>\n",
       "      <td>73620.3463</td>\n",
       "      <td>3.2920</td>\n",
       "      <td>74.123686</td>\n",
       "      <td>34.950775</td>\n",
       "    </tr>\n",
       "  </tbody>\n",
       "</table>\n",
       "<p>525 rows × 15 columns</p>\n",
       "</div>"
      ],
      "text/plain": [
       "             label             session  mount             move  posid  \\\n",
       "0    curreposition 2023-02-03 11:09:58      0  20230203-111001   4852   \n",
       "1         arcphi15 2023-02-03 12:09:29      0  20230203-120931   4852   \n",
       "2         arcphi15 2023-02-03 12:09:29      0  20230203-120940   4852   \n",
       "3         arcphi15 2023-02-03 12:09:29      0  20230203-120949   4852   \n",
       "4         arcphi15 2023-02-03 12:09:29      0  20230203-120958   4852   \n",
       "..             ...                 ...    ...              ...    ...   \n",
       "520           xy60 2023-02-17 19:24:56      0  20230217-193605   4852   \n",
       "521           xy60 2023-02-17 19:24:56      0  20230217-193617   4852   \n",
       "522           xy60 2023-02-17 19:24:56      0  20230217-193628   4852   \n",
       "523           xy60 2023-02-17 19:24:56      0  20230217-193640   4852   \n",
       "524           xy60 2023-02-17 19:24:56      0  20230217-193653   4852   \n",
       "\n",
       "    direction   speed  motor      angle         xpix        ypix       peaks  \\\n",
       "0          cw  cruise  theta   0.000000  1972.161217  877.627679  75521.3256   \n",
       "1          cw  cruise    phi   0.000000  1972.512194  877.419182  73646.1300   \n",
       "2          cw  cruise    phi  15.000000  1978.753213  902.512606  74605.0360   \n",
       "3          cw  cruise    phi  15.000000  1976.627232  931.062076  78369.6116   \n",
       "4          cw  cruise    phi  15.000000  1965.341254  957.173044  76179.1692   \n",
       "..        ...     ...    ...        ...          ...         ...         ...   \n",
       "520       ccw  cruise    phi  26.220457  2102.450087  832.839475  72528.1153   \n",
       "521       ccw  cruise    phi   9.432913  2101.029312  873.200247  72848.5657   \n",
       "522       ccw  cruise    phi  -3.931835  2099.840319  911.193117  73464.2242   \n",
       "523        cw  cruise    phi   9.500795  2098.633088  949.330563  73773.8229   \n",
       "524        cw  cruise    phi  26.286592  2096.613846  988.594651  73620.3463   \n",
       "\n",
       "       fwhm        xmm        ymm  \n",
       "0    3.3406  69.723788  31.027649  \n",
       "1    3.3528  69.736196  31.020278  \n",
       "2    3.3693  69.956841  31.907431  \n",
       "3    3.5316  69.881679  32.916769  \n",
       "4    3.4034  69.482675  33.839896  \n",
       "..      ...        ...        ...  \n",
       "520  3.2608  74.330020  29.444207  \n",
       "521  3.2484  74.279790  30.871122  \n",
       "522  3.2511  74.237755  32.214321  \n",
       "523  3.2545  74.195074  33.562633  \n",
       "524  3.2920  74.123686  34.950775  \n",
       "\n",
       "[525 rows x 15 columns]"
      ]
     },
     "execution_count": 5,
     "metadata": {},
     "output_type": "execute_result"
    }
   ],
   "source": [
    "db = pd.read_csv('../output/database.csv', sep=',')\n",
    "get_timecol(db)\n",
    "db['xmm'] = db['xpix']* pix2mm\n",
    "db['ymm'] = db['ypix']* pix2mm\n",
    "db"
   ]
  },
  {
   "cell_type": "code",
   "execution_count": 13,
   "id": "c83cda43",
   "metadata": {},
   "outputs": [
    {
     "data": {
      "text/plain": [
       "[<matplotlib.lines.Line2D at 0x7f3822d5c4e0>]"
      ]
     },
     "execution_count": 13,
     "metadata": {},
     "output_type": "execute_result"
    },
    {
     "data": {
      "image/png": "[encoded data removed]",
      "text/plain": [
       "<Figure size 960x640 with 2 Axes>"
      ]
     },
     "metadata": {
      "needs_background": "light"
     },
     "output_type": "display_data"
    }
   ],
   "source": [
    "# db = pd.read_csv('../output/database.csv', sep=' ')\n",
    "# get_timecol(db)\n",
    "\n",
    "msk1 = db[\"label\"].str.contains('arcth')\n",
    "msk = msk1 #& query_time(db, datemax=\"2023-03\")\n",
    "msk = msk_arcth1 #& (db['direction']=='cw')\n",
    "\n",
    "xc0, yc0 = (1973*pix2mm, 885 *pix2mm)\n",
    "r = (171+20)*pix2mm\n",
    "\n",
    "plt.scatter(\"xmm\",\"ymm\",c = list(db[msk & (db.direction=='cw')].index), \n",
    "            marker='>',s=40, alpha=0.5, data=db[msk & (db.direction=='cw')], label='cw')\n",
    "\n",
    "plt.scatter(\"xmm\",\"ymm\",c = list(db[msk & (db.direction=='ccw')].index), \n",
    "            marker='<',s=40, alpha=0.5, data=db[msk & (db.direction=='ccw')], label='ccw')\n",
    "\n",
    "plt.colorbar()\n",
    "plt.xlim(xc0-r, xc0+r)\n",
    "plt.ylim(yc0+r, yc0-r)\n",
    "# plt.plot(xc0,yc0, 'rx', label='center-Feb2023')\n",
    "plt.plot(xc,yc, 'r+', label='center')\n",
    "plt.plot( np.linspace(xc, xc+Rarc, 10), np.ones(10)*yc, 'k--', lw=1 )\n",
    "\n",
    "plt.annotate(f\"R={Rarc:.2f}mm\", xy=(xc+Rarc/3.5, yc- Rarc/10))\n",
    "\n",
    "plt.legend(loc='best', fontsize=8)\n",
    "plt.gca().set_aspect('equal')\n",
    "\n",
    "plt.plot( xc+ (xc2-xc)*np.linspace(0,1)*2, yc+ (yc2-yc)*np.linspace(0,1)*2, 'r--', lw=1 )"
   ]
  },
  {
   "cell_type": "code",
   "execution_count": 14,
   "id": "b5eb450e",
   "metadata": {},
   "outputs": [
    {
     "data": {
      "text/plain": [
       "[<matplotlib.lines.Line2D at 0x7f3822c92278>]"
      ]
     },
     "execution_count": 14,
     "metadata": {},
     "output_type": "execute_result"
    },
    {
     "data": {
      "image/png": "[encoded data removed]",
      "text/plain": [
       "<Figure size 960x640 with 2 Axes>"
      ]
     },
     "metadata": {
      "needs_background": "light"
     },
     "output_type": "display_data"
    }
   ],
   "source": [
    "# db = pd.read_csv('../output/database.csv', sep=' ')\n",
    "# get_timecol(db)\n",
    "\n",
    "\n",
    "msk = msk_arcph #& (db['direction']=='cw')\n",
    "\n",
    "xc0, yc0 = (1973*pix2mm, 885 *pix2mm)\n",
    "r = (171+20)*pix2mm\n",
    "\n",
    "plt.scatter(\"xmm\",\"ymm\",c = list(db[msk & (db.direction=='cw')].index), \n",
    "            marker='>',s=10, alpha=0.5, data=db[msk & (db.direction=='cw')], label='cw')\n",
    "\n",
    "plt.scatter(\"xmm\",\"ymm\",c = list(db[msk & (db.direction=='ccw')].index), \n",
    "            marker='<',s=10, alpha=0.5, data=db[msk & (db.direction=='ccw')], label='ccw')\n",
    "\n",
    "plt.colorbar()\n",
    "plt.xlim(xc0-r, xc0+r)\n",
    "plt.ylim(yc0+r, yc0-r)\n",
    "# plt.plot(xc0,yc0, 'rx', label='center-Feb2023')\n",
    "plt.plot(xc,yc, 'r+', label='center')\n",
    "plt.plot( np.linspace(xc, xc+Rarc, 10), np.ones(10)*yc, 'k--', lw=1 )\n",
    "\n",
    "plt.annotate(f\"R={Rarc:.2f}mm\", xy=(xc+Rarc/3.5, yc- Rarc/10))\n",
    "\n",
    "plt.legend(loc='best', fontsize=8)\n",
    "plt.gca().set_aspect('equal')\n",
    "plt.plot(5.675741989186804 + xc, -1.9454820354196798+yc, 'ro')\n",
    "\n",
    "plt.plot(2130.3044693383354*pix2mm,  pix2mm*833.511437039412, 'r*')\n",
    "plt.plot(64.24628981320471, 33.84828000931173, 'm*')\n",
    "\n",
    "plt.plot( xc+ (xc2-xc)*np.linspace(0,1)*2, yc+ (yc2-yc)*np.linspace(0,1)*2, 'r--', lw=1 )"
   ]
  },
  {
   "cell_type": "code",
   "execution_count": 15,
   "id": "1cc84c98",
   "metadata": {},
   "outputs": [],
   "source": [
    "def angle_between(c, p1, p2):\n",
    "    # p1, p2 are points; c is center\n",
    "    a = np.array(p1)\n",
    "    b = np.array(c)\n",
    "    c = np.array(p2)\n",
    "    ba = a - b\n",
    "    bc = c - b\n",
    "    cosine_angle = np.dot(ba, bc) / (np.linalg.norm(ba) * np.linalg.norm(bc))\n",
    "    angle = np.arccos(cosine_angle)\n",
    "    return np.degrees(angle)"
   ]
  },
  {
   "cell_type": "code",
   "execution_count": 23,
   "id": "cc0c2cb8",
   "metadata": {},
   "outputs": [
    {
     "data": {
      "text/plain": [
       "(-0.5151435888540656, 0.2066980177557353)"
      ]
     },
     "execution_count": 23,
     "metadata": {},
     "output_type": "execute_result"
    },
    {
     "data": {
      "image/png": "[encoded data removed]",
      "text/plain": [
       "<Figure size 960x640 with 1 Axes>"
      ]
     },
     "metadata": {
      "needs_background": "light"
     },
     "output_type": "display_data"
    }
   ],
   "source": [
    "msk_arcth1 =( db['label'].str.contains('arcth30') )& (query_time(db, \"2023-02-13\", datemax=\"2023-02-14\")) \\\n",
    "            &(db.motor =='theta')\n",
    "\n",
    "msk_arcph =( db['label'].str.contains('arcph') ) & (query_time(db, \"2023-02-13\", datemax=\"2023-02-14\")) \n",
    "\n",
    "colors = ['b' if  i=='cw' else 'r' for i in db[msk_arcph]['direction'].iloc[1:]]\n",
    "xytuples = [(i,j) for i, j in zip(db[msk_arcph]['xmm'].values, db[msk_arcph]['ymm'].values)]\n",
    "\n",
    "angs = np.array([angle_between((xc2, yc2), xytuples[i], xytuples[i+1]) for i in range(len(xytuples) -1 ) ] )\n",
    "# Stats for this residuals \n",
    "res = angs -15 - 2* 1.995\n",
    "\n",
    "# plt.plot( res, 'o' )#, c=colors[1:])\n",
    "plt.scatter(np.arange(len(res)), res, c=colors)\n",
    "plt.axhline(0, lw=1, zorder=0)\n",
    "plt.ylim(-1, 1)\n",
    "\n",
    "# yellow flag ~0.5 deg  phi \n",
    "np.mean(res[abs(res)< 1]), np.std(res[abs(res)< 1], ddof=1)"
   ]
  },
  {
   "cell_type": "code",
   "execution_count": null,
   "id": "46e5dcc3",
   "metadata": {},
   "outputs": [],
   "source": []
  },
  {
   "cell_type": "code",
   "execution_count": 20,
   "id": "8052ffa0",
   "metadata": {
    "scrolled": false
   },
   "outputs": [
    {
     "data": {
      "text/html": [
       "<div>\n",
       "<style scoped>\n",
       "    .dataframe tbody tr th:only-of-type {\n",
       "        vertical-align: middle;\n",
       "    }\n",
       "\n",
       "    .dataframe tbody tr th {\n",
       "        vertical-align: top;\n",
       "    }\n",
       "\n",
       "    .dataframe thead th {\n",
       "        text-align: right;\n",
       "    }\n",
       "</style>\n",
       "<table border=\"1\" class=\"dataframe\">\n",
       "  <thead>\n",
       "    <tr style=\"text-align: right;\">\n",
       "      <th></th>\n",
       "      <th>label</th>\n",
       "      <th>session</th>\n",
       "      <th>mount</th>\n",
       "      <th>move</th>\n",
       "      <th>posid</th>\n",
       "      <th>direction</th>\n",
       "      <th>speed</th>\n",
       "      <th>motor</th>\n",
       "      <th>angle</th>\n",
       "      <th>xpix</th>\n",
       "      <th>ypix</th>\n",
       "      <th>peaks</th>\n",
       "      <th>fwhm</th>\n",
       "      <th>xmm</th>\n",
       "      <th>ymm</th>\n",
       "    </tr>\n",
       "  </thead>\n",
       "  <tbody>\n",
       "    <tr>\n",
       "      <th>159</th>\n",
       "      <td>arcphi15</td>\n",
       "      <td>2023-02-13 20:47:24</td>\n",
       "      <td>0</td>\n",
       "      <td>20230213-204727</td>\n",
       "      <td>4852</td>\n",
       "      <td>cw</td>\n",
       "      <td>cruise</td>\n",
       "      <td>phi</td>\n",
       "      <td>0.0</td>\n",
       "      <td>1969.331541</td>\n",
       "      <td>880.768070</td>\n",
       "      <td>72333.8544</td>\n",
       "      <td>3.2703</td>\n",
       "      <td>69.623747</td>\n",
       "      <td>31.138674</td>\n",
       "    </tr>\n",
       "    <tr>\n",
       "      <th>160</th>\n",
       "      <td>arcphi15</td>\n",
       "      <td>2023-02-13 20:47:24</td>\n",
       "      <td>0</td>\n",
       "      <td>20230213-204735</td>\n",
       "      <td>4852</td>\n",
       "      <td>cw</td>\n",
       "      <td>cruise</td>\n",
       "      <td>phi</td>\n",
       "      <td>15.0</td>\n",
       "      <td>1975.634718</td>\n",
       "      <td>906.451763</td>\n",
       "      <td>73008.3557</td>\n",
       "      <td>3.2553</td>\n",
       "      <td>69.846590</td>\n",
       "      <td>32.046696</td>\n",
       "    </tr>\n",
       "    <tr>\n",
       "      <th>161</th>\n",
       "      <td>arcphi15</td>\n",
       "      <td>2023-02-13 20:47:24</td>\n",
       "      <td>0</td>\n",
       "      <td>20230213-204744</td>\n",
       "      <td>4852</td>\n",
       "      <td>cw</td>\n",
       "      <td>cruise</td>\n",
       "      <td>phi</td>\n",
       "      <td>15.0</td>\n",
       "      <td>1973.418675</td>\n",
       "      <td>934.994795</td>\n",
       "      <td>71362.6358</td>\n",
       "      <td>3.2823</td>\n",
       "      <td>69.768244</td>\n",
       "      <td>33.055806</td>\n",
       "    </tr>\n",
       "    <tr>\n",
       "      <th>162</th>\n",
       "      <td>arcphi15</td>\n",
       "      <td>2023-02-13 20:47:24</td>\n",
       "      <td>0</td>\n",
       "      <td>20230213-204753</td>\n",
       "      <td>4852</td>\n",
       "      <td>cw</td>\n",
       "      <td>cruise</td>\n",
       "      <td>phi</td>\n",
       "      <td>15.0</td>\n",
       "      <td>1962.073124</td>\n",
       "      <td>961.110090</td>\n",
       "      <td>71550.0592</td>\n",
       "      <td>3.2983</td>\n",
       "      <td>69.367133</td>\n",
       "      <td>33.979086</td>\n",
       "    </tr>\n",
       "    <tr>\n",
       "      <th>163</th>\n",
       "      <td>arcphi15</td>\n",
       "      <td>2023-02-13 20:47:24</td>\n",
       "      <td>0</td>\n",
       "      <td>20230213-204802</td>\n",
       "      <td>4852</td>\n",
       "      <td>cw</td>\n",
       "      <td>cruise</td>\n",
       "      <td>phi</td>\n",
       "      <td>15.0</td>\n",
       "      <td>1942.711753</td>\n",
       "      <td>982.235699</td>\n",
       "      <td>72914.3460</td>\n",
       "      <td>3.3128</td>\n",
       "      <td>68.682631</td>\n",
       "      <td>34.725961</td>\n",
       "    </tr>\n",
       "    <tr>\n",
       "      <th>164</th>\n",
       "      <td>arcphi15</td>\n",
       "      <td>2023-02-13 20:47:24</td>\n",
       "      <td>0</td>\n",
       "      <td>20230213-204811</td>\n",
       "      <td>4852</td>\n",
       "      <td>cw</td>\n",
       "      <td>cruise</td>\n",
       "      <td>phi</td>\n",
       "      <td>15.0</td>\n",
       "      <td>1917.530466</td>\n",
       "      <td>995.878816</td>\n",
       "      <td>72828.9515</td>\n",
       "      <td>3.3467</td>\n",
       "      <td>67.792372</td>\n",
       "      <td>35.208300</td>\n",
       "    </tr>\n",
       "    <tr>\n",
       "      <th>165</th>\n",
       "      <td>arcphi15</td>\n",
       "      <td>2023-02-13 20:47:24</td>\n",
       "      <td>0</td>\n",
       "      <td>20230213-204820</td>\n",
       "      <td>4852</td>\n",
       "      <td>cw</td>\n",
       "      <td>cruise</td>\n",
       "      <td>phi</td>\n",
       "      <td>15.0</td>\n",
       "      <td>1889.191298</td>\n",
       "      <td>1000.624579</td>\n",
       "      <td>74491.8682</td>\n",
       "      <td>3.3940</td>\n",
       "      <td>66.790469</td>\n",
       "      <td>35.376081</td>\n",
       "    </tr>\n",
       "    <tr>\n",
       "      <th>166</th>\n",
       "      <td>arcphi15</td>\n",
       "      <td>2023-02-13 20:47:24</td>\n",
       "      <td>0</td>\n",
       "      <td>20230213-204829</td>\n",
       "      <td>4852</td>\n",
       "      <td>cw</td>\n",
       "      <td>cruise</td>\n",
       "      <td>phi</td>\n",
       "      <td>15.0</td>\n",
       "      <td>1860.942180</td>\n",
       "      <td>995.927830</td>\n",
       "      <td>76969.7442</td>\n",
       "      <td>3.4426</td>\n",
       "      <td>65.791750</td>\n",
       "      <td>35.210032</td>\n",
       "    </tr>\n",
       "    <tr>\n",
       "      <th>167</th>\n",
       "      <td>arcphi15</td>\n",
       "      <td>2023-02-13 20:47:24</td>\n",
       "      <td>0</td>\n",
       "      <td>20230213-204838</td>\n",
       "      <td>4852</td>\n",
       "      <td>cw</td>\n",
       "      <td>cruise</td>\n",
       "      <td>phi</td>\n",
       "      <td>15.0</td>\n",
       "      <td>1835.775641</td>\n",
       "      <td>982.319054</td>\n",
       "      <td>79398.0922</td>\n",
       "      <td>3.7441</td>\n",
       "      <td>64.902012</td>\n",
       "      <td>34.728908</td>\n",
       "    </tr>\n",
       "    <tr>\n",
       "      <th>168</th>\n",
       "      <td>arcphi15</td>\n",
       "      <td>2023-02-13 20:47:24</td>\n",
       "      <td>0</td>\n",
       "      <td>20230213-204847</td>\n",
       "      <td>4852</td>\n",
       "      <td>cw</td>\n",
       "      <td>cruise</td>\n",
       "      <td>phi</td>\n",
       "      <td>15.0</td>\n",
       "      <td>1816.330060</td>\n",
       "      <td>961.344888</td>\n",
       "      <td>75045.7676</td>\n",
       "      <td>3.5335</td>\n",
       "      <td>64.214533</td>\n",
       "      <td>33.987387</td>\n",
       "    </tr>\n",
       "    <tr>\n",
       "      <th>169</th>\n",
       "      <td>arcphi15</td>\n",
       "      <td>2023-02-13 20:47:24</td>\n",
       "      <td>0</td>\n",
       "      <td>20230213-204855</td>\n",
       "      <td>4852</td>\n",
       "      <td>cw</td>\n",
       "      <td>cruise</td>\n",
       "      <td>phi</td>\n",
       "      <td>15.0</td>\n",
       "      <td>1804.792270</td>\n",
       "      <td>935.120379</td>\n",
       "      <td>74993.0517</td>\n",
       "      <td>3.4671</td>\n",
       "      <td>63.806626</td>\n",
       "      <td>33.060246</td>\n",
       "    </tr>\n",
       "    <tr>\n",
       "      <th>170</th>\n",
       "      <td>arcphi15</td>\n",
       "      <td>2023-02-13 20:47:24</td>\n",
       "      <td>0</td>\n",
       "      <td>20230213-204904</td>\n",
       "      <td>4852</td>\n",
       "      <td>cw</td>\n",
       "      <td>cruise</td>\n",
       "      <td>phi</td>\n",
       "      <td>15.0</td>\n",
       "      <td>1803.310635</td>\n",
       "      <td>931.551432</td>\n",
       "      <td>74203.9872</td>\n",
       "      <td>3.5153</td>\n",
       "      <td>63.754244</td>\n",
       "      <td>32.934069</td>\n",
       "    </tr>\n",
       "    <tr>\n",
       "      <th>171</th>\n",
       "      <td>arcphi15</td>\n",
       "      <td>2023-02-13 20:47:24</td>\n",
       "      <td>0</td>\n",
       "      <td>20230213-204913</td>\n",
       "      <td>4852</td>\n",
       "      <td>cw</td>\n",
       "      <td>cruise</td>\n",
       "      <td>phi</td>\n",
       "      <td>15.0</td>\n",
       "      <td>1803.578326</td>\n",
       "      <td>931.649590</td>\n",
       "      <td>74266.5587</td>\n",
       "      <td>3.5127</td>\n",
       "      <td>63.763708</td>\n",
       "      <td>32.937540</td>\n",
       "    </tr>\n",
       "    <tr>\n",
       "      <th>172</th>\n",
       "      <td>arcphi15</td>\n",
       "      <td>2023-02-13 20:47:24</td>\n",
       "      <td>0</td>\n",
       "      <td>20230213-204922</td>\n",
       "      <td>4852</td>\n",
       "      <td>ccw</td>\n",
       "      <td>cruise</td>\n",
       "      <td>phi</td>\n",
       "      <td>15.0</td>\n",
       "      <td>1813.207465</td>\n",
       "      <td>956.163405</td>\n",
       "      <td>74651.4689</td>\n",
       "      <td>3.4563</td>\n",
       "      <td>64.104137</td>\n",
       "      <td>33.804201</td>\n",
       "    </tr>\n",
       "    <tr>\n",
       "      <th>173</th>\n",
       "      <td>arcphi15</td>\n",
       "      <td>2023-02-13 20:47:24</td>\n",
       "      <td>0</td>\n",
       "      <td>20230213-204931</td>\n",
       "      <td>4852</td>\n",
       "      <td>ccw</td>\n",
       "      <td>cruise</td>\n",
       "      <td>phi</td>\n",
       "      <td>15.0</td>\n",
       "      <td>1831.184646</td>\n",
       "      <td>978.525863</td>\n",
       "      <td>74675.0927</td>\n",
       "      <td>3.4548</td>\n",
       "      <td>64.739702</td>\n",
       "      <td>34.594803</td>\n",
       "    </tr>\n",
       "    <tr>\n",
       "      <th>174</th>\n",
       "      <td>arcphi15</td>\n",
       "      <td>2023-02-13 20:47:24</td>\n",
       "      <td>0</td>\n",
       "      <td>20230213-204940</td>\n",
       "      <td>4852</td>\n",
       "      <td>ccw</td>\n",
       "      <td>cruise</td>\n",
       "      <td>phi</td>\n",
       "      <td>15.0</td>\n",
       "      <td>1855.330900</td>\n",
       "      <td>993.793202</td>\n",
       "      <td>75586.7189</td>\n",
       "      <td>3.4828</td>\n",
       "      <td>65.593369</td>\n",
       "      <td>35.134565</td>\n",
       "    </tr>\n",
       "    <tr>\n",
       "      <th>175</th>\n",
       "      <td>arcphi15</td>\n",
       "      <td>2023-02-13 20:47:24</td>\n",
       "      <td>0</td>\n",
       "      <td>20230213-204949</td>\n",
       "      <td>4852</td>\n",
       "      <td>ccw</td>\n",
       "      <td>cruise</td>\n",
       "      <td>phi</td>\n",
       "      <td>15.0</td>\n",
       "      <td>1883.419784</td>\n",
       "      <td>1000.422867</td>\n",
       "      <td>78012.6996</td>\n",
       "      <td>3.7113</td>\n",
       "      <td>66.586423</td>\n",
       "      <td>35.368950</td>\n",
       "    </tr>\n",
       "    <tr>\n",
       "      <th>176</th>\n",
       "      <td>arcphi15</td>\n",
       "      <td>2023-02-13 20:47:24</td>\n",
       "      <td>0</td>\n",
       "      <td>20230213-204958</td>\n",
       "      <td>4852</td>\n",
       "      <td>ccw</td>\n",
       "      <td>cruise</td>\n",
       "      <td>phi</td>\n",
       "      <td>15.0</td>\n",
       "      <td>1911.787119</td>\n",
       "      <td>997.673512</td>\n",
       "      <td>75987.5584</td>\n",
       "      <td>3.4810</td>\n",
       "      <td>67.589322</td>\n",
       "      <td>35.271749</td>\n",
       "    </tr>\n",
       "    <tr>\n",
       "      <th>177</th>\n",
       "      <td>arcphi15</td>\n",
       "      <td>2023-02-13 20:47:24</td>\n",
       "      <td>0</td>\n",
       "      <td>20230213-205007</td>\n",
       "      <td>4852</td>\n",
       "      <td>ccw</td>\n",
       "      <td>cruise</td>\n",
       "      <td>phi</td>\n",
       "      <td>15.0</td>\n",
       "      <td>1937.926640</td>\n",
       "      <td>985.755683</td>\n",
       "      <td>74350.9526</td>\n",
       "      <td>3.3664</td>\n",
       "      <td>68.513458</td>\n",
       "      <td>34.850406</td>\n",
       "    </tr>\n",
       "    <tr>\n",
       "      <th>178</th>\n",
       "      <td>arcphi15</td>\n",
       "      <td>2023-02-13 20:47:24</td>\n",
       "      <td>0</td>\n",
       "      <td>20230213-205015</td>\n",
       "      <td>4852</td>\n",
       "      <td>ccw</td>\n",
       "      <td>cruise</td>\n",
       "      <td>phi</td>\n",
       "      <td>15.0</td>\n",
       "      <td>1958.660745</td>\n",
       "      <td>966.034293</td>\n",
       "      <td>72729.5911</td>\n",
       "      <td>3.3117</td>\n",
       "      <td>69.246492</td>\n",
       "      <td>34.153176</td>\n",
       "    </tr>\n",
       "    <tr>\n",
       "      <th>179</th>\n",
       "      <td>arcphi15</td>\n",
       "      <td>2023-02-13 20:47:24</td>\n",
       "      <td>0</td>\n",
       "      <td>20230213-205024</td>\n",
       "      <td>4852</td>\n",
       "      <td>ccw</td>\n",
       "      <td>cruise</td>\n",
       "      <td>phi</td>\n",
       "      <td>15.0</td>\n",
       "      <td>1971.775382</td>\n",
       "      <td>940.762095</td>\n",
       "      <td>72670.5379</td>\n",
       "      <td>3.2802</td>\n",
       "      <td>69.710147</td>\n",
       "      <td>33.259703</td>\n",
       "    </tr>\n",
       "    <tr>\n",
       "      <th>180</th>\n",
       "      <td>arcphi15</td>\n",
       "      <td>2023-02-13 20:47:24</td>\n",
       "      <td>0</td>\n",
       "      <td>20230213-205033</td>\n",
       "      <td>4852</td>\n",
       "      <td>ccw</td>\n",
       "      <td>cruise</td>\n",
       "      <td>phi</td>\n",
       "      <td>15.0</td>\n",
       "      <td>1975.987807</td>\n",
       "      <td>912.513038</td>\n",
       "      <td>71724.3971</td>\n",
       "      <td>3.2848</td>\n",
       "      <td>69.859073</td>\n",
       "      <td>32.260986</td>\n",
       "    </tr>\n",
       "    <tr>\n",
       "      <th>181</th>\n",
       "      <td>arcphi15</td>\n",
       "      <td>2023-02-13 20:47:24</td>\n",
       "      <td>0</td>\n",
       "      <td>20230213-205042</td>\n",
       "      <td>4852</td>\n",
       "      <td>ccw</td>\n",
       "      <td>cruise</td>\n",
       "      <td>phi</td>\n",
       "      <td>15.0</td>\n",
       "      <td>1970.707754</td>\n",
       "      <td>884.323918</td>\n",
       "      <td>72327.2807</td>\n",
       "      <td>3.2555</td>\n",
       "      <td>69.672402</td>\n",
       "      <td>31.264388</td>\n",
       "    </tr>\n",
       "    <tr>\n",
       "      <th>182</th>\n",
       "      <td>arcphi15</td>\n",
       "      <td>2023-02-13 20:47:24</td>\n",
       "      <td>0</td>\n",
       "      <td>20230213-205051</td>\n",
       "      <td>4852</td>\n",
       "      <td>ccw</td>\n",
       "      <td>cruise</td>\n",
       "      <td>phi</td>\n",
       "      <td>15.0</td>\n",
       "      <td>1969.180111</td>\n",
       "      <td>880.535791</td>\n",
       "      <td>71434.1277</td>\n",
       "      <td>3.2613</td>\n",
       "      <td>69.618394</td>\n",
       "      <td>31.130462</td>\n",
       "    </tr>\n",
       "    <tr>\n",
       "      <th>183</th>\n",
       "      <td>arcphi15</td>\n",
       "      <td>2023-02-13 20:47:24</td>\n",
       "      <td>0</td>\n",
       "      <td>20230213-205100</td>\n",
       "      <td>4852</td>\n",
       "      <td>ccw</td>\n",
       "      <td>cruise</td>\n",
       "      <td>phi</td>\n",
       "      <td>15.0</td>\n",
       "      <td>1969.153962</td>\n",
       "      <td>880.499656</td>\n",
       "      <td>71337.5510</td>\n",
       "      <td>3.2645</td>\n",
       "      <td>69.617469</td>\n",
       "      <td>31.129185</td>\n",
       "    </tr>\n",
       "  </tbody>\n",
       "</table>\n",
       "</div>"
      ],
      "text/plain": [
       "        label             session  mount             move  posid direction  \\\n",
       "159  arcphi15 2023-02-13 20:47:24      0  20230213-204727   4852        cw   \n",
       "160  arcphi15 2023-02-13 20:47:24      0  20230213-204735   4852        cw   \n",
       "161  arcphi15 2023-02-13 20:47:24      0  20230213-204744   4852        cw   \n",
       "162  arcphi15 2023-02-13 20:47:24      0  20230213-204753   4852        cw   \n",
       "163  arcphi15 2023-02-13 20:47:24      0  20230213-204802   4852        cw   \n",
       "164  arcphi15 2023-02-13 20:47:24      0  20230213-204811   4852        cw   \n",
       "165  arcphi15 2023-02-13 20:47:24      0  20230213-204820   4852        cw   \n",
       "166  arcphi15 2023-02-13 20:47:24      0  20230213-204829   4852        cw   \n",
       "167  arcphi15 2023-02-13 20:47:24      0  20230213-204838   4852        cw   \n",
       "168  arcphi15 2023-02-13 20:47:24      0  20230213-204847   4852        cw   \n",
       "169  arcphi15 2023-02-13 20:47:24      0  20230213-204855   4852        cw   \n",
       "170  arcphi15 2023-02-13 20:47:24      0  20230213-204904   4852        cw   \n",
       "171  arcphi15 2023-02-13 20:47:24      0  20230213-204913   4852        cw   \n",
       "172  arcphi15 2023-02-13 20:47:24      0  20230213-204922   4852       ccw   \n",
       "173  arcphi15 2023-02-13 20:47:24      0  20230213-204931   4852       ccw   \n",
       "174  arcphi15 2023-02-13 20:47:24      0  20230213-204940   4852       ccw   \n",
       "175  arcphi15 2023-02-13 20:47:24      0  20230213-204949   4852       ccw   \n",
       "176  arcphi15 2023-02-13 20:47:24      0  20230213-204958   4852       ccw   \n",
       "177  arcphi15 2023-02-13 20:47:24      0  20230213-205007   4852       ccw   \n",
       "178  arcphi15 2023-02-13 20:47:24      0  20230213-205015   4852       ccw   \n",
       "179  arcphi15 2023-02-13 20:47:24      0  20230213-205024   4852       ccw   \n",
       "180  arcphi15 2023-02-13 20:47:24      0  20230213-205033   4852       ccw   \n",
       "181  arcphi15 2023-02-13 20:47:24      0  20230213-205042   4852       ccw   \n",
       "182  arcphi15 2023-02-13 20:47:24      0  20230213-205051   4852       ccw   \n",
       "183  arcphi15 2023-02-13 20:47:24      0  20230213-205100   4852       ccw   \n",
       "\n",
       "      speed motor  angle         xpix         ypix       peaks    fwhm  \\\n",
       "159  cruise   phi    0.0  1969.331541   880.768070  72333.8544  3.2703   \n",
       "160  cruise   phi   15.0  1975.634718   906.451763  73008.3557  3.2553   \n",
       "161  cruise   phi   15.0  1973.418675   934.994795  71362.6358  3.2823   \n",
       "162  cruise   phi   15.0  1962.073124   961.110090  71550.0592  3.2983   \n",
       "163  cruise   phi   15.0  1942.711753   982.235699  72914.3460  3.3128   \n",
       "164  cruise   phi   15.0  1917.530466   995.878816  72828.9515  3.3467   \n",
       "165  cruise   phi   15.0  1889.191298  1000.624579  74491.8682  3.3940   \n",
       "166  cruise   phi   15.0  1860.942180   995.927830  76969.7442  3.4426   \n",
       "167  cruise   phi   15.0  1835.775641   982.319054  79398.0922  3.7441   \n",
       "168  cruise   phi   15.0  1816.330060   961.344888  75045.7676  3.5335   \n",
       "169  cruise   phi   15.0  1804.792270   935.120379  74993.0517  3.4671   \n",
       "170  cruise   phi   15.0  1803.310635   931.551432  74203.9872  3.5153   \n",
       "171  cruise   phi   15.0  1803.578326   931.649590  74266.5587  3.5127   \n",
       "172  cruise   phi   15.0  1813.207465   956.163405  74651.4689  3.4563   \n",
       "173  cruise   phi   15.0  1831.184646   978.525863  74675.0927  3.4548   \n",
       "174  cruise   phi   15.0  1855.330900   993.793202  75586.7189  3.4828   \n",
       "175  cruise   phi   15.0  1883.419784  1000.422867  78012.6996  3.7113   \n",
       "176  cruise   phi   15.0  1911.787119   997.673512  75987.5584  3.4810   \n",
       "177  cruise   phi   15.0  1937.926640   985.755683  74350.9526  3.3664   \n",
       "178  cruise   phi   15.0  1958.660745   966.034293  72729.5911  3.3117   \n",
       "179  cruise   phi   15.0  1971.775382   940.762095  72670.5379  3.2802   \n",
       "180  cruise   phi   15.0  1975.987807   912.513038  71724.3971  3.2848   \n",
       "181  cruise   phi   15.0  1970.707754   884.323918  72327.2807  3.2555   \n",
       "182  cruise   phi   15.0  1969.180111   880.535791  71434.1277  3.2613   \n",
       "183  cruise   phi   15.0  1969.153962   880.499656  71337.5510  3.2645   \n",
       "\n",
       "           xmm        ymm  \n",
       "159  69.623747  31.138674  \n",
       "160  69.846590  32.046696  \n",
       "161  69.768244  33.055806  \n",
       "162  69.367133  33.979086  \n",
       "163  68.682631  34.725961  \n",
       "164  67.792372  35.208300  \n",
       "165  66.790469  35.376081  \n",
       "166  65.791750  35.210032  \n",
       "167  64.902012  34.728908  \n",
       "168  64.214533  33.987387  \n",
       "169  63.806626  33.060246  \n",
       "170  63.754244  32.934069  \n",
       "171  63.763708  32.937540  \n",
       "172  64.104137  33.804201  \n",
       "173  64.739702  34.594803  \n",
       "174  65.593369  35.134565  \n",
       "175  66.586423  35.368950  \n",
       "176  67.589322  35.271749  \n",
       "177  68.513458  34.850406  \n",
       "178  69.246492  34.153176  \n",
       "179  69.710147  33.259703  \n",
       "180  69.859073  32.260986  \n",
       "181  69.672402  31.264388  \n",
       "182  69.618394  31.130462  \n",
       "183  69.617469  31.129185  "
      ]
     },
     "execution_count": 20,
     "metadata": {},
     "output_type": "execute_result"
    }
   ],
   "source": [
    "db[(msk_arcph) & query_time(db[msk_arcph], '2023-02-03' )]"
   ]
  },
  {
   "cell_type": "code",
   "execution_count": 112,
   "id": "14e6249a",
   "metadata": {},
   "outputs": [
    {
     "data": {
      "text/plain": [
       "(24, 24)"
      ]
     },
     "execution_count": 112,
     "metadata": {},
     "output_type": "execute_result"
    }
   ],
   "source": [
    "len(colors[1:]), len(res)"
   ]
  },
  {
   "cell_type": "code",
   "execution_count": 22,
   "id": "f19fcfc8",
   "metadata": {},
   "outputs": [
    {
     "data": {
      "text/plain": [
       "(-23.906259801997315, 1.8590721059357591)"
      ]
     },
     "execution_count": 22,
     "metadata": {},
     "output_type": "execute_result"
    }
   ],
   "source": [
    "xx, yy = [i*pix2mm for i in [1817.228314001378, 957.4101943008354]]\n",
    "xx, yy = [i*pix2mm for i in [1292.52, 940.68]]\n",
    "xx-xc, yy-yc"
   ]
  },
  {
   "cell_type": "code",
   "execution_count": 21,
   "id": "56b4b319",
   "metadata": {},
   "outputs": [
    {
     "data": {
      "text/plain": [
       "Text(0.5, 0, '$ \\\\Delta R_i/ R_{fit}$')"
      ]
     },
     "execution_count": 21,
     "metadata": {},
     "output_type": "execute_result"
    },
    {
     "data": {
      "image/png": "[encoded data removed]",
      "text/plain": [
       "<Figure size 960x640 with 1 Axes>"
      ]
     },
     "metadata": {
      "needs_background": "light"
     },
     "output_type": "display_data"
    }
   ],
   "source": [
    "# msk_arcth1 =( db['label'].str.contains('arcth30') )| (db['direction']=='cw') & (query_time(db, \"2023-02-07\"))\n",
    "msk = msk_arcph\n",
    "DR = np.hypot(db['xmm'][msk_arcth1] - xc, db['ymm'][msk_arcth1] - yc)\n",
    "DR2 = np.hypot(db['xmm'][msk_arcth1 & (db.direction=='cw')] - xc, db['ymm'][msk_arcth1& (db.direction=='cw')] - yc)\n",
    "\n",
    "plt.hist(DR -Rarc , histtype='step')\n",
    "plt.hist(DR2- Rarc, histtype='step')\n",
    "# plt.hist(DR/Rarc -1, histtype='step')\n",
    "\n",
    "\n",
    "plt.xlabel(\"$ \\Delta R_i/ R_{fit}$\")"
   ]
  },
  {
   "cell_type": "code",
   "execution_count": 53,
   "id": "3a1f2570",
   "metadata": {},
   "outputs": [
    {
     "data": {
      "text/plain": [
       "3.132091952673165"
      ]
     },
     "execution_count": 53,
     "metadata": {},
     "output_type": "execute_result"
    }
   ],
   "source": [
    "np.hypot(5.675741989186804, -1.9454820354196798)\n",
    "np.sqrt(5.9**2 - 5**2)"
   ]
  },
  {
   "cell_type": "code",
   "execution_count": 44,
   "id": "4897ec97",
   "metadata": {},
   "outputs": [
    {
     "data": {
      "text/plain": [
       "2.9625157420276573"
      ]
     },
     "execution_count": 44,
     "metadata": {},
     "output_type": "execute_result"
    }
   ],
   "source": [
    "np.hypot(xc2-xc, yc2-yc)"
   ]
  },
  {
   "cell_type": "code",
   "execution_count": 11,
   "id": "c45f156e",
   "metadata": {},
   "outputs": [
    {
     "name": "stdout",
     "output_type": "stream",
     "text": [
      "66.74881006393363 32.19295019145372 3.075076824088685\n",
      "(1968.7167472421033, 888.0955086854171, 170.6247281817742)\n",
      "69.60201188199731 31.397728614064235 6.032266640138444 170.6247281817742\n"
     ]
    },
    {
     "data": {
      "text/plain": [
       "(6.032266640138444, 3.075076824088685, 66.74881006393363, 32.19295019145372)"
      ]
     },
     "execution_count": 11,
     "metadata": {},
     "output_type": "execute_result"
    }
   ],
   "source": [
    "msk_arcph = (db['label'].str.contains('arcph')) & (query_time(db, \"2023-02-13\"))\n",
    "msk_arcth1 =( db['label'].str.contains('arcth30') )& (query_time(db, \"2023-02-13\")) \\\n",
    "            &(db.motor =='theta')\n",
    "5\n",
    "xc2, yc2, R2 = [i*pix2mm for i in fc.get_circle(db[msk_arcph ])]\n",
    "print(xc2, yc2, R2)\n",
    "# xc, yc, Rarc = fc.get_circle(db[msk_arcth])\n",
    "xc, yc, Rarc = [i*pix2mm for i in fc.get_circle(db[msk_arcth1],)]\n",
    "print(fc.get_circle(db[msk_arcth1]))\n",
    "# print(xc2, yc2, R2, R2*pix2mm,)\n",
    "print(xc, yc, Rarc, Rarc/pix2mm)\n",
    "\n",
    "\n",
    "db[msk_arcth1], \n",
    "Rarc, R2, xc2, yc2\n",
    "# np.sign(xc2-xc), np.sign(yc2-yc), 180 + np.rad2deg(np.arctan((yc2-yc)/(xc2-xc)))"
   ]
  },
  {
   "cell_type": "code",
   "execution_count": 25,
   "id": "000c0c7e",
   "metadata": {},
   "outputs": [
    {
     "data": {
      "text/plain": [
       "(69.60399862271909, 31.40032983828514)"
      ]
     },
     "execution_count": 25,
     "metadata": {},
     "output_type": "execute_result"
    }
   ],
   "source": [
    "xc, yc"
   ]
  },
  {
   "cell_type": "code",
   "execution_count": 149,
   "id": "3e43c0bc",
   "metadata": {},
   "outputs": [
    {
     "name": "stderr",
     "output_type": "stream",
     "text": [
      "No handles with labels found to put in legend.\n"
     ]
    },
    {
     "data": {
      "image/png": "[encoded data removed]",
      "text/plain": [
       "<Figure size 780x520 with 2 Axes>"
      ]
     },
     "metadata": {
      "needs_background": "light"
     },
     "output_type": "display_data"
    }
   ],
   "source": [
    "# xc, yc = (1973, 885)\n",
    "r = 171+20\n",
    "\n",
    "msk = msk_arcph | msk_arcth\n",
    "\n",
    "plt.scatter(\"xmm\",\"ymm\",c = list(db[msk].index), marker='o',\n",
    "            s=40, alpha=0.5, data=db[msk], label='')\n",
    "\n",
    "plt.colorbar()\n",
    "# plt.xlim(xc-r,xc+r)\n",
    "# plt.ylim(yc+r, yc-r)\n",
    "# plt.plot(xc,yc, 'rx', label='cw')\n",
    "# plt.plot(xc_ccw, yc_ccw, 'r+', label='ccw')\n",
    "\n",
    "# plt.plot(xc2, yc2, 'gx', label='tip theta')\n",
    "\n",
    "\n",
    "# plt.plot( 1972.1612173606197, 877.6276787398024, 'k+', label='home-Feb2023')\n",
    "plt.legend(loc='best', fontsize=8)\n",
    "plt.gca().set_aspect('equal')"
   ]
  },
  {
   "cell_type": "code",
   "execution_count": 185,
   "id": "35394da3",
   "metadata": {},
   "outputs": [],
   "source": [
    "posid = '9999'\n",
    "pos_speed = {'9999': {'cruise': 33, 'spinramp':12}}\n",
    "_dir, ispeed, _motor, _ang = 'cw', 'cruise', 'theta', 30\n",
    "prevmv = None\n",
    "\n",
    "# argscorrection(_dir, ispeed, _motor, _ang, \n",
    "#                                       pos_speed[posid], prevmv) \n",
    "def argscorrection(direc, speed, motor, ang, def_speed, prevmv):\n",
    "    \"\"\"\n",
    "    backlash and ramp added here. Agnostic to motor \n",
    "    todo: check backlash number for a given positioner\n",
    "    \"\"\"\n",
    "    val_backlash= 2.5\n",
    "    if prevmv is None:\n",
    "        add_backlash = 0.0\n",
    "    elif prevmv==direc:\n",
    "        add_backlash = 0.0\n",
    "    elif direc != prevmv:\n",
    "        print(\"Adding 2.5 deg of backlash\")\n",
    "        add_backlash = val_backlash\n",
    "        \n",
    "    if speed=='creep':\n",
    "        add_ramp = 0.0\n",
    "        \n",
    "    elif speed=='cruise':\n",
    "        cruise = def_speed['cruise']\n",
    "        ramp = def_speed['spinramp']\n",
    "        if cruise==33 and ramp== 12:\n",
    "            add_ramp = 1.995\n",
    "        else:\n",
    "            print(\"NotImplemented spin and cruise\")\n",
    "            return None\n",
    "    ang2 = ang + add_backlash - 2*add_ramp\n",
    "    \n",
    "    if ang2 < add_backlash+ 5e-2 :\n",
    "        print(\"move too small for cruise < 4.0\")\n",
    "        ang2=0\n",
    "    return direc, speed, motor, ang2"
   ]
  },
  {
   "cell_type": "code",
   "execution_count": 189,
   "id": "b6293430",
   "metadata": {},
   "outputs": [
    {
     "name": "stdout",
     "output_type": "stream",
     "text": [
      "Adding 2.5 deg of backlash\n",
      "move too small for cruise < 4.0\n",
      "('cw', 'cruise', 'any', 0) \n",
      "\n",
      "Adding 2.5 deg of backlash\n",
      "move too small for cruise < 4.0\n",
      "('cw', 'cruise', 'any', 0) \n",
      "\n",
      "Adding 2.5 deg of backlash\n",
      "move too small for cruise < 4.0\n",
      "('ccw', 'cruise', 'any', 0) \n",
      "\n",
      "move too small for cruise < 4.0\n",
      "('ccw', 'cruise', 'any', 0) \n",
      "\n"
     ]
    }
   ],
   "source": [
    "for direc, speed, motor, ang, prevmv in zip(['cw', 'cw', 'ccw', 'ccw' ], \n",
    "                                    ['cruise']*4, \n",
    "                                   ['any']*4, \n",
    "                                   [4]*4, \n",
    "                                   ['ccw', 'ccw', 'cw', None ]):\n",
    "    \n",
    "    print(argscorrection(direc, speed, motor, ang, pos_speed[posid], prevmv),'\\n')"
   ]
  },
  {
   "cell_type": "markdown",
   "id": "1bf92852",
   "metadata": {},
   "source": [
    "# config db"
   ]
  },
  {
   "cell_type": "code",
   "execution_count": 264,
   "id": "4cfb39f3",
   "metadata": {},
   "outputs": [],
   "source": [
    "# TODO: remove hardcoded stuff here\n",
    "pix2mm = 0.035337\n",
    "# todo, pass this as dictionary per positioner\n",
    "dev_bb = {'can22': ['4852']}\n",
    "posid = '4852'\n",
    "hardstop_ang = {\"4852\": 166.270588} # in deg\n",
    "R1 = {\"4852\": 3.0747} # R theta\n",
    "R2 = {\"4852\": 2.9625} # R phi\n",
    "center = {\"4852\":[ 69.60399862271909, 31.40032983828514]}\n",
    "center_pix = [i/pix2mm for i in center['4852']]\n",
    "pos_speed = {\"4852\":{\"cruise\": 33, \"spinramp\": 12, }}"
   ]
  },
  {
   "cell_type": "code",
   "execution_count": 265,
   "id": "5ffdaf66",
   "metadata": {},
   "outputs": [
    {
     "data": {
      "text/plain": [
       "[1969.7200844078186, 888.5963674982352]"
      ]
     },
     "execution_count": 265,
     "metadata": {},
     "output_type": "execute_result"
    }
   ],
   "source": [
    "center_pix"
   ]
  },
  {
   "cell_type": "code",
   "execution_count": 203,
   "id": "afa85e8d",
   "metadata": {},
   "outputs": [
    {
     "name": "stdout",
     "output_type": "stream",
     "text": [
      "4852 3.0747 2.9625 69.60399862271909 31.40032983828514 33 12 166.270588 0.035337\n"
     ]
    }
   ],
   "source": [
    "for ipid in dev_bb['can22']:\n",
    "    # ipid, R1, R2, xcmm, ycmm, defcruise, deframp, hardstopdeg, pix2mm \n",
    "    print(ipid,  R1[ipid], R2[ipid], center[ipid][0], center[ipid][1], \n",
    "          pos_speed[ipid]['cruise'], pos_speed[ipid]['spinramp'], \n",
    "          hardstop_ang[ipid], pix2mm)"
   ]
  },
  {
   "cell_type": "code",
   "execution_count": 220,
   "id": "26e6b331",
   "metadata": {},
   "outputs": [
    {
     "data": {
      "text/plain": [
       "True"
      ]
     },
     "execution_count": 220,
     "metadata": {},
     "output_type": "execute_result"
    }
   ],
   "source": [
    "# Ramp angle: \n",
    "defcruise = 11\n",
    "deframp = 27\n",
    "gear_ratio = (46/14 + 1)**4\n",
    "ramp_ang = lambda defcruise, deframp: defcruise*(defcruise+1)* deframp / 20/ gear_ratio\n",
    "\n",
    "np.isclose( ramp_ang(33, 12), 1.99549)"
   ]
  },
  {
   "cell_type": "code",
   "execution_count": 243,
   "id": "7174ad7a",
   "metadata": {},
   "outputs": [
    {
     "data": {
      "text/plain": [
       "(-5.6205223795421375, 1.8307085742324176)"
      ]
     },
     "execution_count": 243,
     "metadata": {},
     "output_type": "execute_result"
    },
    {
     "data": {
      "image/png": "[encoded data removed]",
      "text/plain": [
       "<Figure size 960x640 with 1 Axes>"
      ]
     },
     "metadata": {
      "needs_background": "light"
     },
     "output_type": "display_data"
    }
   ],
   "source": [
    "hs = hardstop_ang[\"4852\"]\n",
    "\n",
    "xpos, ypos = poscoord(1810.6652020029135, 940.4034981044671) \n",
    "\n",
    "plt.plot(xpos, ypos, '>')\n",
    "plt.plot(*poscoord(1908.1386613918696,1043.359122190031), '<')\n",
    "plt.plot(0,0 , 'rx')\n",
    "\n",
    "plt.gca().invert_yaxis()\n",
    "plt.gca().set_aspect('equal')\n",
    "angle_between([0,0], [5,0],[xpos, ypos] )\n",
    "xpos, ypos"
   ]
  },
  {
   "cell_type": "code",
   "execution_count": 236,
   "id": "81a1a063",
   "metadata": {},
   "outputs": [],
   "source": [
    "def poscoord (xpix, ypix, xc=xc, yc=yc): \n",
    "    return xpix*pix2mm -xc, ypix*pix2mm - yc\n"
   ]
  },
  {
   "cell_type": "code",
   "execution_count": 247,
   "id": "aa237686",
   "metadata": {},
   "outputs": [
    {
     "data": {
      "text/plain": [
       "(1969.7200844078186, 888.5963674982352)"
      ]
     },
     "execution_count": 247,
     "metadata": {},
     "output_type": "execute_result"
    }
   ],
   "source": [
    "xc/pix2mm, yc/pix2mm"
   ]
  },
  {
   "cell_type": "code",
   "execution_count": 263,
   "id": "bcc586b8",
   "metadata": {},
   "outputs": [
    {
     "data": {
      "text/plain": [
       "(-5.62130918812958, 2.1621465575508125)"
      ]
     },
     "execution_count": 263,
     "metadata": {},
     "output_type": "execute_result"
    }
   ],
   "source": [
    "poscoord(1810.642936145952 , 949.7828450586057)"
   ]
  },
  {
   "cell_type": "code",
   "execution_count": 30,
   "id": "37a62c38",
   "metadata": {},
   "outputs": [
    {
     "data": {
      "text/plain": [
       "13.754431356863726"
      ]
     },
     "execution_count": 30,
     "metadata": {},
     "output_type": "execute_result"
    }
   ],
   "source": [
    "np.degrees(np.arctan(1.36/5.556))"
   ]
  },
  {
   "cell_type": "code",
   "execution_count": null,
   "id": "c085bf2c",
   "metadata": {},
   "outputs": [],
   "source": []
  }
 ],
 "metadata": {
  "kernelspec": {
   "display_name": "Python 3",
   "language": "python",
   "name": "python3"
  },
  "language_info": {
   "codemirror_mode": {
    "name": "ipython",
    "version": 3
   },
   "file_extension": ".py",
   "mimetype": "text/x-python",
   "name": "python",
   "nbconvert_exporter": "python",
   "pygments_lexer": "ipython3",
   "version": "3.6.15"
  }
 },
 "nbformat": 4,
 "nbformat_minor": 5
}
