{
 "cells": [
  {
   "cell_type": "code",
   "execution_count": 1,
   "id": "624b9404",
   "metadata": {},
   "outputs": [],
   "source": [
    "import pandas as pd\n",
    "import numpy as np\n",
    "import matplotlib.pyplot as plt\n",
    "plt.rcParams.update({'figure.dpi':180})\n",
    "\n",
    "import sys\n",
    "sys.path.append(\"/home/msdos/DESI-QA/desiarc-main/arc\")\n",
    "sys.path.append(\"/home/msdos/DESI-QA/\")\n",
    "sys.path.append(\"/home/msdos/DESI-QA/output/figures/\")\n",
    "import find_center as fc\n",
    "from spotfinder import spotfinder\n",
    "from xylib import calc_movetables as cm\n",
    "import reportlib as rl\n",
    "\n",
    "figPath = '/home/msdos/DESI-QA/output/figures/LinPhiTests/10ArcThetaTest/'"
   ]
  },
  {
   "cell_type": "code",
   "execution_count": 2,
   "id": "c61083c0",
   "metadata": {},
   "outputs": [
    {
     "name": "stderr",
     "output_type": "stream",
     "text": [
      "/home/msdos/DESI-QA/reportlib.py:144: RuntimeWarning: invalid value encountered in arccos\n",
      "  angle = np.arccos(cosine_angle)\n",
      "/home/msdos/DESI-QA/reportlib.py:144: RuntimeWarning: invalid value encountered in arccos\n",
      "  angle = np.arccos(cosine_angle)\n",
      "/home/msdos/DESI-QA/reportlib.py:144: RuntimeWarning: invalid value encountered in arccos\n",
      "  angle = np.arccos(cosine_angle)\n",
      "/home/msdos/DESI-QA/reportlib.py:144: RuntimeWarning: invalid value encountered in arccos\n",
      "  angle = np.arccos(cosine_angle)\n",
      "/home/msdos/DESI-QA/reportlib.py:144: RuntimeWarning: invalid value encountered in arccos\n",
      "  angle = np.arccos(cosine_angle)\n",
      "/home/msdos/DESI-QA/reportlib.py:144: RuntimeWarning: invalid value encountered in arccos\n",
      "  angle = np.arccos(cosine_angle)\n",
      "/home/msdos/DESI-QA/reportlib.py:144: RuntimeWarning: invalid value encountered in arccos\n",
      "  angle = np.arccos(cosine_angle)\n",
      "/home/msdos/DESI-QA/reportlib.py:144: RuntimeWarning: invalid value encountered in arccos\n",
      "  angle = np.arccos(cosine_angle)\n",
      "/home/msdos/DESI-QA/reportlib.py:144: RuntimeWarning: invalid value encountered in arccos\n",
      "  angle = np.arccos(cosine_angle)\n",
      "/home/msdos/DESI-QA/reportlib.py:144: RuntimeWarning: invalid value encountered in arccos\n",
      "  angle = np.arccos(cosine_angle)\n",
      "/home/msdos/DESI-QA/reportlib.py:144: RuntimeWarning: invalid value encountered in arccos\n",
      "  angle = np.arccos(cosine_angle)\n",
      "/home/msdos/DESI-QA/reportlib.py:144: RuntimeWarning: invalid value encountered in arccos\n",
      "  angle = np.arccos(cosine_angle)\n",
      "/home/msdos/DESI-QA/reportlib.py:144: RuntimeWarning: invalid value encountered in arccos\n",
      "  angle = np.arccos(cosine_angle)\n",
      "/home/msdos/DESI-QA/reportlib.py:144: RuntimeWarning: invalid value encountered in arccos\n",
      "  angle = np.arccos(cosine_angle)\n",
      "/home/msdos/DESI-QA/reportlib.py:144: RuntimeWarning: invalid value encountered in arccos\n",
      "  angle = np.arccos(cosine_angle)\n",
      "/home/msdos/DESI-QA/reportlib.py:144: RuntimeWarning: invalid value encountered in arccos\n",
      "  angle = np.arccos(cosine_angle)\n",
      "/home/msdos/DESI-QA/reportlib.py:144: RuntimeWarning: invalid value encountered in arccos\n",
      "  angle = np.arccos(cosine_angle)\n",
      "/home/msdos/DESI-QA/reportlib.py:144: RuntimeWarning: invalid value encountered in arccos\n",
      "  angle = np.arccos(cosine_angle)\n",
      "/home/msdos/DESI-QA/reportlib.py:144: RuntimeWarning: invalid value encountered in arccos\n",
      "  angle = np.arccos(cosine_angle)\n",
      "/home/msdos/DESI-QA/reportlib.py:144: RuntimeWarning: invalid value encountered in arccos\n",
      "  angle = np.arccos(cosine_angle)\n",
      "/home/msdos/DESI-QA/reportlib.py:144: RuntimeWarning: invalid value encountered in arccos\n",
      "  angle = np.arccos(cosine_angle)\n",
      "/home/msdos/DESI-QA/reportlib.py:144: RuntimeWarning: invalid value encountered in arccos\n",
      "  angle = np.arccos(cosine_angle)\n",
      "/home/msdos/DESI-QA/reportlib.py:144: RuntimeWarning: invalid value encountered in arccos\n",
      "  angle = np.arccos(cosine_angle)\n",
      "/home/msdos/DESI-QA/reportlib.py:144: RuntimeWarning: invalid value encountered in arccos\n",
      "  angle = np.arccos(cosine_angle)\n",
      "/home/msdos/DESI-QA/reportlib.py:144: RuntimeWarning: invalid value encountered in arccos\n",
      "  angle = np.arccos(cosine_angle)\n",
      "/home/msdos/DESI-QA/reportlib.py:144: RuntimeWarning: invalid value encountered in arccos\n",
      "  angle = np.arccos(cosine_angle)\n",
      "/home/msdos/DESI-QA/reportlib.py:144: RuntimeWarning: invalid value encountered in arccos\n",
      "  angle = np.arccos(cosine_angle)\n",
      "/home/msdos/DESI-QA/reportlib.py:144: RuntimeWarning: invalid value encountered in arccos\n",
      "  angle = np.arccos(cosine_angle)\n",
      "/home/msdos/DESI-QA/reportlib.py:144: RuntimeWarning: invalid value encountered in arccos\n",
      "  angle = np.arccos(cosine_angle)\n",
      "/home/msdos/DESI-QA/reportlib.py:144: RuntimeWarning: invalid value encountered in arccos\n",
      "  angle = np.arccos(cosine_angle)\n",
      "/home/msdos/DESI-QA/reportlib.py:144: RuntimeWarning: invalid value encountered in arccos\n",
      "  angle = np.arccos(cosine_angle)\n",
      "/home/msdos/DESI-QA/reportlib.py:144: RuntimeWarning: invalid value encountered in arccos\n",
      "  angle = np.arccos(cosine_angle)\n",
      "/home/msdos/DESI-QA/reportlib.py:144: RuntimeWarning: invalid value encountered in arccos\n",
      "  angle = np.arccos(cosine_angle)\n",
      "/home/msdos/DESI-QA/reportlib.py:144: RuntimeWarning: invalid value encountered in arccos\n",
      "  angle = np.arccos(cosine_angle)\n"
     ]
    }
   ],
   "source": [
    "testStart = np.datetime64('2023-06-30 10:22:00')\n",
    "testFinish = testStart + np.timedelta64(1,\"h\")\n",
    "\n",
    "# Setting paths\n",
    "datapath = \"../output/database.csv\"\n",
    "fidpath = \"../output/fiddb.csv\"\n",
    "df = rl.importToDf(datapath,fidpath,testStart,testFinish)"
   ]
  },
  {
   "cell_type": "code",
   "execution_count": 7,
   "id": "eae95e6c",
   "metadata": {},
   "outputs": [
    {
     "data": {
      "text/plain": [
       "Index(['label', 'session', 'mtang1', 'mtang2', 'move', 'posid', 'direction',\n",
       "       'speed', 'motor', 'angle', 'xpix', 'ypix', 'x_mm', 'y_mm', 'xytgt',\n",
       "       'peaks', 'fwhm', 'fidx0', 'fidy0', 'fidx1', 'fidy1', 'fidx2', 'fidy2',\n",
       "       'fidx3', 'fidy3', 'pix2mm', 'sigpix2mm', 'ArcSession', 'xc2mm', 'yc2mm',\n",
       "       'R2mm', 'xc2pix', 'yc2pix', 'MountConfiguration', 'Alpha',\n",
       "       'RequestedMove', 'ObservedMove', 'MeanAlpha', 'StdAlpha'],\n",
       "      dtype='object')"
      ]
     },
     "execution_count": 7,
     "metadata": {},
     "output_type": "execute_result"
    }
   ],
   "source": [
    "df.columns"
   ]
  },
  {
   "cell_type": "code",
   "execution_count": null,
   "id": "9e2359f6",
   "metadata": {},
   "outputs": [],
   "source": []
  }
 ],
 "metadata": {
  "kernelspec": {
   "display_name": "Python 3",
   "language": "python",
   "name": "python3"
  },
  "language_info": {
   "codemirror_mode": {
    "name": "ipython",
    "version": 3
   },
   "file_extension": ".py",
   "mimetype": "text/x-python",
   "name": "python",
   "nbconvert_exporter": "python",
   "pygments_lexer": "ipython3",
   "version": "3.6.15"
  }
 },
 "nbformat": 4,
 "nbformat_minor": 5
}
