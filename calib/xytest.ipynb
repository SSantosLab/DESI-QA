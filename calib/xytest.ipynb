{
 "cells": [
  {
   "cell_type": "code",
   "execution_count": 1,
   "id": "4516ada3",
   "metadata": {},
   "outputs": [],
   "source": [
    "# %matplotlib notebook\n",
    "from ipywidgets import interact, Layout\n",
    "import numpy as np\n",
    "import matplotlib.pyplot as plt"
   ]
  },
  {
   "cell_type": "code",
   "execution_count": null,
   "id": "96cf8521",
   "metadata": {},
   "outputs": [],
   "source": [
    "x = np.linspace(0, 2 * np.pi)\n",
    "\n",
    "fig = plt.figure( dpi=80, figsize=(4,4))\n",
    "ax = fig.add_subplot(1, 1, 1)\n",
    "line, = ax.plot(x, np.sin(x))\n",
    "ax.set_ylim(-7,7)\n",
    "ax.set_xlim(-7,7)\n",
    "\n",
    "def update(w = 1.0, b=0.0):\n",
    "    line.set_ydata(np.sin(w * x)+b)\n",
    "    fig.canvas.draw_idle()\n",
    "    \n",
    "interact(update, layout=Layout(width='50%', height='10px'));"
   ]
  },
  {
   "cell_type": "code",
   "execution_count": 30,
   "id": "a08e4824",
   "metadata": {},
   "outputs": [
    {
     "data": {
      "image/png": "[encoded data removed]",
      "text/plain": [
       "<Figure size 432x288 with 1 Axes>"
      ]
     },
     "metadata": {
      "needs_background": "light"
     },
     "output_type": "display_data"
    }
   ],
   "source": [
    "aa = np.deg2rad(-30)\n",
    "bb = np.deg2rad(90)\n",
    "l_th, l_ph = 3,3\n",
    "r = np.linspace(0, l_th)\n",
    "x1 = r* np.cos(aa)\n",
    "x2 = r* np.cos(bb) + l_ph*np.cos(aa)\n",
    "y1 = r* np.sin(aa)\n",
    "y2 = r* np.sin(bb) + l_ph*np.sin(aa)\n",
    "tx = 3\n",
    "ty = 4\n",
    "\n",
    "plt.plot(np.append(x1, x2), np.append(y1,y2))\n",
    "plt.plot(x1, y1, '--')\n",
    "plt.xlim(-6,6)\n",
    "plt.ylim(-6,6)\n",
    "plt.gca().set_aspect('equal')\n",
    "plt.plot(x2, y2, '--')\n",
    "plt.show()"
   ]
  },
  {
   "cell_type": "code",
   "execution_count": 47,
   "id": "d8514b3a",
   "metadata": {},
   "outputs": [
    {
     "data": {
      "text/plain": [
       "False"
      ]
     },
     "execution_count": 47,
     "metadata": {},
     "output_type": "execute_result"
    }
   ],
   "source": [
    "def get_angles(x,y): \n",
    "    \"\"\"\n",
    "    get (x,y) coordinates and returns\n",
    "    angles (alpha, beta)\n",
    "    assuming: l1 = 3, l2 = 3\n",
    "    Placeholder Function\n",
    "    \"\"\"\n",
    "    pass\n",
    "\n",
    "# cases: \n",
    "\n",
    "get_angles(0, 6) == (90, 90)\n",
    "get_angles(0, -6) ==(-90, 90)\n",
    "get_angles(6, 0) == (0,0)\n",
    "get_angles(-6,0) == (-180, -180)\n",
    "# two possible solutions: \n",
    "np.alltrue(np.isclose(get_angles(3,3), (0, 90))) or np.alltrue(np.isclose(get_angles(3,3), (90, 0)))\n",
    "np.alltrue(np.isclose(get_angles(-3,3), (180, 90))) or np.alltrue(np.isclose(get_angles(-3,3), (90, -180)))"
   ]
  },
  {
   "cell_type": "code",
   "execution_count": null,
   "id": "0f6f80ca",
   "metadata": {},
   "outputs": [],
   "source": []
  }
 ],
 "metadata": {
  "kernelspec": {
   "display_name": "Python 3",
   "language": "python",
   "name": "python3"
  },
  "language_info": {
   "codemirror_mode": {
    "name": "ipython",
    "version": 3
   },
   "file_extension": ".py",
   "mimetype": "text/x-python",
   "name": "python",
   "nbconvert_exporter": "python",
   "pygments_lexer": "ipython3",
   "version": "3.6.15"
  }
 },
 "nbformat": 4,
 "nbformat_minor": 5
}
