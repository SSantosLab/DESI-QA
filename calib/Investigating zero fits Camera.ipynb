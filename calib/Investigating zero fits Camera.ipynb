{
 "cells": [
  {
   "cell_type": "code",
   "execution_count": 68,
   "id": "db2f223b",
   "metadata": {},
   "outputs": [],
   "source": [
    "from astropy.io import fits\n",
    "import matplotlib.pyplot as plt\n",
    "import numpy as np \n",
    "\n",
    "ff = fits.getdata(\"/home/msdos/DESI-QA/sbigpics/arcth30_180-20230705-093555/20230705-111859.fits\")"
   ]
  },
  {
   "cell_type": "code",
   "execution_count": 69,
   "id": "ed3bb9f4",
   "metadata": {},
   "outputs": [
    {
     "data": {
      "text/plain": [
       "<matplotlib.image.AxesImage at 0x7f905ae59978>"
      ]
     },
     "execution_count": 69,
     "metadata": {},
     "output_type": "execute_result"
    },
    {
     "data": {
      "image/png": "[encoded data removed]",
      "text/plain": [
       "<Figure size 432x288 with 1 Axes>"
      ]
     },
     "metadata": {
      "needs_background": "light"
     },
     "output_type": "display_data"
    }
   ],
   "source": [
    "plt.imshow(ff)"
   ]
  },
  {
   "cell_type": "code",
   "execution_count": 66,
   "id": "71d82aa6",
   "metadata": {},
   "outputs": [
    {
     "name": "stdout",
     "output_type": "stream",
     "text": [
      "[50422 50507 53299 53441 55266 58985 59063 60701 61870 65535]\n",
      "2077\n"
     ]
    }
   ],
   "source": [
    "if (np.unique(ff)==[0]).all():\n",
    "    print('blep')\n",
    "else:\n",
    "    print(np.unique(ff)[-10:])\n",
    "    print(len(np.unique(ff)))"
   ]
  },
  {
   "cell_type": "code",
   "execution_count": 61,
   "id": "468ad808",
   "metadata": {
    "scrolled": true
   },
   "outputs": [
    {
     "name": "stdout",
     "output_type": "stream",
     "text": [
      "[24321 24450 29199 30143 30510 35300 35480 43207 43750 65535]\n",
      "1761\n"
     ]
    }
   ],
   "source": [
    "if (np.unique(ff)==[0]).all():\n",
    "    print('blep')\n",
    "else:\n",
    "    print(np.unique(ff)[-10:])\n",
    "    print(len(np.unique(ff)))"
   ]
  },
  {
   "cell_type": "code",
   "execution_count": 74,
   "id": "37338a79",
   "metadata": {},
   "outputs": [
    {
     "data": {
      "text/plain": [
       "True"
      ]
     },
     "execution_count": 74,
     "metadata": {},
     "output_type": "execute_result"
    }
   ],
   "source": [
    "(np.unique(ff)[-10:]<45000).any()"
   ]
  },
  {
   "cell_type": "code",
   "execution_count": 6,
   "id": "b8b06263",
   "metadata": {},
   "outputs": [],
   "source": [
    "import pandas as pd\n"
   ]
  },
  {
   "cell_type": "code",
   "execution_count": 7,
   "id": "f4e83765",
   "metadata": {},
   "outputs": [],
   "source": [
    "df = pd.read_csv(\"../output/database.csv\")"
   ]
  },
  {
   "cell_type": "code",
   "execution_count": 8,
   "id": "6c88b99d",
   "metadata": {},
   "outputs": [],
   "source": [
    "def get_timecol(db):\n",
    "    new = db.label.str.split(\"-\", n=1, expand=True)\n",
    "    new.columns = ['label', 'session']\n",
    "    db['label'] = new['label']\n",
    "    db.insert(1, \"session\", new['session'])\n",
    "    db['session'] = pd.to_datetime(db['session'], format= '%Y%m%d-%H%M%S' )#.dt.time\n",
    "    return \n",
    "\n",
    "def query_time(db, date=None, datemin=None, datemax=None):\n",
    "    \"\"\"\n",
    "    First run get_timecol(database)\n",
    "    datemin, datemax (str): e.g \"2023-02-03 13:36:00\"\n",
    "    \"\"\"\n",
    "   \n",
    "    if date is not None:\n",
    "        return db['session'] == np.datetime64(date)\n",
    " \n",
    "    dmin = [np.datetime64(datemin) if not None else None][0]\n",
    "    dmax = [np.datetime64(datemax) if not None else None][0]\n",
    "     \n",
    "    cond1 = db[\"session\"] >= dmin\n",
    "    cond2 = db[\"session\"] <= dmax\n",
    "    if (datemin is not None) & (datemax is not None):\n",
    "        return cond1 & cond2\n",
    "    elif datemin is None:\n",
    "        return cond2\n",
    "    elif datemax is None: \n",
    "        return cond1 \n",
    "    else:\n",
    "        print(\"check datemin datemax fields\")"
   ]
  },
  {
   "cell_type": "code",
   "execution_count": 10,
   "id": "4ed5ba4b",
   "metadata": {},
   "outputs": [],
   "source": [
    "get_timecol(df)"
   ]
  },
  {
   "cell_type": "code",
   "execution_count": 20,
   "id": "55be0310",
   "metadata": {},
   "outputs": [],
   "source": [
    "\n",
    "mvtime = pd.to_datetime(df['move'], format= '%Y%m%d-%H%M%S')"
   ]
  },
  {
   "cell_type": "code",
   "execution_count": 25,
   "id": "f799f751",
   "metadata": {},
   "outputs": [
    {
     "data": {
      "text/html": [
       "<div>\n",
       "<style scoped>\n",
       "    .dataframe tbody tr th:only-of-type {\n",
       "        vertical-align: middle;\n",
       "    }\n",
       "\n",
       "    .dataframe tbody tr th {\n",
       "        vertical-align: top;\n",
       "    }\n",
       "\n",
       "    .dataframe thead th {\n",
       "        text-align: right;\n",
       "    }\n",
       "</style>\n",
       "<table border=\"1\" class=\"dataframe\">\n",
       "  <thead>\n",
       "    <tr style=\"text-align: right;\">\n",
       "      <th></th>\n",
       "      <th>label</th>\n",
       "      <th>session</th>\n",
       "      <th>mtang1</th>\n",
       "      <th>mtang2</th>\n",
       "      <th>move</th>\n",
       "      <th>posid</th>\n",
       "      <th>direction</th>\n",
       "      <th>speed</th>\n",
       "      <th>motor</th>\n",
       "      <th>angle</th>\n",
       "      <th>xpix</th>\n",
       "      <th>ypix</th>\n",
       "      <th>xytgt</th>\n",
       "      <th>peaks</th>\n",
       "      <th>fwhm</th>\n",
       "    </tr>\n",
       "  </thead>\n",
       "  <tbody>\n",
       "    <tr>\n",
       "      <th>2926</th>\n",
       "      <td>arc15_120</td>\n",
       "      <td>2023-06-26 10:03:50</td>\n",
       "      <td>90.0</td>\n",
       "      <td>90.0</td>\n",
       "      <td>20230626-100535</td>\n",
       "      <td>4852</td>\n",
       "      <td>cw</td>\n",
       "      <td>cruise</td>\n",
       "      <td>phi</td>\n",
       "      <td>0.0</td>\n",
       "      <td>1984.463243</td>\n",
       "      <td>918.044210</td>\n",
       "      <td>0</td>\n",
       "      <td>79214.0737</td>\n",
       "      <td>3.4727</td>\n",
       "    </tr>\n",
       "    <tr>\n",
       "      <th>2927</th>\n",
       "      <td>arc15_120</td>\n",
       "      <td>2023-06-26 10:03:50</td>\n",
       "      <td>90.0</td>\n",
       "      <td>90.0</td>\n",
       "      <td>20230626-100545</td>\n",
       "      <td>4852</td>\n",
       "      <td>cw</td>\n",
       "      <td>cruise</td>\n",
       "      <td>phi</td>\n",
       "      <td>15.0</td>\n",
       "      <td>1975.251739</td>\n",
       "      <td>942.817946</td>\n",
       "      <td>0</td>\n",
       "      <td>79764.3985</td>\n",
       "      <td>3.4642</td>\n",
       "    </tr>\n",
       "    <tr>\n",
       "      <th>2928</th>\n",
       "      <td>arc15_120</td>\n",
       "      <td>2023-06-26 10:03:50</td>\n",
       "      <td>90.0</td>\n",
       "      <td>90.0</td>\n",
       "      <td>20230626-100555</td>\n",
       "      <td>4852</td>\n",
       "      <td>cw</td>\n",
       "      <td>cruise</td>\n",
       "      <td>phi</td>\n",
       "      <td>15.0</td>\n",
       "      <td>1957.391733</td>\n",
       "      <td>965.032105</td>\n",
       "      <td>0</td>\n",
       "      <td>79623.0102</td>\n",
       "      <td>3.5118</td>\n",
       "    </tr>\n",
       "    <tr>\n",
       "      <th>2929</th>\n",
       "      <td>arc15_120</td>\n",
       "      <td>2023-06-26 10:03:50</td>\n",
       "      <td>90.0</td>\n",
       "      <td>90.0</td>\n",
       "      <td>20230626-100605</td>\n",
       "      <td>4852</td>\n",
       "      <td>cw</td>\n",
       "      <td>cruise</td>\n",
       "      <td>phi</td>\n",
       "      <td>15.0</td>\n",
       "      <td>1933.185034</td>\n",
       "      <td>980.254905</td>\n",
       "      <td>0</td>\n",
       "      <td>79896.2025</td>\n",
       "      <td>3.5197</td>\n",
       "    </tr>\n",
       "    <tr>\n",
       "      <th>2930</th>\n",
       "      <td>arc15_120</td>\n",
       "      <td>2023-06-26 10:03:50</td>\n",
       "      <td>90.0</td>\n",
       "      <td>90.0</td>\n",
       "      <td>20230626-100615</td>\n",
       "      <td>4852</td>\n",
       "      <td>cw</td>\n",
       "      <td>cruise</td>\n",
       "      <td>phi</td>\n",
       "      <td>15.0</td>\n",
       "      <td>1905.285786</td>\n",
       "      <td>986.856346</td>\n",
       "      <td>0</td>\n",
       "      <td>80172.4439</td>\n",
       "      <td>3.5814</td>\n",
       "    </tr>\n",
       "    <tr>\n",
       "      <th>...</th>\n",
       "      <td>...</td>\n",
       "      <td>...</td>\n",
       "      <td>...</td>\n",
       "      <td>...</td>\n",
       "      <td>...</td>\n",
       "      <td>...</td>\n",
       "      <td>...</td>\n",
       "      <td>...</td>\n",
       "      <td>...</td>\n",
       "      <td>...</td>\n",
       "      <td>...</td>\n",
       "      <td>...</td>\n",
       "      <td>...</td>\n",
       "      <td>...</td>\n",
       "      <td>...</td>\n",
       "    </tr>\n",
       "    <tr>\n",
       "      <th>3158</th>\n",
       "      <td>arc15_120</td>\n",
       "      <td>2023-06-26 10:03:50</td>\n",
       "      <td>0.0</td>\n",
       "      <td>0.0</td>\n",
       "      <td>20230626-104242</td>\n",
       "      <td>4852</td>\n",
       "      <td>ccw</td>\n",
       "      <td>cruise</td>\n",
       "      <td>phi</td>\n",
       "      <td>15.0</td>\n",
       "      <td>1871.445338</td>\n",
       "      <td>998.135554</td>\n",
       "      <td>0</td>\n",
       "      <td>79663.5528</td>\n",
       "      <td>3.7359</td>\n",
       "    </tr>\n",
       "    <tr>\n",
       "      <th>3159</th>\n",
       "      <td>arc15_120</td>\n",
       "      <td>2023-06-26 10:03:50</td>\n",
       "      <td>0.0</td>\n",
       "      <td>0.0</td>\n",
       "      <td>20230626-104251</td>\n",
       "      <td>4852</td>\n",
       "      <td>ccw</td>\n",
       "      <td>cruise</td>\n",
       "      <td>phi</td>\n",
       "      <td>15.0</td>\n",
       "      <td>1899.993791</td>\n",
       "      <td>1001.727148</td>\n",
       "      <td>0</td>\n",
       "      <td>79070.9981</td>\n",
       "      <td>3.6233</td>\n",
       "    </tr>\n",
       "    <tr>\n",
       "      <th>3160</th>\n",
       "      <td>arc15_120</td>\n",
       "      <td>2023-06-26 10:03:50</td>\n",
       "      <td>0.0</td>\n",
       "      <td>0.0</td>\n",
       "      <td>20230626-104301</td>\n",
       "      <td>4852</td>\n",
       "      <td>ccw</td>\n",
       "      <td>cruise</td>\n",
       "      <td>phi</td>\n",
       "      <td>15.0</td>\n",
       "      <td>1928.080572</td>\n",
       "      <td>995.848095</td>\n",
       "      <td>0</td>\n",
       "      <td>79434.3685</td>\n",
       "      <td>3.5845</td>\n",
       "    </tr>\n",
       "    <tr>\n",
       "      <th>3161</th>\n",
       "      <td>arc15_120</td>\n",
       "      <td>2023-06-26 10:03:50</td>\n",
       "      <td>0.0</td>\n",
       "      <td>0.0</td>\n",
       "      <td>20230626-104310</td>\n",
       "      <td>4852</td>\n",
       "      <td>ccw</td>\n",
       "      <td>cruise</td>\n",
       "      <td>phi</td>\n",
       "      <td>15.0</td>\n",
       "      <td>1952.633697</td>\n",
       "      <td>981.219507</td>\n",
       "      <td>0</td>\n",
       "      <td>78542.2205</td>\n",
       "      <td>3.5731</td>\n",
       "    </tr>\n",
       "    <tr>\n",
       "      <th>3162</th>\n",
       "      <td>arc15_120</td>\n",
       "      <td>2023-06-26 10:03:50</td>\n",
       "      <td>0.0</td>\n",
       "      <td>0.0</td>\n",
       "      <td>20230626-104318</td>\n",
       "      <td>4852</td>\n",
       "      <td>ccw</td>\n",
       "      <td>cruise</td>\n",
       "      <td>phi</td>\n",
       "      <td>15.0</td>\n",
       "      <td>1971.053922</td>\n",
       "      <td>959.400336</td>\n",
       "      <td>0</td>\n",
       "      <td>78468.3133</td>\n",
       "      <td>3.5209</td>\n",
       "    </tr>\n",
       "  </tbody>\n",
       "</table>\n",
       "<p>237 rows × 15 columns</p>\n",
       "</div>"
      ],
      "text/plain": [
       "          label             session  mtang1  mtang2             move  posid  \\\n",
       "2926  arc15_120 2023-06-26 10:03:50    90.0    90.0  20230626-100535   4852   \n",
       "2927  arc15_120 2023-06-26 10:03:50    90.0    90.0  20230626-100545   4852   \n",
       "2928  arc15_120 2023-06-26 10:03:50    90.0    90.0  20230626-100555   4852   \n",
       "2929  arc15_120 2023-06-26 10:03:50    90.0    90.0  20230626-100605   4852   \n",
       "2930  arc15_120 2023-06-26 10:03:50    90.0    90.0  20230626-100615   4852   \n",
       "...         ...                 ...     ...     ...              ...    ...   \n",
       "3158  arc15_120 2023-06-26 10:03:50     0.0     0.0  20230626-104242   4852   \n",
       "3159  arc15_120 2023-06-26 10:03:50     0.0     0.0  20230626-104251   4852   \n",
       "3160  arc15_120 2023-06-26 10:03:50     0.0     0.0  20230626-104301   4852   \n",
       "3161  arc15_120 2023-06-26 10:03:50     0.0     0.0  20230626-104310   4852   \n",
       "3162  arc15_120 2023-06-26 10:03:50     0.0     0.0  20230626-104318   4852   \n",
       "\n",
       "     direction   speed motor  angle         xpix         ypix  xytgt  \\\n",
       "2926        cw  cruise   phi    0.0  1984.463243   918.044210      0   \n",
       "2927        cw  cruise   phi   15.0  1975.251739   942.817946      0   \n",
       "2928        cw  cruise   phi   15.0  1957.391733   965.032105      0   \n",
       "2929        cw  cruise   phi   15.0  1933.185034   980.254905      0   \n",
       "2930        cw  cruise   phi   15.0  1905.285786   986.856346      0   \n",
       "...        ...     ...   ...    ...          ...          ...    ...   \n",
       "3158       ccw  cruise   phi   15.0  1871.445338   998.135554      0   \n",
       "3159       ccw  cruise   phi   15.0  1899.993791  1001.727148      0   \n",
       "3160       ccw  cruise   phi   15.0  1928.080572   995.848095      0   \n",
       "3161       ccw  cruise   phi   15.0  1952.633697   981.219507      0   \n",
       "3162       ccw  cruise   phi   15.0  1971.053922   959.400336      0   \n",
       "\n",
       "           peaks    fwhm  \n",
       "2926  79214.0737  3.4727  \n",
       "2927  79764.3985  3.4642  \n",
       "2928  79623.0102  3.5118  \n",
       "2929  79896.2025  3.5197  \n",
       "2930  80172.4439  3.5814  \n",
       "...          ...     ...  \n",
       "3158  79663.5528  3.7359  \n",
       "3159  79070.9981  3.6233  \n",
       "3160  79434.3685  3.5845  \n",
       "3161  78542.2205  3.5731  \n",
       "3162  78468.3133  3.5209  \n",
       "\n",
       "[237 rows x 15 columns]"
      ]
     },
     "execution_count": 25,
     "metadata": {},
     "output_type": "execute_result"
    }
   ],
   "source": [
    "msk1 = mvtime < np.datetime64(\"2023-06-26 10:43:28\")\n",
    "msk2 = query_time(df, date=\"2023-06-26 10:03:50\")\n",
    "df[msk2]"
   ]
  },
  {
   "cell_type": "raw",
   "id": "3303abc3",
   "metadata": {},
   "source": [
    "session _started at :\"10:03:50\" and broke \"10:43:28\" at horizon (0,0) after a position down \n",
    "237 rows ( 0 degrees + arc moves)  "
   ]
  },
  {
   "cell_type": "code",
   "execution_count": null,
   "id": "f973e73c",
   "metadata": {},
   "outputs": [],
   "source": []
  }
 ],
 "metadata": {
  "kernelspec": {
   "display_name": "Python 3",
   "language": "python",
   "name": "python3"
  },
  "language_info": {
   "codemirror_mode": {
    "name": "ipython",
    "version": 3
   },
   "file_extension": ".py",
   "mimetype": "text/x-python",
   "name": "python",
   "nbconvert_exporter": "python",
   "pygments_lexer": "ipython3",
   "version": "3.6.15"
  }
 },
 "nbformat": 4,
 "nbformat_minor": 5
}
