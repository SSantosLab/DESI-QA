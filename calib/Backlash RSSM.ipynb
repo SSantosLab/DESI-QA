{
 "cells": [
  {
   "cell_type": "code",
   "execution_count": 2,
   "id": "8522b076",
   "metadata": {},
   "outputs": [],
   "source": [
    "import pandas as pd\n",
    "import numpy as np\n",
    "import matplotlib.pyplot as plt\n",
    "plt.rcParams.update({'figure.dpi':180})\n",
    "\n",
    "import sys\n",
    "sys.path.append(\"/home/msdos/DESI-QA/desiarc-main/arc\")\n",
    "sys.path.append(\"/home/msdos/DESI-QA/\")\n",
    "sys.path.append(\"/home/msdos/DESI-QA/output/figures/\")\n",
    "import find_center as fc\n",
    "from spotfinder import spotfinder\n",
    "from xylib import calc_movetables as cm\n",
    "import reportlib as rl\n",
    "\n",
    "figPath = '/home/msdos/DESI-QA/output/figures/Backlash test/'"
   ]
  },
  {
   "cell_type": "code",
   "execution_count": 3,
   "id": "041b0892",
   "metadata": {
    "scrolled": true
   },
   "outputs": [
    {
     "name": "stdout",
     "output_type": "stream",
     "text": [
      "Adding session labels for testType=RS\n",
      "[0 1 1 1 1 1 1 1 1 1 1 1 1 1 1 1 1 1 1 1 1]\n"
     ]
    }
   ],
   "source": [
    "thetaTime = '2023-07-06 16:09:22'\n",
    "phiTime = '2023-07-07 11:20:35'\n",
    "testStart = np.datetime64(phiTime)\n",
    "testFinish = testStart + np.timedelta64(1,\"h\")\n",
    "\n",
    "# Setting paths\n",
    "datapath = \"../output/database.csv\"\n",
    "fidpath = \"../output/fiddb.csv\"\n",
    "df = rl.importToDf(datapath,fidpath,testStart,testFinish,testType='RS',motor='phi')\n",
    "ramp=1.995\n",
    "firstBacklash = 10+ramp-rl.angle_between(tuple(df[['xc2mm','yc2mm']].loc[0]),tuple(df.loc[0][['x_mm','y_mm']]),tuple(df.loc[1][['x_mm','y_mm']]))"
   ]
  },
  {
   "cell_type": "code",
   "execution_count": 4,
   "id": "6efa251e",
   "metadata": {},
   "outputs": [
    {
     "name": "stderr",
     "output_type": "stream",
     "text": [
      "/data/common/software/products/python-3.6.15.Linux64/lib/python3.6/site-packages/pandas/core/indexing.py:670: SettingWithCopyWarning: \n",
      "A value is trying to be set on a copy of a slice from a DataFrame\n",
      "\n",
      "See the caveats in the documentation: https://pandas.pydata.org/pandas-docs/stable/user_guide/indexing.html#returning-a-view-versus-a-copy\n",
      "  iloc._setitem_with_indexer(indexer, value)\n"
     ]
    }
   ],
   "source": [
    "df['Backlash'].loc[1] = firstBacklash"
   ]
  },
  {
   "cell_type": "code",
   "execution_count": 5,
   "id": "921d884b",
   "metadata": {
    "scrolled": false
   },
   "outputs": [
    {
     "data": {
      "text/html": [
       "<div>\n",
       "<style scoped>\n",
       "    .dataframe tbody tr th:only-of-type {\n",
       "        vertical-align: middle;\n",
       "    }\n",
       "\n",
       "    .dataframe tbody tr th {\n",
       "        vertical-align: top;\n",
       "    }\n",
       "\n",
       "    .dataframe thead th {\n",
       "        text-align: right;\n",
       "    }\n",
       "</style>\n",
       "<table border=\"1\" class=\"dataframe\">\n",
       "  <thead>\n",
       "    <tr style=\"text-align: right;\">\n",
       "      <th></th>\n",
       "      <th>Backlash</th>\n",
       "      <th>angle</th>\n",
       "    </tr>\n",
       "  </thead>\n",
       "  <tbody>\n",
       "    <tr>\n",
       "      <th>0</th>\n",
       "      <td>NaN</td>\n",
       "      <td>0.0</td>\n",
       "    </tr>\n",
       "    <tr>\n",
       "      <th>1</th>\n",
       "      <td>-1.920047</td>\n",
       "      <td>10.0</td>\n",
       "    </tr>\n",
       "    <tr>\n",
       "      <th>2</th>\n",
       "      <td>-1.452246</td>\n",
       "      <td>10.0</td>\n",
       "    </tr>\n",
       "    <tr>\n",
       "      <th>3</th>\n",
       "      <td>-1.482709</td>\n",
       "      <td>10.0</td>\n",
       "    </tr>\n",
       "    <tr>\n",
       "      <th>4</th>\n",
       "      <td>-1.466624</td>\n",
       "      <td>10.0</td>\n",
       "    </tr>\n",
       "    <tr>\n",
       "      <th>5</th>\n",
       "      <td>-1.706508</td>\n",
       "      <td>45.0</td>\n",
       "    </tr>\n",
       "    <tr>\n",
       "      <th>6</th>\n",
       "      <td>-1.611482</td>\n",
       "      <td>45.0</td>\n",
       "    </tr>\n",
       "    <tr>\n",
       "      <th>7</th>\n",
       "      <td>-1.629237</td>\n",
       "      <td>45.0</td>\n",
       "    </tr>\n",
       "    <tr>\n",
       "      <th>8</th>\n",
       "      <td>-1.608351</td>\n",
       "      <td>45.0</td>\n",
       "    </tr>\n",
       "    <tr>\n",
       "      <th>9</th>\n",
       "      <td>-1.577957</td>\n",
       "      <td>90.0</td>\n",
       "    </tr>\n",
       "    <tr>\n",
       "      <th>10</th>\n",
       "      <td>-1.566340</td>\n",
       "      <td>90.0</td>\n",
       "    </tr>\n",
       "    <tr>\n",
       "      <th>11</th>\n",
       "      <td>-1.592599</td>\n",
       "      <td>90.0</td>\n",
       "    </tr>\n",
       "    <tr>\n",
       "      <th>12</th>\n",
       "      <td>-1.576645</td>\n",
       "      <td>90.0</td>\n",
       "    </tr>\n",
       "    <tr>\n",
       "      <th>13</th>\n",
       "      <td>-1.556710</td>\n",
       "      <td>135.0</td>\n",
       "    </tr>\n",
       "    <tr>\n",
       "      <th>14</th>\n",
       "      <td>-1.533217</td>\n",
       "      <td>135.0</td>\n",
       "    </tr>\n",
       "    <tr>\n",
       "      <th>15</th>\n",
       "      <td>-1.617260</td>\n",
       "      <td>135.0</td>\n",
       "    </tr>\n",
       "    <tr>\n",
       "      <th>16</th>\n",
       "      <td>-1.599758</td>\n",
       "      <td>135.0</td>\n",
       "    </tr>\n",
       "    <tr>\n",
       "      <th>17</th>\n",
       "      <td>-1.679447</td>\n",
       "      <td>160.0</td>\n",
       "    </tr>\n",
       "    <tr>\n",
       "      <th>18</th>\n",
       "      <td>-1.636767</td>\n",
       "      <td>160.0</td>\n",
       "    </tr>\n",
       "    <tr>\n",
       "      <th>19</th>\n",
       "      <td>-1.772279</td>\n",
       "      <td>160.0</td>\n",
       "    </tr>\n",
       "    <tr>\n",
       "      <th>20</th>\n",
       "      <td>-1.678881</td>\n",
       "      <td>160.0</td>\n",
       "    </tr>\n",
       "  </tbody>\n",
       "</table>\n",
       "</div>"
      ],
      "text/plain": [
       "    Backlash  angle\n",
       "0        NaN    0.0\n",
       "1  -1.920047   10.0\n",
       "2  -1.452246   10.0\n",
       "3  -1.482709   10.0\n",
       "4  -1.466624   10.0\n",
       "5  -1.706508   45.0\n",
       "6  -1.611482   45.0\n",
       "7  -1.629237   45.0\n",
       "8  -1.608351   45.0\n",
       "9  -1.577957   90.0\n",
       "10 -1.566340   90.0\n",
       "11 -1.592599   90.0\n",
       "12 -1.576645   90.0\n",
       "13 -1.556710  135.0\n",
       "14 -1.533217  135.0\n",
       "15 -1.617260  135.0\n",
       "16 -1.599758  135.0\n",
       "17 -1.679447  160.0\n",
       "18 -1.636767  160.0\n",
       "19 -1.772279  160.0\n",
       "20 -1.678881  160.0"
      ]
     },
     "execution_count": 5,
     "metadata": {},
     "output_type": "execute_result"
    }
   ],
   "source": [
    "df[['Backlash','angle']]"
   ]
  },
  {
   "cell_type": "code",
   "execution_count": 6,
   "id": "078769e0",
   "metadata": {},
   "outputs": [
    {
     "data": {
      "text/plain": [
       "-1.6040542986972213"
      ]
     },
     "execution_count": 6,
     "metadata": {},
     "output_type": "execute_result"
    }
   ],
   "source": [
    "np.nanmedian(df['Backlash'])"
   ]
  },
  {
   "cell_type": "markdown",
   "id": "3d5aac8a",
   "metadata": {},
   "source": [
    "# For theta"
   ]
  },
  {
   "cell_type": "code",
   "execution_count": 7,
   "id": "8a45c85a",
   "metadata": {},
   "outputs": [
    {
     "name": "stdout",
     "output_type": "stream",
     "text": [
      "Adding session labels for testType=RS\n"
     ]
    }
   ],
   "source": [
    "testStart = np.datetime64(thetaTime)\n",
    "testFinish = testStart + np.timedelta64(1,\"h\")\n",
    "\n",
    "df = rl.importToDfBacklash(datapath,fidpath,testStart,testFinish,testType='RS',motor='theta')"
   ]
  },
  {
   "cell_type": "code",
   "execution_count": 25,
   "id": "d6f02d82",
   "metadata": {},
   "outputs": [],
   "source": [
    "smalldf = df[['x_mm',\"y_mm\",\"xc2mm\",\"yc2mm\",\"angle\"]]\n",
    "ramp = 1.995"
   ]
  },
  {
   "cell_type": "code",
   "execution_count": 24,
   "id": "9bab3a9a",
   "metadata": {},
   "outputs": [
    {
     "data": {
      "text/html": [
       "<div>\n",
       "<style scoped>\n",
       "    .dataframe tbody tr th:only-of-type {\n",
       "        vertical-align: middle;\n",
       "    }\n",
       "\n",
       "    .dataframe tbody tr th {\n",
       "        vertical-align: top;\n",
       "    }\n",
       "\n",
       "    .dataframe thead th {\n",
       "        text-align: right;\n",
       "    }\n",
       "</style>\n",
       "<table border=\"1\" class=\"dataframe\">\n",
       "  <thead>\n",
       "    <tr style=\"text-align: right;\">\n",
       "      <th></th>\n",
       "      <th>x_mm</th>\n",
       "      <th>y_mm</th>\n",
       "      <th>xc2mm</th>\n",
       "      <th>yc2mm</th>\n",
       "      <th>angle</th>\n",
       "    </tr>\n",
       "  </thead>\n",
       "  <tbody>\n",
       "    <tr>\n",
       "      <th>0</th>\n",
       "      <td>63.876037</td>\n",
       "      <td>32.232067</td>\n",
       "      <td>69.848263</td>\n",
       "      <td>31.512703</td>\n",
       "      <td>0.0</td>\n",
       "    </tr>\n",
       "    <tr>\n",
       "      <th>1</th>\n",
       "      <td>63.880115</td>\n",
       "      <td>30.764506</td>\n",
       "      <td>69.848263</td>\n",
       "      <td>31.512703</td>\n",
       "      <td>10.0</td>\n",
       "    </tr>\n",
       "    <tr>\n",
       "      <th>2</th>\n",
       "      <td>63.861633</td>\n",
       "      <td>32.046881</td>\n",
       "      <td>69.848263</td>\n",
       "      <td>31.512703</td>\n",
       "      <td>10.0</td>\n",
       "    </tr>\n",
       "    <tr>\n",
       "      <th>3</th>\n",
       "      <td>63.876836</td>\n",
       "      <td>30.762762</td>\n",
       "      <td>69.848263</td>\n",
       "      <td>31.512703</td>\n",
       "      <td>10.0</td>\n",
       "    </tr>\n",
       "    <tr>\n",
       "      <th>4</th>\n",
       "      <td>63.859765</td>\n",
       "      <td>32.045919</td>\n",
       "      <td>69.848263</td>\n",
       "      <td>31.512703</td>\n",
       "      <td>10.0</td>\n",
       "    </tr>\n",
       "    <tr>\n",
       "      <th>5</th>\n",
       "      <td>69.536489</td>\n",
       "      <td>25.504871</td>\n",
       "      <td>69.848263</td>\n",
       "      <td>31.512703</td>\n",
       "      <td>90.0</td>\n",
       "    </tr>\n",
       "    <tr>\n",
       "      <th>6</th>\n",
       "      <td>63.852805</td>\n",
       "      <td>32.043149</td>\n",
       "      <td>69.848263</td>\n",
       "      <td>31.512703</td>\n",
       "      <td>90.0</td>\n",
       "    </tr>\n",
       "    <tr>\n",
       "      <th>7</th>\n",
       "      <td>69.527477</td>\n",
       "      <td>25.502456</td>\n",
       "      <td>69.848263</td>\n",
       "      <td>31.512703</td>\n",
       "      <td>90.0</td>\n",
       "    </tr>\n",
       "    <tr>\n",
       "      <th>8</th>\n",
       "      <td>63.847827</td>\n",
       "      <td>32.041373</td>\n",
       "      <td>69.848263</td>\n",
       "      <td>31.512703</td>\n",
       "      <td>90.0</td>\n",
       "    </tr>\n",
       "    <tr>\n",
       "      <th>9</th>\n",
       "      <td>75.856144</td>\n",
       "      <td>31.196726</td>\n",
       "      <td>69.848263</td>\n",
       "      <td>31.512703</td>\n",
       "      <td>180.0</td>\n",
       "    </tr>\n",
       "    <tr>\n",
       "      <th>10</th>\n",
       "      <td>63.856996</td>\n",
       "      <td>32.045857</td>\n",
       "      <td>69.848263</td>\n",
       "      <td>31.512703</td>\n",
       "      <td>180.0</td>\n",
       "    </tr>\n",
       "    <tr>\n",
       "      <th>11</th>\n",
       "      <td>75.849662</td>\n",
       "      <td>31.193624</td>\n",
       "      <td>69.848263</td>\n",
       "      <td>31.512703</td>\n",
       "      <td>180.0</td>\n",
       "    </tr>\n",
       "    <tr>\n",
       "      <th>12</th>\n",
       "      <td>63.858514</td>\n",
       "      <td>32.046843</td>\n",
       "      <td>69.848263</td>\n",
       "      <td>31.512703</td>\n",
       "      <td>180.0</td>\n",
       "    </tr>\n",
       "    <tr>\n",
       "      <th>13</th>\n",
       "      <td>70.139281</td>\n",
       "      <td>37.524424</td>\n",
       "      <td>69.848263</td>\n",
       "      <td>31.512703</td>\n",
       "      <td>270.0</td>\n",
       "    </tr>\n",
       "    <tr>\n",
       "      <th>14</th>\n",
       "      <td>63.853423</td>\n",
       "      <td>32.046305</td>\n",
       "      <td>69.848263</td>\n",
       "      <td>31.512703</td>\n",
       "      <td>270.0</td>\n",
       "    </tr>\n",
       "    <tr>\n",
       "      <th>15</th>\n",
       "      <td>70.139463</td>\n",
       "      <td>37.524188</td>\n",
       "      <td>69.848263</td>\n",
       "      <td>31.512703</td>\n",
       "      <td>270.0</td>\n",
       "    </tr>\n",
       "    <tr>\n",
       "      <th>16</th>\n",
       "      <td>63.858471</td>\n",
       "      <td>32.048718</td>\n",
       "      <td>69.848263</td>\n",
       "      <td>31.512703</td>\n",
       "      <td>270.0</td>\n",
       "    </tr>\n",
       "    <tr>\n",
       "      <th>17</th>\n",
       "      <td>64.306110</td>\n",
       "      <td>33.858164</td>\n",
       "      <td>69.848263</td>\n",
       "      <td>31.512703</td>\n",
       "      <td>340.0</td>\n",
       "    </tr>\n",
       "    <tr>\n",
       "      <th>18</th>\n",
       "      <td>63.853717</td>\n",
       "      <td>32.047188</td>\n",
       "      <td>69.848263</td>\n",
       "      <td>31.512703</td>\n",
       "      <td>340.0</td>\n",
       "    </tr>\n",
       "    <tr>\n",
       "      <th>19</th>\n",
       "      <td>64.303087</td>\n",
       "      <td>33.856648</td>\n",
       "      <td>69.848263</td>\n",
       "      <td>31.512703</td>\n",
       "      <td>340.0</td>\n",
       "    </tr>\n",
       "    <tr>\n",
       "      <th>20</th>\n",
       "      <td>63.856014</td>\n",
       "      <td>32.048675</td>\n",
       "      <td>69.848263</td>\n",
       "      <td>31.512703</td>\n",
       "      <td>340.0</td>\n",
       "    </tr>\n",
       "  </tbody>\n",
       "</table>\n",
       "</div>"
      ],
      "text/plain": [
       "         x_mm       y_mm      xc2mm      yc2mm  angle\n",
       "0   63.876037  32.232067  69.848263  31.512703    0.0\n",
       "1   63.880115  30.764506  69.848263  31.512703   10.0\n",
       "2   63.861633  32.046881  69.848263  31.512703   10.0\n",
       "3   63.876836  30.762762  69.848263  31.512703   10.0\n",
       "4   63.859765  32.045919  69.848263  31.512703   10.0\n",
       "5   69.536489  25.504871  69.848263  31.512703   90.0\n",
       "6   63.852805  32.043149  69.848263  31.512703   90.0\n",
       "7   69.527477  25.502456  69.848263  31.512703   90.0\n",
       "8   63.847827  32.041373  69.848263  31.512703   90.0\n",
       "9   75.856144  31.196726  69.848263  31.512703  180.0\n",
       "10  63.856996  32.045857  69.848263  31.512703  180.0\n",
       "11  75.849662  31.193624  69.848263  31.512703  180.0\n",
       "12  63.858514  32.046843  69.848263  31.512703  180.0\n",
       "13  70.139281  37.524424  69.848263  31.512703  270.0\n",
       "14  63.853423  32.046305  69.848263  31.512703  270.0\n",
       "15  70.139463  37.524188  69.848263  31.512703  270.0\n",
       "16  63.858471  32.048718  69.848263  31.512703  270.0\n",
       "17  64.306110  33.858164  69.848263  31.512703  340.0\n",
       "18  63.853717  32.047188  69.848263  31.512703  340.0\n",
       "19  64.303087  33.856648  69.848263  31.512703  340.0\n",
       "20  63.856014  32.048675  69.848263  31.512703  340.0"
      ]
     },
     "execution_count": 24,
     "metadata": {},
     "output_type": "execute_result"
    }
   ],
   "source": [
    "smalldf"
   ]
  },
  {
   "cell_type": "code",
   "execution_count": 52,
   "id": "43ff73c4",
   "metadata": {},
   "outputs": [],
   "source": [
    "backlash_arr = np.array([],dtype=float)\n",
    "center = tuple(smalldf.loc[0][['xc2mm','yc2mm']])\n",
    "for k in range(1,len(df)-1):\n",
    "    current = tuple(smalldf.loc[k+1][['x_mm','y_mm']])\n",
    "    past = tuple(smalldf.loc[k][['x_mm','y_mm']])\n",
    "    angle = rl.angle_between(center,current,past)\n",
    "    requested = smalldf.loc[k+1]['angle']+2*ramp\n",
    "    if requested>180:\n",
    "        angle = 360-angle\n",
    "    backlash = requested - angle\n",
    "#     print(k+1,f\"{angle:.5f}\",f\"{requested:.3f}\")\n",
    "#     print(k+1,backlash)\n",
    "    backlash_arr = np.append(backlash_arr,backlash)"
   ]
  },
  {
   "cell_type": "code",
   "execution_count": 53,
   "id": "0444b9de",
   "metadata": {},
   "outputs": [
    {
     "data": {
      "text/plain": [
       "1.814610203121049"
      ]
     },
     "execution_count": 53,
     "metadata": {},
     "output_type": "execute_result"
    }
   ],
   "source": [
    "np.median(backlash_arr)"
   ]
  },
  {
   "cell_type": "markdown",
   "id": "e5a1cdbb",
   "metadata": {},
   "source": [
    "# Redundant"
   ]
  },
  {
   "cell_type": "code",
   "execution_count": 18,
   "id": "0951fdbf",
   "metadata": {},
   "outputs": [
    {
     "data": {
      "text/plain": [
       "180.0"
      ]
     },
     "execution_count": 18,
     "metadata": {},
     "output_type": "execute_result"
    }
   ],
   "source": [
    "center = (0,0)\n",
    "point1 = (1,0)\n",
    "point2 = (-0.5,0)\n",
    "\n",
    "rl.angle_between_extended(center,point1,point2)"
   ]
  },
  {
   "cell_type": "code",
   "execution_count": null,
   "id": "6ee9e75e",
   "metadata": {},
   "outputs": [],
   "source": [
    "df[df['angle']==180][['x_mm','y_mm','direction']]"
   ]
  },
  {
   "cell_type": "code",
   "execution_count": null,
   "id": "2d94a535",
   "metadata": {},
   "outputs": [],
   "source": [
    "def costheta(center,point1,point2):\n",
    "    a = np.array(center) - np.array(point1)\n",
    "    a = np.dot(a,a)/np.sqrt(np.dot(a,a))\n",
    "    b = np.array(point2) - np.array(center)\n",
    "    b = np.dot(b,b)/np.sqrt(np.dot(b,b))\n",
    "    c = np.array(point2) - np.array(point1)\n",
    "    c = np.dot(c,c)/np.sqrt(np.dot(c,c))\n",
    "    return np.degrees(np.arccos((c**2 - a**2 - b**2)/(-2 * a * b)))"
   ]
  },
  {
   "cell_type": "code",
   "execution_count": null,
   "id": "772a6475",
   "metadata": {},
   "outputs": [],
   "source": [
    "RS_Backlash = np.array([np.nan],dtype=float)\n",
    "\n",
    "ramp = 1.995\n",
    "\n",
    "for i in range(0,len(df)-1):\n",
    "    degree = costheta((df.loc[i]['xc2mm'],df.loc[i]['yc2mm']),(df.loc[i]['x_mm'],df.loc[i]['y_mm']),\n",
    "             (df.loc[i+1]['x_mm'],df.loc[i+1]['y_mm']))\n",
    "    if df.loc[i+1]['angle']>=180: # axes flip for 180 deg and greater moves\n",
    "        degree = 360-degree\n",
    "    if i==0:\n",
    "        degree-=ramp\n",
    "    print(degree,df.loc[i+1]['angle'])\n",
    "    RS_Backlash = np.append(RS_Backlash,degree-df.loc[i+1]['angle'])\n",
    "    \n",
    "df[\"Backlash\"] = RS_Backlash"
   ]
  },
  {
   "cell_type": "code",
   "execution_count": null,
   "id": "d65dcda7",
   "metadata": {},
   "outputs": [],
   "source": [
    "np.nanmedian(df['Backlash'])"
   ]
  },
  {
   "cell_type": "code",
   "execution_count": null,
   "id": "748bc999",
   "metadata": {},
   "outputs": [],
   "source": [
    "RS_Backlash"
   ]
  },
  {
   "cell_type": "code",
   "execution_count": null,
   "id": "5b3b0468",
   "metadata": {},
   "outputs": [],
   "source": [
    "plt.hist(RS_Backlash)\n",
    "plt.show()"
   ]
  },
  {
   "cell_type": "code",
   "execution_count": null,
   "id": "befcfb5b",
   "metadata": {},
   "outputs": [],
   "source": [
    "plt.figure(figsize=[8,6])\n",
    "\n",
    "save = True\n",
    "\n",
    "title=\"Backlash for phi - away from home, RS Procedure\"\n",
    "\n",
    "plt.grid(linestyle='--')\n",
    "plt.suptitle(title+\"\\n Median value: \"+f\"{np.nanmedian(df['Backlash']):.3f} degrees\")\n",
    "plt.ylabel(\"Median Backlash [deg]\")\n",
    "plt.xlabel(\"Commanded angle [deg]\")\n",
    "for angles in np.unique(df['angle'])[1:]:\n",
    "    mask = df['angle']==angles\n",
    "    scatkwargs1 = dict(marker='o',s=10)\n",
    "#     scatkwargs2 = dict(yerr=np.std(df[msk]['Backlash']),marker='o',markersize=5, elinewidth=0, capsize=4)\n",
    "#     msk1 = (df['direction']=='ccw') & (df['angle']==angle)\n",
    "#     msk2 = (df['direction']=='cw') & (df['angle']==angle)\n",
    "    plt.scatter(df[mask]['angle'], df[mask]['Backlash'],**scatkwargs1,color='red')\n",
    "#     plt.errorbar(angle, np.median(df[msk1]['Backlash']),ecolor='blue',**scatkwargs2,color='blue',alpha=0.5)\n",
    "#     plt.errorbar(angle, np.median(df[msk2]['Backlash']),ecolor='green',**scatkwargs2,color='green',alpha=0.5)\n",
    "\n",
    "    plt.errorbar(angles,df[mask]['Backlash'].mean(),yerr=df[df['angle']==angles]['Backlash'].std(),c='black',\n",
    "                 marker='x',markersize=5, elinewidth=0, capsize=4,zorder=0)\n",
    "    \n",
    "# plt.xticks(np.arange(0,361,step=40))\n",
    "# plt.xlim(0,360)\n",
    "# plt.ylim(-2.2,-1.7)\n",
    "\n",
    "plt.tight_layout()\n",
    "\n",
    "if save:\n",
    "    plt.savefig(figPath+title+\".jpg\",dpi=180)\n",
    "\n",
    "plt.show()"
   ]
  },
  {
   "cell_type": "code",
   "execution_count": null,
   "id": "5e97532e",
   "metadata": {},
   "outputs": [],
   "source": []
  },
  {
   "cell_type": "code",
   "execution_count": null,
   "id": "b1f7ce7f",
   "metadata": {},
   "outputs": [],
   "source": []
  },
  {
   "cell_type": "code",
   "execution_count": null,
   "id": "3cbe1416",
   "metadata": {},
   "outputs": [],
   "source": []
  }
 ],
 "metadata": {
  "kernelspec": {
   "display_name": "Python 3",
   "language": "python",
   "name": "python3"
  },
  "language_info": {
   "codemirror_mode": {
    "name": "ipython",
    "version": 3
   },
   "file_extension": ".py",
   "mimetype": "text/x-python",
   "name": "python",
   "nbconvert_exporter": "python",
   "pygments_lexer": "ipython3",
   "version": "3.6.15"
  }
 },
 "nbformat": 4,
 "nbformat_minor": 5
}
