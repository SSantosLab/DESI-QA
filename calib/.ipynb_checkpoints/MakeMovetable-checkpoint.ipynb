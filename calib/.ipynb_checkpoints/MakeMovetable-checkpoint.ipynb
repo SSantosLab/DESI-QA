{
 "cells": [
  {
   "cell_type": "code",
   "execution_count": 25,
   "id": "c3ab6847",
   "metadata": {},
   "outputs": [],
   "source": [
    "import numpy as np\n",
    "import pandas as pd\n",
    "import csv"
   ]
  },
  {
   "cell_type": "code",
   "execution_count": 52,
   "id": "d89286b2",
   "metadata": {},
   "outputs": [],
   "source": [
    "arr = np.array(['cw cruise phi 0'],dtype=str)\n",
    "\n",
    "for j in range(18):\n",
    "    arr = np.append(arr,['cw'+' cruise'+' phi '+str((j+1)*10)])\n",
    "    arr = np.append(arr,['ccw'+' cruise'+' phi '+str((j+1)*10)])"
   ]
  },
  {
   "cell_type": "code",
   "execution_count": 53,
   "id": "56ae989b",
   "metadata": {},
   "outputs": [
    {
     "name": "stdout",
     "output_type": "stream",
     "text": [
      "['cw cruise phi 0' 'cw cruise phi 10' 'ccw cruise phi 10'\n",
      " 'cw cruise phi 20' 'ccw cruise phi 20' 'cw cruise phi 30'\n",
      " 'ccw cruise phi 30' 'cw cruise phi 40' 'ccw cruise phi 40'\n",
      " 'cw cruise phi 50' 'ccw cruise phi 50' 'cw cruise phi 60'\n",
      " 'ccw cruise phi 60' 'cw cruise phi 70' 'ccw cruise phi 70'\n",
      " 'cw cruise phi 80' 'ccw cruise phi 80' 'cw cruise phi 90'\n",
      " 'ccw cruise phi 90' 'cw cruise phi 100' 'ccw cruise phi 100'\n",
      " 'cw cruise phi 110' 'ccw cruise phi 110' 'cw cruise phi 120'\n",
      " 'ccw cruise phi 120' 'cw cruise phi 130' 'ccw cruise phi 130'\n",
      " 'cw cruise phi 140' 'ccw cruise phi 140' 'cw cruise phi 150'\n",
      " 'ccw cruise phi 150' 'cw cruise phi 160' 'ccw cruise phi 160'\n",
      " 'cw cruise phi 170' 'ccw cruise phi 170' 'cw cruise phi 180'\n",
      " 'ccw cruise phi 180']\n"
     ]
    }
   ],
   "source": [
    "print(arr)"
   ]
  },
  {
   "cell_type": "code",
   "execution_count": 57,
   "id": "f5a1640c",
   "metadata": {},
   "outputs": [],
   "source": [
    "path = '/home/msdos/DESI-QA/movetables/PhiBacklashTest.txt'\n",
    "file = open(path, \"w+\")\n",
    "\n",
    "with open(path, \"w\") as txt_file:\n",
    "    for line in arr:\n",
    "        txt_file.write(\"\".join(line) + \"\\n\") "
   ]
  },
  {
   "cell_type": "code",
   "execution_count": 58,
   "id": "68cd2a8c",
   "metadata": {},
   "outputs": [],
   "source": [
    "test = arr[0]"
   ]
  },
  {
   "cell_type": "code",
   "execution_count": 59,
   "id": "2d045fe9",
   "metadata": {},
   "outputs": [
    {
     "name": "stdout",
     "output_type": "stream",
     "text": [
      "cw cruise phi 0\n"
     ]
    }
   ],
   "source": [
    "print(test)"
   ]
  },
  {
   "cell_type": "code",
   "execution_count": 63,
   "id": "5f467e5c",
   "metadata": {},
   "outputs": [
    {
     "data": {
      "text/plain": [
       "True"
      ]
     },
     "execution_count": 63,
     "metadata": {},
     "output_type": "execute_result"
    }
   ],
   "source": [
    "not test.startswith(\"ccw\")"
   ]
  },
  {
   "cell_type": "code",
   "execution_count": null,
   "id": "7e9b57c0",
   "metadata": {},
   "outputs": [],
   "source": []
  }
 ],
 "metadata": {
  "kernelspec": {
   "display_name": "Python 3",
   "language": "python",
   "name": "python3"
  },
  "language_info": {
   "codemirror_mode": {
    "name": "ipython",
    "version": 3
   },
   "file_extension": ".py",
   "mimetype": "text/x-python",
   "name": "python",
   "nbconvert_exporter": "python",
   "pygments_lexer": "ipython3",
   "version": "3.6.15"
  }
 },
 "nbformat": 4,
 "nbformat_minor": 5
}
