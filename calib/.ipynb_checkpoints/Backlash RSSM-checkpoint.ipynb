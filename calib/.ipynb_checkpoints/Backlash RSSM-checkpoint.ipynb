{
 "cells": [
  {
   "cell_type": "code",
   "execution_count": 1,
   "id": "8522b076",
   "metadata": {},
   "outputs": [],
   "source": [
    "import pandas as pd\n",
    "import numpy as np\n",
    "import matplotlib.pyplot as plt\n",
    "plt.rcParams.update({'figure.dpi':180})\n",
    "\n",
    "import sys\n",
    "sys.path.append(\"/home/msdos/DESI-QA/desiarc-main/arc\")\n",
    "sys.path.append(\"/home/msdos/DESI-QA/\")\n",
    "sys.path.append(\"/home/msdos/DESI-QA/output/figures/\")\n",
    "import find_center as fc\n",
    "from spotfinder import spotfinder\n",
    "from xylib import calc_movetables as cm\n",
    "import reportlib as rl\n",
    "\n",
    "figPath = '/home/msdos/DESI-QA/output/figures/Backlash test/'"
   ]
  },
  {
   "cell_type": "code",
   "execution_count": 160,
   "id": "041b0892",
   "metadata": {},
   "outputs": [
    {
     "name": "stdout",
     "output_type": "stream",
     "text": [
      "Adding session labels for testType=RS\n",
      "[0 1 1 1 1 1 1 1 1 1 1 1 1 1 1 1 1 1 1 1 1]\n"
     ]
    }
   ],
   "source": [
    "testStart = np.datetime64('2023-07-07 11:20:35')\n",
    "testFinish = testStart + np.timedelta64(1,\"h\")\n",
    "\n",
    "# Setting paths\n",
    "datapath = \"../output/database.csv\"\n",
    "fidpath = \"../output/fiddb.csv\"\n",
    "df = rl.importToDf(datapath,fidpath,testStart,testFinish,testType='RS',motor='phi')"
   ]
  },
  {
   "cell_type": "code",
   "execution_count": 161,
   "id": "921d884b",
   "metadata": {
    "scrolled": false
   },
   "outputs": [
    {
     "data": {
      "text/html": [
       "<div>\n",
       "<style scoped>\n",
       "    .dataframe tbody tr th:only-of-type {\n",
       "        vertical-align: middle;\n",
       "    }\n",
       "\n",
       "    .dataframe tbody tr th {\n",
       "        vertical-align: top;\n",
       "    }\n",
       "\n",
       "    .dataframe thead th {\n",
       "        text-align: right;\n",
       "    }\n",
       "</style>\n",
       "<table border=\"1\" class=\"dataframe\">\n",
       "  <thead>\n",
       "    <tr style=\"text-align: right;\">\n",
       "      <th></th>\n",
       "      <th>Backlash</th>\n",
       "      <th>angle</th>\n",
       "    </tr>\n",
       "  </thead>\n",
       "  <tbody>\n",
       "    <tr>\n",
       "      <th>0</th>\n",
       "      <td>NaN</td>\n",
       "      <td>0.0</td>\n",
       "    </tr>\n",
       "    <tr>\n",
       "      <th>1</th>\n",
       "      <td>NaN</td>\n",
       "      <td>10.0</td>\n",
       "    </tr>\n",
       "    <tr>\n",
       "      <th>2</th>\n",
       "      <td>-1.452246</td>\n",
       "      <td>10.0</td>\n",
       "    </tr>\n",
       "    <tr>\n",
       "      <th>3</th>\n",
       "      <td>-1.482709</td>\n",
       "      <td>10.0</td>\n",
       "    </tr>\n",
       "    <tr>\n",
       "      <th>4</th>\n",
       "      <td>-1.466624</td>\n",
       "      <td>10.0</td>\n",
       "    </tr>\n",
       "    <tr>\n",
       "      <th>5</th>\n",
       "      <td>-1.706508</td>\n",
       "      <td>45.0</td>\n",
       "    </tr>\n",
       "    <tr>\n",
       "      <th>6</th>\n",
       "      <td>-1.611482</td>\n",
       "      <td>45.0</td>\n",
       "    </tr>\n",
       "    <tr>\n",
       "      <th>7</th>\n",
       "      <td>-1.629237</td>\n",
       "      <td>45.0</td>\n",
       "    </tr>\n",
       "    <tr>\n",
       "      <th>8</th>\n",
       "      <td>-1.608351</td>\n",
       "      <td>45.0</td>\n",
       "    </tr>\n",
       "    <tr>\n",
       "      <th>9</th>\n",
       "      <td>-1.577957</td>\n",
       "      <td>90.0</td>\n",
       "    </tr>\n",
       "    <tr>\n",
       "      <th>10</th>\n",
       "      <td>-1.566340</td>\n",
       "      <td>90.0</td>\n",
       "    </tr>\n",
       "    <tr>\n",
       "      <th>11</th>\n",
       "      <td>-1.592599</td>\n",
       "      <td>90.0</td>\n",
       "    </tr>\n",
       "    <tr>\n",
       "      <th>12</th>\n",
       "      <td>-1.576645</td>\n",
       "      <td>90.0</td>\n",
       "    </tr>\n",
       "    <tr>\n",
       "      <th>13</th>\n",
       "      <td>-1.556710</td>\n",
       "      <td>135.0</td>\n",
       "    </tr>\n",
       "    <tr>\n",
       "      <th>14</th>\n",
       "      <td>-1.533217</td>\n",
       "      <td>135.0</td>\n",
       "    </tr>\n",
       "    <tr>\n",
       "      <th>15</th>\n",
       "      <td>-1.617260</td>\n",
       "      <td>135.0</td>\n",
       "    </tr>\n",
       "    <tr>\n",
       "      <th>16</th>\n",
       "      <td>-1.599758</td>\n",
       "      <td>135.0</td>\n",
       "    </tr>\n",
       "    <tr>\n",
       "      <th>17</th>\n",
       "      <td>-1.679447</td>\n",
       "      <td>160.0</td>\n",
       "    </tr>\n",
       "    <tr>\n",
       "      <th>18</th>\n",
       "      <td>-1.636767</td>\n",
       "      <td>160.0</td>\n",
       "    </tr>\n",
       "    <tr>\n",
       "      <th>19</th>\n",
       "      <td>-1.772279</td>\n",
       "      <td>160.0</td>\n",
       "    </tr>\n",
       "    <tr>\n",
       "      <th>20</th>\n",
       "      <td>-1.678881</td>\n",
       "      <td>160.0</td>\n",
       "    </tr>\n",
       "  </tbody>\n",
       "</table>\n",
       "</div>"
      ],
      "text/plain": [
       "    Backlash  angle\n",
       "0        NaN    0.0\n",
       "1        NaN   10.0\n",
       "2  -1.452246   10.0\n",
       "3  -1.482709   10.0\n",
       "4  -1.466624   10.0\n",
       "5  -1.706508   45.0\n",
       "6  -1.611482   45.0\n",
       "7  -1.629237   45.0\n",
       "8  -1.608351   45.0\n",
       "9  -1.577957   90.0\n",
       "10 -1.566340   90.0\n",
       "11 -1.592599   90.0\n",
       "12 -1.576645   90.0\n",
       "13 -1.556710  135.0\n",
       "14 -1.533217  135.0\n",
       "15 -1.617260  135.0\n",
       "16 -1.599758  135.0\n",
       "17 -1.679447  160.0\n",
       "18 -1.636767  160.0\n",
       "19 -1.772279  160.0\n",
       "20 -1.678881  160.0"
      ]
     },
     "execution_count": 161,
     "metadata": {},
     "output_type": "execute_result"
    }
   ],
   "source": [
    "df[['Backlash','angle']]"
   ]
  },
  {
   "cell_type": "code",
   "execution_count": null,
   "id": "49febeca",
   "metadata": {},
   "outputs": [],
   "source": [
    "rl.angle_between((df),)"
   ]
  },
  {
   "cell_type": "code",
   "execution_count": 159,
   "id": "d6f02d82",
   "metadata": {},
   "outputs": [
    {
     "data": {
      "text/html": [
       "<div>\n",
       "<style scoped>\n",
       "    .dataframe tbody tr th:only-of-type {\n",
       "        vertical-align: middle;\n",
       "    }\n",
       "\n",
       "    .dataframe tbody tr th {\n",
       "        vertical-align: top;\n",
       "    }\n",
       "\n",
       "    .dataframe thead th {\n",
       "        text-align: right;\n",
       "    }\n",
       "</style>\n",
       "<table border=\"1\" class=\"dataframe\">\n",
       "  <thead>\n",
       "    <tr style=\"text-align: right;\">\n",
       "      <th></th>\n",
       "      <th>x_mm</th>\n",
       "      <th>y_mm</th>\n",
       "    </tr>\n",
       "  </thead>\n",
       "  <tbody>\n",
       "    <tr>\n",
       "      <th>0</th>\n",
       "      <td>70.014790</td>\n",
       "      <td>31.846679</td>\n",
       "    </tr>\n",
       "    <tr>\n",
       "      <th>1</th>\n",
       "      <td>70.057767</td>\n",
       "      <td>32.588494</td>\n",
       "    </tr>\n",
       "    <tr>\n",
       "      <th>2</th>\n",
       "      <td>70.022250</td>\n",
       "      <td>31.915556</td>\n",
       "    </tr>\n",
       "    <tr>\n",
       "      <th>3</th>\n",
       "      <td>70.048085</td>\n",
       "      <td>32.582263</td>\n",
       "    </tr>\n",
       "    <tr>\n",
       "      <th>4</th>\n",
       "      <td>70.026125</td>\n",
       "      <td>31.916506</td>\n",
       "    </tr>\n",
       "    <tr>\n",
       "      <th>5</th>\n",
       "      <td>69.378696</td>\n",
       "      <td>34.290016</td>\n",
       "    </tr>\n",
       "    <tr>\n",
       "      <th>6</th>\n",
       "      <td>70.020164</td>\n",
       "      <td>31.908659</td>\n",
       "    </tr>\n",
       "    <tr>\n",
       "      <th>7</th>\n",
       "      <td>69.374987</td>\n",
       "      <td>34.287029</td>\n",
       "    </tr>\n",
       "    <tr>\n",
       "      <th>8</th>\n",
       "      <td>70.025897</td>\n",
       "      <td>31.910271</td>\n",
       "    </tr>\n",
       "    <tr>\n",
       "      <th>9</th>\n",
       "      <td>67.308904</td>\n",
       "      <td>35.404208</td>\n",
       "    </tr>\n",
       "    <tr>\n",
       "      <th>10</th>\n",
       "      <td>70.034094</td>\n",
       "      <td>31.913215</td>\n",
       "    </tr>\n",
       "    <tr>\n",
       "      <th>11</th>\n",
       "      <td>67.321682</td>\n",
       "      <td>35.409590</td>\n",
       "    </tr>\n",
       "    <tr>\n",
       "      <th>12</th>\n",
       "      <td>70.033584</td>\n",
       "      <td>31.912428</td>\n",
       "    </tr>\n",
       "    <tr>\n",
       "      <th>13</th>\n",
       "      <td>65.068493</td>\n",
       "      <td>34.745824</td>\n",
       "    </tr>\n",
       "    <tr>\n",
       "      <th>14</th>\n",
       "      <td>70.035743</td>\n",
       "      <td>31.912033</td>\n",
       "    </tr>\n",
       "    <tr>\n",
       "      <th>15</th>\n",
       "      <td>65.071958</td>\n",
       "      <td>34.748692</td>\n",
       "    </tr>\n",
       "    <tr>\n",
       "      <th>16</th>\n",
       "      <td>70.031769</td>\n",
       "      <td>31.909281</td>\n",
       "    </tr>\n",
       "    <tr>\n",
       "      <th>17</th>\n",
       "      <td>64.241352</td>\n",
       "      <td>33.715590</td>\n",
       "    </tr>\n",
       "    <tr>\n",
       "      <th>18</th>\n",
       "      <td>70.035690</td>\n",
       "      <td>31.908784</td>\n",
       "    </tr>\n",
       "    <tr>\n",
       "      <th>19</th>\n",
       "      <td>64.251826</td>\n",
       "      <td>33.725922</td>\n",
       "    </tr>\n",
       "    <tr>\n",
       "      <th>20</th>\n",
       "      <td>70.035051</td>\n",
       "      <td>31.903824</td>\n",
       "    </tr>\n",
       "  </tbody>\n",
       "</table>\n",
       "</div>"
      ],
      "text/plain": [
       "         x_mm       y_mm\n",
       "0   70.014790  31.846679\n",
       "1   70.057767  32.588494\n",
       "2   70.022250  31.915556\n",
       "3   70.048085  32.582263\n",
       "4   70.026125  31.916506\n",
       "5   69.378696  34.290016\n",
       "6   70.020164  31.908659\n",
       "7   69.374987  34.287029\n",
       "8   70.025897  31.910271\n",
       "9   67.308904  35.404208\n",
       "10  70.034094  31.913215\n",
       "11  67.321682  35.409590\n",
       "12  70.033584  31.912428\n",
       "13  65.068493  34.745824\n",
       "14  70.035743  31.912033\n",
       "15  65.071958  34.748692\n",
       "16  70.031769  31.909281\n",
       "17  64.241352  33.715590\n",
       "18  70.035690  31.908784\n",
       "19  64.251826  33.725922\n",
       "20  70.035051  31.903824"
      ]
     },
     "execution_count": 159,
     "metadata": {},
     "output_type": "execute_result"
    }
   ],
   "source": [
    "df[['x_mm','y_mm']]"
   ]
  },
  {
   "cell_type": "code",
   "execution_count": 94,
   "id": "65df19fe",
   "metadata": {},
   "outputs": [
    {
     "data": {
      "image/png": "[encoded data removed]",
      "text/plain": [
       "<Figure size 720x720 with 1 Axes>"
      ]
     },
     "metadata": {
      "needs_background": "light"
     },
     "output_type": "display_data"
    }
   ],
   "source": [
    "plt.figure(figsize=[6,6])\n",
    "plt.grid(ls='--')\n",
    "plt.scatter(df[df['angle']==180]['x_mm'],df[df['angle']==180]['y_mm'],marker='o',c='red',alpha=0.5)\n",
    "plt.plot(df['xc2mm'],df['yc2mm'],c='black',marker='+')\n",
    "plt.show()"
   ]
  },
  {
   "cell_type": "code",
   "execution_count": 96,
   "id": "6ee9e75e",
   "metadata": {},
   "outputs": [
    {
     "data": {
      "text/html": [
       "<div>\n",
       "<style scoped>\n",
       "    .dataframe tbody tr th:only-of-type {\n",
       "        vertical-align: middle;\n",
       "    }\n",
       "\n",
       "    .dataframe tbody tr th {\n",
       "        vertical-align: top;\n",
       "    }\n",
       "\n",
       "    .dataframe thead th {\n",
       "        text-align: right;\n",
       "    }\n",
       "</style>\n",
       "<table border=\"1\" class=\"dataframe\">\n",
       "  <thead>\n",
       "    <tr style=\"text-align: right;\">\n",
       "      <th></th>\n",
       "      <th>x_mm</th>\n",
       "      <th>y_mm</th>\n",
       "      <th>direction</th>\n",
       "    </tr>\n",
       "  </thead>\n",
       "  <tbody>\n",
       "    <tr>\n",
       "      <th>9</th>\n",
       "      <td>75.856144</td>\n",
       "      <td>31.196726</td>\n",
       "      <td>cw</td>\n",
       "    </tr>\n",
       "    <tr>\n",
       "      <th>10</th>\n",
       "      <td>63.856996</td>\n",
       "      <td>32.045857</td>\n",
       "      <td>ccw</td>\n",
       "    </tr>\n",
       "    <tr>\n",
       "      <th>11</th>\n",
       "      <td>75.849662</td>\n",
       "      <td>31.193624</td>\n",
       "      <td>cw</td>\n",
       "    </tr>\n",
       "    <tr>\n",
       "      <th>12</th>\n",
       "      <td>63.858514</td>\n",
       "      <td>32.046843</td>\n",
       "      <td>ccw</td>\n",
       "    </tr>\n",
       "  </tbody>\n",
       "</table>\n",
       "</div>"
      ],
      "text/plain": [
       "         x_mm       y_mm direction\n",
       "9   75.856144  31.196726        cw\n",
       "10  63.856996  32.045857       ccw\n",
       "11  75.849662  31.193624        cw\n",
       "12  63.858514  32.046843       ccw"
      ]
     },
     "execution_count": 96,
     "metadata": {},
     "output_type": "execute_result"
    }
   ],
   "source": [
    "df[df['angle']==180][['x_mm','y_mm','direction']]"
   ]
  },
  {
   "cell_type": "code",
   "execution_count": 162,
   "id": "2d94a535",
   "metadata": {},
   "outputs": [],
   "source": [
    "def costheta(center,point1,point2):\n",
    "    a = np.array(center) - np.array(point1)\n",
    "    a = np.dot(a,a)/np.sqrt(np.dot(a,a))\n",
    "    b = np.array(point2) - np.array(center)\n",
    "    b = np.dot(b,b)/np.sqrt(np.dot(b,b))\n",
    "    c = np.array(point2) - np.array(point1)\n",
    "    c = np.dot(c,c)/np.sqrt(np.dot(c,c))\n",
    "    return np.degrees(np.arccos((c**2 - a**2 - b**2)/(-2 * a * b)))"
   ]
  },
  {
   "cell_type": "code",
   "execution_count": 163,
   "id": "772a6475",
   "metadata": {},
   "outputs": [
    {
     "name": "stdout",
     "output_type": "stream",
     "text": [
      "11.920047229230306 10.0\n",
      "12.619954863796016 10.0\n",
      "12.517051403474532 10.0\n",
      "12.488910072653226 10.0\n",
      "47.32944053086409 45.0\n",
      "47.49109278835434 45.0\n",
      "47.491293635424086 45.0\n",
      "47.445626326079925 45.0\n",
      "92.57887210287157 90.0\n",
      "92.50204239168524 90.0\n",
      "92.27481205051639 90.0\n",
      "92.29073237414732 90.0\n",
      "137.34015271022088 135.0\n",
      "137.34154658951837 135.0\n",
      "137.2574936553665 135.0\n",
      "137.3191451857349 135.0\n",
      "162.27638559461494 160.0\n",
      "162.27479858224547 160.0\n",
      "162.0149950533835 160.0\n",
      "162.10819519716006 160.0\n"
     ]
    }
   ],
   "source": [
    "RS_Backlash = np.array([np.nan],dtype=float)\n",
    "\n",
    "ramp = 1.995\n",
    "\n",
    "for i in range(0,len(df)-1):\n",
    "    degree = costheta((df.loc[i]['xc2mm'],df.loc[i]['yc2mm']),(df.loc[i]['x_mm'],df.loc[i]['y_mm']),\n",
    "             (df.loc[i+1]['x_mm'],df.loc[i+1]['y_mm']))\n",
    "    if df.loc[i+1]['angle']>=180: # axes flip for 180 deg and greater moves\n",
    "        degree = 360-degree\n",
    "    if i==0:\n",
    "        degree-=ramp\n",
    "    print(degree,df.loc[i+1]['angle'])\n",
    "    RS_Backlash = np.append(RS_Backlash,degree-df.loc[i+1]['angle'])\n",
    "    \n",
    "df[\"Backlash\"] = RS_Backlash"
   ]
  },
  {
   "cell_type": "code",
   "execution_count": 164,
   "id": "d65dcda7",
   "metadata": {},
   "outputs": [
    {
     "data": {
      "text/plain": [
       "2.334796620542484"
      ]
     },
     "execution_count": 164,
     "metadata": {},
     "output_type": "execute_result"
    }
   ],
   "source": [
    "np.nanmedian(df['Backlash'])"
   ]
  },
  {
   "cell_type": "code",
   "execution_count": 165,
   "id": "748bc999",
   "metadata": {},
   "outputs": [
    {
     "data": {
      "text/plain": [
       "array([       nan, 1.92004723, 2.61995486, 2.5170514 , 2.48891007,\n",
       "       2.32944053, 2.49109279, 2.49129364, 2.44562633, 2.5788721 ,\n",
       "       2.50204239, 2.27481205, 2.29073237, 2.34015271, 2.34154659,\n",
       "       2.25749366, 2.31914519, 2.27638559, 2.27479858, 2.01499505,\n",
       "       2.1081952 ])"
      ]
     },
     "execution_count": 165,
     "metadata": {},
     "output_type": "execute_result"
    }
   ],
   "source": [
    "RS_Backlash"
   ]
  },
  {
   "cell_type": "code",
   "execution_count": 166,
   "id": "5b3b0468",
   "metadata": {},
   "outputs": [
    {
     "data": {
      "image/png": "[encoded data removed]",
      "text/plain": [
       "<Figure size 720x480 with 1 Axes>"
      ]
     },
     "metadata": {
      "needs_background": "light"
     },
     "output_type": "display_data"
    }
   ],
   "source": [
    "plt.hist(RS_Backlash)\n",
    "plt.show()"
   ]
  },
  {
   "cell_type": "code",
   "execution_count": 170,
   "id": "befcfb5b",
   "metadata": {},
   "outputs": [
    {
     "data": {
      "image/png": "[encoded data removed]",
      "text/plain": [
       "<Figure size 960x720 with 1 Axes>"
      ]
     },
     "metadata": {
      "needs_background": "light"
     },
     "output_type": "display_data"
    }
   ],
   "source": [
    "plt.figure(figsize=[8,6])\n",
    "\n",
    "save = True\n",
    "\n",
    "title=\"Backlash for phi - away from home, RS Procedure\"\n",
    "\n",
    "plt.grid(linestyle='--')\n",
    "plt.suptitle(title+\"\\n Median value: \"+f\"{np.nanmedian(df['Backlash']):.3f} degrees\")\n",
    "plt.ylabel(\"Median Backlash [deg]\")\n",
    "plt.xlabel(\"Commanded angle [deg]\")\n",
    "for angles in np.unique(df['angle'])[1:]:\n",
    "    mask = df['angle']==angles\n",
    "    scatkwargs1 = dict(marker='o',s=10)\n",
    "#     scatkwargs2 = dict(yerr=np.std(df[msk]['Backlash']),marker='o',markersize=5, elinewidth=0, capsize=4)\n",
    "#     msk1 = (df['direction']=='ccw') & (df['angle']==angle)\n",
    "#     msk2 = (df['direction']=='cw') & (df['angle']==angle)\n",
    "    plt.scatter(df[mask]['angle'], df[mask]['Backlash'],**scatkwargs1,color='red')\n",
    "#     plt.errorbar(angle, np.median(df[msk1]['Backlash']),ecolor='blue',**scatkwargs2,color='blue',alpha=0.5)\n",
    "#     plt.errorbar(angle, np.median(df[msk2]['Backlash']),ecolor='green',**scatkwargs2,color='green',alpha=0.5)\n",
    "\n",
    "    plt.errorbar(angles,df[mask]['Backlash'].mean(),yerr=df[df['angle']==angles]['Backlash'].std(),c='black',\n",
    "                 marker='x',markersize=5, elinewidth=0, capsize=4,zorder=0)\n",
    "    \n",
    "# plt.xticks(np.arange(0,361,step=40))\n",
    "# plt.xlim(0,360)\n",
    "# plt.ylim(-2.2,-1.7)\n",
    "\n",
    "plt.tight_layout()\n",
    "\n",
    "if save:\n",
    "    plt.savefig(figPath+title+\".jpg\",dpi=180)\n",
    "\n",
    "plt.show()"
   ]
  },
  {
   "cell_type": "code",
   "execution_count": 155,
   "id": "5e97532e",
   "metadata": {},
   "outputs": [
    {
     "data": {
      "text/plain": [
       "array([ 10.,  90., 180., 270., 340.])"
      ]
     },
     "execution_count": 155,
     "metadata": {},
     "output_type": "execute_result"
    }
   ],
   "source": []
  },
  {
   "cell_type": "code",
   "execution_count": null,
   "id": "b1f7ce7f",
   "metadata": {},
   "outputs": [],
   "source": []
  },
  {
   "cell_type": "code",
   "execution_count": null,
   "id": "3cbe1416",
   "metadata": {},
   "outputs": [],
   "source": []
  }
 ],
 "metadata": {
  "kernelspec": {
   "display_name": "Python 3",
   "language": "python",
   "name": "python3"
  },
  "language_info": {
   "codemirror_mode": {
    "name": "ipython",
    "version": 3
   },
   "file_extension": ".py",
   "mimetype": "text/x-python",
   "name": "python",
   "nbconvert_exporter": "python",
   "pygments_lexer": "ipython3",
   "version": "3.6.15"
  }
 },
 "nbformat": 4,
 "nbformat_minor": 5
}
