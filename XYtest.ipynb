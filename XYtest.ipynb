{
 "cells": [
  {
   "cell_type": "code",
   "execution_count": 37,
   "id": "29014bd3",
   "metadata": {},
   "outputs": [],
   "source": [
    "import numpy as np\n",
    "import matplotlib.pyplot as plt\n",
    "import math"
   ]
  },
  {
   "cell_type": "code",
   "execution_count": 38,
   "id": "38d9c68a",
   "metadata": {},
   "outputs": [],
   "source": [
    "#assumptions: \n",
    "#clockwise is actually clockwise about the origin\n",
    "#coordinates are all in reference to our center point"
   ]
  },
  {
   "cell_type": "code",
   "execution_count": 117,
   "id": "2128952b",
   "metadata": {
    "scrolled": false
   },
   "outputs": [],
   "source": [
    "#try out the functions\n",
    "H = 160 #angle of hard limit relative to x-axis (pos or neg)\n",
    "R_theta = 3 #arm lengths \n",
    "R_phi = 3\n",
    "x0 = 1 #starting point of positioner (take an initial pic)\n",
    "y0 = 1"
   ]
  },
  {
   "cell_type": "code",
   "execution_count": 118,
   "id": "2e950ab1",
   "metadata": {},
   "outputs": [],
   "source": [
    "def transform(H,R_theta,R_phi,x,y): #function to output theta and phi angles based on coordinates relative to center \n",
    "    \n",
    "    if x==0 and y==0:\n",
    "        theta = 0\n",
    "        phi = 0\n",
    "\n",
    "    else:\n",
    "        H = H*np.pi/180\n",
    "        d = np.sqrt(x**2 + y**2)\n",
    "        a = d*np.cos(H)\n",
    "        b = d*np.sin(H)\n",
    "        r = np.sqrt((x-a)**2 + (y-b)**2)\n",
    "        alpha = 2*np.arcsin(r/(2*d))\n",
    "        #print(alpha*180/np.pi)\n",
    "        phi = np.arccos((R_phi**2 + R_theta**2 - d**2)/(2*R_theta*R_phi))\n",
    "        d_theta = np.arcsin(R_theta*np.sin(phi)/d)\n",
    "    \n",
    "        if abs(H) > np.pi/2:\n",
    "            if y>(b/a)*x:\n",
    "                theta = alpha + d_theta\n",
    "            if y<=(b/a)*x:\n",
    "                theta = ((2*np.pi)-alpha) + d_theta\n",
    "        else:\n",
    "            if y>(b/a)*x:\n",
    "                theta = ((2*np.pi)-alpha) + d_theta\n",
    "            if y<=(b/a)*x:\n",
    "                theta = alpha + d_theta \n",
    "    \n",
    "    theta = theta*180/np.pi\n",
    "    phi = phi*180/np.pi\n",
    "    \n",
    "    if theta>360:\n",
    "        theta = theta - 360\n",
    "    \n",
    "    return theta,phi"
   ]
  },
  {
   "cell_type": "code",
   "execution_count": 119,
   "id": "28e261c5",
   "metadata": {},
   "outputs": [],
   "source": [
    "def calc_moves(H,R_theta,R_phi,x0,y0,x,y): #function to output moves in theta and phi (pos being cw)\n",
    "\n",
    "    #where you are\n",
    "    theta0,phi0 = transform(H,R_theta,R_phi,x0,y0)\n",
    "    #where you want to be \n",
    "    theta,phi = transform(H,R_theta,R_phi,x,y)\n",
    "    #difference\n",
    "    delta_theta = theta-theta0\n",
    "    delta_phi = phi-phi0\n",
    "    \n",
    "    #optional logic\n",
    "    if delta_theta >= 0:\n",
    "        theta_cw = abs(delta_theta)\n",
    "        theta_ccw = 0\n",
    "    elif delta_theta < 0:\n",
    "        theta_cw = 0\n",
    "        theta_ccw = abs(delta_theta)\n",
    "    if delta_phi >= 0:\n",
    "        phi_cw = abs(delta_phi)\n",
    "        phi_ccw = 0\n",
    "    elif delta_phi < 0:\n",
    "        phi_cw = abs(delta_phi)\n",
    "        phi_ccw = 0\n",
    "    \n",
    "    return delta_theta,delta_phi"
   ]
  },
  {
   "cell_type": "code",
   "execution_count": 120,
   "id": "dc4d34c3",
   "metadata": {},
   "outputs": [],
   "source": [
    "#version that does move tables\n",
    "def calc_movetables(H,R_theta,R_phi,x0,y0,x,y): #function to output moves in theta and phi (pos being cw)\n",
    "\n",
    "    #where you are\n",
    "    theta0,phi0 = transform(H,R_theta,R_phi,x0,y0)\n",
    "    #where you want to be \n",
    "    theta,phi = transform(H,R_theta,R_phi,x,y)\n",
    "    #difference\n",
    "    delta_theta = theta-theta0\n",
    "    delta_phi = phi-phi0\n",
    "    \n",
    "\n",
    "    #optional logic\n",
    "    if delta_theta >= 0:\n",
    "        direc1 = \"cw\"\n",
    "        motor1 = \"theta\"\n",
    "        angle1 = abs(delta_theta)\n",
    "    elif delta_theta < 0:\n",
    "        direc1 = \"ccw\"\n",
    "        motor1 = \"theta\"\n",
    "        angle1 = abs(delta_theta)\n",
    "    if delta_phi >= 0:\n",
    "        direc2 = \"cw\"\n",
    "        motor2 = \"phi\"\n",
    "        angle2 = abs(delta_phi)\n",
    "    elif delta_phi < 0:\n",
    "        direc2 = \"ccw\"\n",
    "        motor2 = \"phi\"\n",
    "        angle2 = abs(delta_phi)\n",
    "    \n",
    "    return direc1,motor1,angle1,direc2,motor2,angle2"
   ]
  },
  {
   "cell_type": "code",
   "execution_count": 121,
   "id": "9b795a29",
   "metadata": {},
   "outputs": [
    {
     "name": "stdout",
     "output_type": "stream",
     "text": [
      "191.36697777463365 27.266044450732828\n"
     ]
    }
   ],
   "source": [
    "#translate starting point into theta,phi positions \n",
    "theta0,phi0 = transform(H,R_theta,R_phi,x0,y0)\n",
    "print(theta0,phi0)"
   ]
  },
  {
   "cell_type": "code",
   "execution_count": 122,
   "id": "338d00e4",
   "metadata": {},
   "outputs": [
    {
     "name": "stdout",
     "output_type": "stream",
     "text": [
      "[1, -5, -5, -5, -5, -5, -4, -4, -4, -4, -4, -4, -4, -3, -3, -3, -3, -3, -3, -3, -3, -3, -2, -2, -2, -2, -2, -2, -2, -2, -2, -2, -2, -1, -1, -1, -1, -1, -1, -1, -1, -1, -1, -1, 0, 0, 0, 0, 0, 0, 0, 0, 0, 0, 0, 1, 1, 1, 1, 1, 1, 1, 1, 1, 1, 1, 2, 2, 2, 2, 2, 2, 2, 2, 2, 2, 2, 3, 3, 3, 3, 3, 3, 3, 3, 3, 4, 4, 4, 4, 4, 4, 4, 5, 5, 5, 5, 5] [1, -2, -1, 0, 1, 2, -3, -2, -1, 0, 1, 2, 3, -4, -3, -2, -1, 0, 1, 2, 3, 4, -5, -4, -3, -2, -1, 0, 1, 2, 3, 4, 5, -5, -4, -3, -2, -1, 0, 1, 2, 3, 4, 5, -5, -4, -3, -2, -1, 0, 1, 2, 3, 4, 5, -5, -4, -3, -2, -1, 0, 1, 2, 3, 4, 5, -5, -4, -3, -2, -1, 0, 1, 2, 3, 4, 5, -4, -3, -2, -1, 0, 1, 2, 3, 4, -3, -2, -1, 0, 1, 2, 3, -2, -1, 0, 1, 2]\n",
      "98\n"
     ]
    }
   ],
   "source": [
    "#Generate the points we will attempt\n",
    "xpoints = [x0]\n",
    "ypoints = [y0]\n",
    "\n",
    "X = int(R_theta+R_phi-0.5) # R is the radius\n",
    "for x in range(-X,X+1):\n",
    "    Y = int(((R_theta+R_phi-0.5)**2-x**2)**0.5) # bound for y given x\n",
    "    for y in range(-Y,Y+1):\n",
    "        xpoints.append(x)\n",
    "        ypoints.append(y)\n",
    "\n",
    "print(xpoints,ypoints)\n",
    "print(len(xpoints))"
   ]
  },
  {
   "cell_type": "code",
   "execution_count": 123,
   "id": "165bd901",
   "metadata": {},
   "outputs": [
    {
     "data": {
      "image/png": "[encoded data removed]",
      "text/plain": [
       "<Figure size 720x720 with 1 Axes>"
      ]
     },
     "metadata": {
      "needs_background": "light"
     },
     "output_type": "display_data"
    }
   ],
   "source": [
    "#plot the points we will attempt\n",
    "figure, axes = plt.subplots(figsize=(10,10))\n",
    "circle = plt.Circle( (0, 0 ),R_theta+R_phi ,fill = False )\n",
    "axes.add_artist(circle)\n",
    "axes.set_aspect( 1 )\n",
    "plt.scatter(xpoints,ypoints, s = 50, marker = '.', color = 'red')\n",
    "plt.axvline(0, linestyle = '--', linewidth = 1, color = 'k')\n",
    "plt.axhline(0, linestyle = '--', linewidth = 1, color = 'k')\n",
    "\n",
    "plt.xlim((-8,8))\n",
    "plt.ylim((-8,8))\n",
    "plt.show()"
   ]
  },
  {
   "cell_type": "code",
   "execution_count": 124,
   "id": "dda0c4a6",
   "metadata": {},
   "outputs": [],
   "source": [
    "#create the move table (pos angles are clockwise and neg angles are counterclockwise)\n",
    "theta_moves = []\n",
    "phi_moves = []\n",
    "\n",
    "for i in range(0,len(xpoints)-1):\n",
    "    delta_theta,delta_phi = calc_moves(H,R_theta,R_phi,xpoints[i],ypoints[i],xpoints[i+1],ypoints[i+1])\n",
    "    theta_moves.append(delta_theta)\n",
    "    phi_moves.append(delta_phi)\n"
   ]
  },
  {
   "cell_type": "code",
   "execution_count": 125,
   "id": "de7b860e",
   "metadata": {},
   "outputs": [
    {
     "name": "stdout",
     "output_type": "stream",
     "text": [
      "[152.9966692568497, -343.8674794861251, 13.061142216562416, 9.558722731478099, 4.8504335107882035, 308.7209461118897, 18.557851602623884, -342.68913791826685, 15.63355930378765, 12.438927632065315, 7.746753336569888, 2.05184133490814, 270.0, 19.57279259223526, 19.373742580600663, -339.6147914229012, 20.241048842300472, 16.62884880354352, 10.125028829016685, 3.2461223674398525, -3.312587883923328, 231.27905388811038, 20.40890006866954, 18.378511559703554, 20.12061666538409, -335.32041682136213, 28.9747018889272, 24.155400465228766, 12.190314467206207, 2.4992482826562963, -4.128478861899978, -10.881616687217232, 218.75238546191537, 17.512580242887907, 16.00023606725688, 18.05533102719454, -333.3172020561044, 49.03895399850592, 40.96104600149411, 10.187099701948426, -1.7951263188826374, -7.202825357265752, -12.05995825507543, 193.06114221656242, 14.63237534230069, 11.810314895778674, 10.528779365509308, 9.87715240763032, -330.4059317731397, 150.4059317731396, -9.877152407630291, -10.528779365509337, -11.810314895778575, -14.63237534230069, 166.93885778343758, 12.059958255075458, 7.202825357265738, 1.7951263188826374, -10.187099701948341, -40.961046001494196, -49.03895399850592, -26.682797943895565, -18.055331027194597, -16.00023606725682, -17.51258024288795, 141.24761453808463, 10.881616687217218, 4.128478861900021, -2.4992482826562537, -12.190314467206065, -24.15540046522898, -28.974701888927257, -24.679583178637785, -20.12061666538409, -18.37851155970361, -20.40890006866954, 128.72094611188967, 3.3125878839232143, -3.2461223674397957, -10.125028829017253, -16.628848803542894, -20.24104884230053, -20.385208577098894, -19.37374258060052, -19.572792592235317, 90.00000000000003, -2.051841334907948, -7.746753336570009, -12.438927632065429, -15.63355930378762, -17.310862081733177, -18.557851602623856, 51.27905388810942, -4.850433510787269, -9.558722731478213, -13.06114221656236, -16.132520513874937]\n",
      "[191.36697777463365, 344.36364703148337, 0.4961675453582757, 13.557309761920692, 23.11603249339879, 27.966466004186998, 336.6874121160767, 355.2452637187006, 12.556125800433733, 28.189685104221383, 40.6286127362867, 48.37536607285659, 50.42720740776474, 320.42720740776474, 340.0, 359.37374258060066, 19.75895115769947, 39.99999999999994, 56.62884880354346, 66.75387763256015, 70.0, 66.68741211607667, 297.96646600418705, 318.3753660728566, 336.75387763256015, 356.87449429794424, 21.55407747658211, 50.52877936550931, 74.68417983073807, 86.87449429794428, 89.37374258060058, 85.2452637187006, 74.36364703148337, 293.11603249339873, 310.62861273628664, 326.6288488035435, 344.68417983073806, 11.366977774633654, 60.40593177313957, 101.36697777463368, 111.55407747658211, 109.75895115769947, 102.55612580043372, 90.49616754535829, 283.5573097619207, 298.1896851042214, 310.00000000000006, 320.52877936550937, 330.4059317731397, 0.0, 150.4059317731396, 140.5287793655093, 129.99999999999997, 118.1896851042214, 103.5573097619207, 270.4961675453583, 282.55612580043373, 289.75895115769947, 291.5540774765821, 281.36697777463377, 240.40593177313957, 191.36697777463365, 164.68417983073812, 146.62884880354352, 130.6286127362867, 113.11603249339873, 254.36364703148337, 265.2452637187006, 269.3737425806006, 266.87449429794435, 254.6841798307383, 230.5287793655093, 201.55407747658205, 176.87449429794427, 156.75387763256018, 138.37536607285656, 117.96646600418703, 246.6874121160767, 249.99999999999991, 246.75387763256012, 236.62884880354287, 219.99999999999997, 199.75895115769944, 179.37374258060055, 160.00000000000003, 140.4272074077647, 230.42720740776474, 228.3753660728568, 220.62861273628678, 208.18968510422135, 192.55612580043373, 175.24526371870056, 156.6874121160767, 207.96646600418612, 203.11603249339885, 193.55730976192064, 180.49616754535828, 164.36364703148334]\n"
     ]
    },
    {
     "data": {
      "image/png": "[encoded data removed]",
      "text/plain": [
       "<Figure size 720x432 with 1 Axes>"
      ]
     },
     "metadata": {
      "needs_background": "light"
     },
     "output_type": "display_data"
    }
   ],
   "source": [
    "#check that the theta positions are all safe (between zero and 360)\n",
    "print(theta_moves)\n",
    "\n",
    "theta_pos = [theta0]\n",
    "for i in range(1,len(xpoints)):\n",
    "    theta_pos.append(sum(theta_moves[0:i])+theta0)\n",
    "    \n",
    "print(theta_pos)\n",
    "\n",
    "time = np.arange(0,len(theta_pos))\n",
    "plt.figure(figsize=(10,6))\n",
    "plt.title(\"Theta position vs. move\")\n",
    "plt.scatter(time,theta_pos)\n",
    "plt.axhspan(0, 360, facecolor ='g', alpha = 0.05)\n",
    "plt.show()"
   ]
  },
  {
   "cell_type": "code",
   "execution_count": 126,
   "id": "7cbf615f",
   "metadata": {},
   "outputs": [
    {
     "name": "stdout",
     "output_type": "stream",
     "text": [
      "[100.4038425135968, -11.282087003086644, -3.502419485084417, 3.502419485084417, 11.282087003086644, -14.784506488171061, -16.506010267715766, -9.56410874516321, -3.194631671722405, 3.194631671722405, 9.56410874516321, 16.506010267715766, 0.0, -22.885380476158588, -16.127620213160753, -10.260179748082223, -3.6122000387570026, 3.6122000387570026, 10.260179748082223, 16.127620213160753, 22.885380476158588, 14.784506488171061, -31.290516755886827, -22.506990421603575, -17.62136838272781, -12.489268711431613, -4.819301423698427, 4.819301423698427, 12.489268711431613, 17.62136838272781, 22.506990421603575, 31.290516755886827, -11.282087003086644, -29.572538497963393, -23.203061424522588, -19.8504573460772, -16.495698241946982, -8.077907997011899, 8.077907997011899, 16.495698241946982, 19.8504573460772, 23.203061424522588, 29.572538497963393, -3.502419485084417, -29.26475068460138, -23.620629791557185, -21.057558731018624, -19.754304815260454, -19.18813645372093, 19.18813645372093, 19.754304815260454, 21.057558731018624, 23.620629791557185, 29.26475068460138, 3.502419485084417, -29.572538497963393, -23.203061424522588, -19.8504573460772, -16.495698241946982, -8.077907997011899, 8.077907997011899, 16.495698241946982, 19.8504573460772, 23.203061424522588, 29.572538497963393, 11.282087003086644, -31.290516755886827, -22.506990421603575, -17.62136838272781, -12.489268711431613, -4.819301423698427, 4.819301423698427, 12.489268711431613, 17.62136838272781, 22.506990421603575, 31.290516755886827, -14.784506488171061, -22.885380476158588, -16.127620213160753, -10.260179748082223, -3.6122000387570026, 3.6122000387570026, 10.260179748082223, 16.127620213160753, 22.885380476158588, 0.0, -16.506010267715766, -9.56410874516321, -3.194631671722405, 3.194631671722405, 9.56410874516321, 16.506010267715766, 14.784506488171061, -11.282087003086644, -3.502419485084417, 3.502419485084417, 11.282087003086644]\n",
      "[27.266044450732828, 127.66988696432963, 116.38779996124299, 112.88538047615856, 116.38779996124299, 127.66988696432963, 112.88538047615856, 96.3793702084428, 86.8152614632796, 83.62062979155718, 86.8152614632796, 96.3793702084428, 112.88538047615856, 112.88538047615856, 89.99999999999997, 73.87237978683922, 63.612200038757, 60.0, 63.612200038757, 73.87237978683922, 89.99999999999997, 112.88538047615856, 127.66988696432963, 96.3793702084428, 73.87237978683922, 56.251011404111416, 43.7617426926798, 38.942441268981376, 43.7617426926798, 56.251011404111416, 73.87237978683922, 96.3793702084428, 127.66988696432963, 116.38779996124299, 86.8152614632796, 63.612200038757, 43.7617426926798, 27.26604445073282, 19.188136453720922, 27.26604445073282, 43.7617426926798, 63.612200038757, 86.8152614632796, 116.38779996124299, 112.88538047615856, 83.62062979155718, 60.0, 38.942441268981376, 19.188136453720922, -7.105427357601002e-15, 19.188136453720922, 38.942441268981376, 60.0, 83.62062979155718, 112.88538047615856, 116.38779996124299, 86.8152614632796, 63.612200038757, 43.7617426926798, 27.26604445073282, 19.188136453720922, 27.26604445073282, 43.7617426926798, 63.612200038757, 86.8152614632796, 116.38779996124299, 127.66988696432963, 96.3793702084428, 73.87237978683922, 56.251011404111416, 43.7617426926798, 38.942441268981376, 43.7617426926798, 56.251011404111416, 73.87237978683922, 96.3793702084428, 127.66988696432963, 112.88538047615856, 89.99999999999997, 73.87237978683922, 63.612200038757, 60.0, 63.612200038757, 73.87237978683922, 89.99999999999997, 112.88538047615856, 112.88538047615856, 96.3793702084428, 86.8152614632796, 83.62062979155718, 86.8152614632796, 96.3793702084428, 112.88538047615856, 127.66988696432963, 116.38779996124299, 112.88538047615856, 116.38779996124299, 127.66988696432963]\n"
     ]
    },
    {
     "data": {
      "image/png": "[encoded data removed]",
      "text/plain": [
       "<Figure size 720x432 with 1 Axes>"
      ]
     },
     "metadata": {
      "needs_background": "light"
     },
     "output_type": "display_data"
    }
   ],
   "source": [
    "#check that the phi positions are all safe (between 0 and 180)\n",
    "print(phi_moves)\n",
    "\n",
    "phi_pos = [phi0]\n",
    "for i in range(1,len(xpoints)):\n",
    "    phi_pos.append(sum(phi_moves[0:i])+phi0)\n",
    "    \n",
    "print(phi_pos)\n",
    "\n",
    "time = np.arange(0,len(phi_pos))\n",
    "plt.figure(figsize=(10,6))\n",
    "plt.title(\"Phi position vs. move\")\n",
    "plt.scatter(time,phi_pos)\n",
    "plt.axhspan(0, 180, facecolor ='g', alpha = 0.05)\n",
    "plt.show()"
   ]
  },
  {
   "cell_type": "code",
   "execution_count": 127,
   "id": "f26a0c23",
   "metadata": {},
   "outputs": [],
   "source": [
    "###############################################################################################################################"
   ]
  },
  {
   "cell_type": "code",
   "execution_count": null,
   "id": "efa6975e",
   "metadata": {},
   "outputs": [],
   "source": []
  },
  {
   "cell_type": "code",
   "execution_count": 128,
   "id": "502f0c17",
   "metadata": {},
   "outputs": [],
   "source": [
    "#beyond this is for testing only \n",
    "#code from Thomas to check that my angles make sense, they won't match unless you do the math,\n",
    "#but it should look like the angles of the arms match up\n",
    "\n",
    "def get_angles(target, len1=3.0, len2=3.0):\n",
    "    \"\"\"\n",
    "    NOTE: This code was adapted from \"https://courses.ideate.cmu.edu/16-375/f2020/text/code/lecture-samples/two-link-ik.html\"\n",
    "    The angles \"alpha\" wrt the arm attached to the origin was given wrt the -Y axis, and the angle \"beta\" wrt the second arm was given wrt\n",
    "    the first arm, so the elbow angle was being calculated. The angles returned now are both wrt the positive X axis.\n",
    "    I also have plotted the results as a visual confirmation that the task was successful.\n",
    "    \n",
    "    Compute two inverse kinematics solutions for a target end position.  The\n",
    "    target is a Cartesian position vector (two-element ndarray) in world\n",
    "    coordinates, and the result vectors are joint angles as ndarrays [q0, q1].\n",
    "    If the target is out of reach, returns the closest pose.\n",
    "\n",
    "    :param target: two-element list or ndarray with [x1, y] target position\n",
    "    :param len1: optional proximal link length\n",
    "    :param len2: optional distal link length\n",
    "    :return: tuple (solution1, solution2) of two-element ndarrays with q1, q2 angles\n",
    "    \"\"\"\n",
    "\n",
    "    # find the position of the point in polar coordinates\n",
    "    radiussq = np.dot(target, target)\n",
    "    radius   = math.sqrt(radiussq)\n",
    "\n",
    "    # theta is the angle of target point w.r.t. -Y axis, same origin as arm\n",
    "    theta    = math.atan2(target[0], -target[1]) \n",
    "    \n",
    "\n",
    "    # use the law of cosines to compute the elbow angle\n",
    "    #   R**2 = l1**2 + l2**2 - 2*l1*l2*cos(pi - elbow)\n",
    "    #   both elbow and -elbow are valid solutions\n",
    "    acosarg = (radiussq - len1**2 - len2**2) / (-2 * len1 * len2)\n",
    "    if acosarg < -1.0:  elbow_supplement = math.pi\n",
    "    elif acosarg > 1.0: elbow_supplement = 0.0\n",
    "    else:               elbow_supplement = math.acos(acosarg)\n",
    "\n",
    "    # use the law of sines to find the angle at the bottom vertex of the triangle defined by the links\n",
    "    #  radius / sin(elbow_supplement)  = l2 / sin(alpha)\n",
    "    if radius > 0.0:\n",
    "        alpha = math.asin(len2 * math.sin(elbow_supplement) / radius)\n",
    "    else:\n",
    "        alpha = 0.0\n",
    "\n",
    "    #  compute the two solutions with opposite elbow sign\n",
    "    soln1 = np.array((theta - alpha, math.pi - elbow_supplement))\n",
    "    soln2 = np.array((theta + alpha, elbow_supplement - math.pi))\n",
    "    \n",
    "    # I think here I'm trying to ensure the angle is positive/negative when it should be, although it doesn't matter\n",
    "    if (-np.pi < theta - alpha) & (theta - alpha < -np.pi/2):\n",
    "        sol = np.array((theta - alpha + 3*np.pi/2, math.pi - elbow_supplement))\n",
    "        sol2 = np.array((theta + alpha + 3*np.pi/2, elbow_supplement - math.pi))\n",
    "    else:\n",
    "        sol = np.array((theta - alpha - np.pi/2, math.pi - elbow_supplement))\n",
    "        sol2 = np.array((theta + alpha - np.pi/2, elbow_supplement - math.pi))\n",
    "    \n",
    "    # See if we can plot our results, first plot the target\n",
    "    plt.figure(figsize = (8,8))\n",
    "    plt.scatter(target[0],target[1], s = 500, marker = '*', color = 'red')\n",
    "    plt.axvline(0, linestyle = '--', linewidth = 1, color = 'k')\n",
    "    plt.axhline(0, linestyle = '--', linewidth = 1, color = 'k')\n",
    "    plt.xlim((-6,6))\n",
    "    plt.ylim((-6,6))\n",
    "    \n",
    "    origin = [0,0]\n",
    "\n",
    "    # Find the location of the first solution joint geometrically \n",
    "    joint1 = [len1 * np.cos(sol[0]), len1 * np.sin(sol[0])]\n",
    "\n",
    "    x_values1_0 = [origin[0], joint1[0]]\n",
    "    y_values1_0 = [origin[1], joint1[1]]\n",
    "\n",
    "    \n",
    "    # End point of the second arm geometrically using the calculated angles \n",
    "    end1 = [x_values1_0[1] + len2 * np.cos(soln1[1] + sol[0]), y_values1_0[1] + len2 * np.sin(soln1[1] + sol[0])]\n",
    "   \n",
    "    x_values2 = [joint1[0], end1[0]]\n",
    "    y_values2 = [joint1[1], end1[1]]\n",
    "    \n",
    "    plt.plot(x_values1_0, y_values1_0, 'bo', linestyle=\"--\", markersize = 5)\n",
    "    plt.plot(x_values2, y_values2, 'bo', linestyle=\"--\", markersize = 5)\n",
    "    \n",
    "    # Now, see if we can do the same thing for the second solution\n",
    "    \n",
    "    joint2 = [len1 * np.cos(sol2[0]), len1 * np.sin(sol2[0])]\n",
    "    \n",
    "    x_values1_1 = [origin[0], joint2[0]]\n",
    "    y_values1_1 = [origin[1], joint2[1]]\n",
    "    \n",
    "    end2 = [x_values1_1[1] + len2 * np.cos(soln2[1] + sol2[0]), y_values1_1[1] + len2 * np.sin(soln2[1] + sol2[0])]\n",
    "    \n",
    "    x_values2_1 = [joint2[0], end2[0]]\n",
    "    y_values2_1 = [joint2[1], end2[1]]\n",
    "    \n",
    "    \n",
    "    plt.plot(x_values1_1, y_values1_1, 'yo', linestyle=\"--\", markersize = 5)\n",
    "    plt.plot(x_values2_1, y_values2_1, 'yo', linestyle=\"--\", markersize = 5)\n",
    "    \n",
    "    \n",
    "    # If the figure looks like the arms are in the correct location, then the angles are correct...\n",
    "    \n",
    "    #OK, so what are my actual angles???\n",
    "    angles1 = [sol[0], soln1[1] + sol[0]]\n",
    "    angles2 = [sol2[0], soln2[1] + sol2[0]]\n",
    "    \n",
    "    angles1 = [i - 2*np.pi if i > np.pi else i for i in angles1]\n",
    "    angles2 = [i - 2*np.pi if i > np.pi else i for i in angles2]\n",
    "    \n",
    "    print ('Angles for solution 1: {}, {}'.format(math.degrees(angles1[0]), math.degrees(angles1[1])))\n",
    "    print ('Angles for solution 2: {}, {}'.format(math.degrees(angles2[0]), math.degrees(angles2[1])))\n",
    "    return angles1, angles2"
   ]
  },
  {
   "cell_type": "code",
   "execution_count": 135,
   "id": "88e36cfc",
   "metadata": {
    "scrolled": false
   },
   "outputs": [
    {
     "name": "stdout",
     "output_type": "stream",
     "text": [
      "Angles for solution 1: -89.90450710254372, 89.90450687732587\n",
      "Angles for solution 2: 89.90450710254372, -89.90450687732587\n"
     ]
    },
    {
     "data": {
      "text/plain": [
       "([-1.5691296613220151, 1.5691296573912221],\n",
       " [1.5691296613220151, -1.5691296573912221])"
      ]
     },
     "execution_count": 135,
     "metadata": {},
     "output_type": "execute_result"
    },
    {
     "data": {
      "image/png": "[encoded data removed]",
      "text/plain": [
       "<Figure size 576x576 with 1 Axes>"
      ]
     },
     "metadata": {
      "needs_background": "light"
     },
     "output_type": "display_data"
    }
   ],
   "source": [
    "get_angles((0.01,0))"
   ]
  },
  {
   "cell_type": "code",
   "execution_count": 136,
   "id": "83a1038e",
   "metadata": {},
   "outputs": [
    {
     "name": "stdout",
     "output_type": "stream",
     "text": [
      "Angles for solution 1: 90.0, 90.0\n",
      "Angles for solution 2: 90.0, 90.0\n"
     ]
    },
    {
     "data": {
      "text/plain": [
       "([1.5707963267948966, 1.5707963267948966],\n",
       " [1.5707963267948966, 1.5707963267948966])"
      ]
     },
     "execution_count": 136,
     "metadata": {},
     "output_type": "execute_result"
    },
    {
     "data": {
      "image/png": "[encoded data removed]",
      "text/plain": [
       "<Figure size 576x576 with 1 Axes>"
      ]
     },
     "metadata": {
      "needs_background": "light"
     },
     "output_type": "display_data"
    }
   ],
   "source": [
    "get_angles((0,6))"
   ]
  },
  {
   "cell_type": "code",
   "execution_count": 141,
   "id": "08ff27b6",
   "metadata": {
    "scrolled": true
   },
   "outputs": [],
   "source": [
    "x = -5 #destination point\n",
    "y = -1\n",
    "delta_theta, delta_phi = calc_moves(H,R_theta,R_phi,0.00,0.00,0,1)\n",
    "direc1,motor1,angle1,direc2,motor2,angle2 = calc_movetables(H,R_theta,R_phi,0.01,0.01,0,6)"
   ]
  },
  {
   "cell_type": "code",
   "execution_count": 149,
   "id": "bc3f3d9d",
   "metadata": {},
   "outputs": [],
   "source": [
    "direc1,motor1,angle1,direc2,motor2,angle2 = calc_movetables(H,R_theta,R_phi,0.01,0.01,0.00,0.00)"
   ]
  },
  {
   "cell_type": "code",
   "execution_count": 150,
   "id": "5d9f2079",
   "metadata": {},
   "outputs": [
    {
     "name": "stdout",
     "output_type": "stream",
     "text": [
      "150.4059317731396 19.18813645372093\n",
      "ccw theta 204.86495238571428 ccw phi 0.270095144935158\n"
     ]
    }
   ],
   "source": [
    "#Does the solution look right?\n",
    "print(delta_theta, delta_phi)\n",
    "print(direc1,motor1,angle1,direc2,motor2,angle2)\n"
   ]
  },
  {
   "cell_type": "code",
   "execution_count": null,
   "id": "3f20fecd",
   "metadata": {},
   "outputs": [],
   "source": []
  },
  {
   "cell_type": "code",
   "execution_count": null,
   "id": "8f134339",
   "metadata": {},
   "outputs": [],
   "source": []
  }
 ],
 "metadata": {
  "kernelspec": {
   "display_name": "Python 3",
   "language": "python",
   "name": "python3"
  },
  "language_info": {
   "codemirror_mode": {
    "name": "ipython",
    "version": 3
   },
   "file_extension": ".py",
   "mimetype": "text/x-python",
   "name": "python",
   "nbconvert_exporter": "python",
   "pygments_lexer": "ipython3",
   "version": "3.6.15"
  }
 },
 "nbformat": 4,
 "nbformat_minor": 5
}
